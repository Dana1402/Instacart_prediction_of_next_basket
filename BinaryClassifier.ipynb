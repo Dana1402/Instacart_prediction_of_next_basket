{
 "cells": [
  {
   "cell_type": "code",
   "execution_count": null,
   "metadata": {
    "id": "hd2tYzqzU0Fq"
   },
   "outputs": [],
   "source": [
    "# pip install ml_metrics"
   ]
  },
  {
   "cell_type": "code",
   "execution_count": 4,
   "metadata": {
    "id": "GK_mW72AkHUt"
   },
   "outputs": [],
   "source": [
    "# pip install catboost"
   ]
  },
  {
   "cell_type": "code",
   "execution_count": 15,
   "metadata": {},
   "outputs": [],
   "source": [
    "# !pip install qgrid\n",
    "# !jupyter nbextension enable --py --sys-prefix widgetsnbextension"
   ]
  },
  {
   "cell_type": "code",
   "execution_count": 2,
   "metadata": {},
   "outputs": [],
   "source": [
    "# !pip3 install ml_metrics"
   ]
  },
  {
   "cell_type": "code",
   "execution_count": 2,
   "metadata": {},
   "outputs": [],
   "source": [
    "# !pip install mlxtend"
   ]
  },
  {
   "cell_type": "code",
   "execution_count": 36,
   "metadata": {},
   "outputs": [],
   "source": [
    "# !pip install pandarallel"
   ]
  },
  {
   "cell_type": "code",
   "execution_count": 10,
   "metadata": {},
   "outputs": [],
   "source": [
    "# !pip wheel . -w dist\n",
    "# !pip install -U pip wheel setuptools"
   ]
  },
  {
   "cell_type": "code",
   "execution_count": 12,
   "metadata": {},
   "outputs": [],
   "source": [
    "# !pip install lightautoml"
   ]
  },
  {
   "cell_type": "code",
   "execution_count": 3,
   "metadata": {
    "id": "43jqIjlLEetm"
   },
   "outputs": [],
   "source": [
    "import pandas as pd\n",
    "import numpy as np\n",
    "\n",
    "import warnings\n",
    "import random\n",
    "import gc\n",
    "\n",
    "import tensorflow as tf\n",
    "from sklearn.model_selection import train_test_split\n",
    "from catboost import CatBoostClassifier\n",
    "# import lightgbm as lgb\n",
    "# import ml_metrics as mlm\n",
    "import qgrid\n",
    "import seaborn as sns\n",
    "from matplotlib import pyplot as plt\n",
    "from sklearn.model_selection import KFold\n",
    "\n",
    "\n",
    "from sklearn.preprocessing import StandardScaler\n",
    "# from  sklearn.metrics.pairwise import pairwise_distances\n",
    "# from  sklearn.metrics.pairwise import cosine_similarity\n",
    "from sklearn.neighbors import NearestNeighbors\n",
    "import pickle\n",
    "\n",
    "import multiprocessing\n",
    "from multiprocessing import Pool\n",
    "\n",
    "from pandarallel import pandarallel\n",
    "# pandarallel.initialize(progress_bar=True)\n",
    "warnings.simplefilter(\"ignore\")"
   ]
  },
  {
   "cell_type": "code",
   "execution_count": 4,
   "metadata": {
    "id": "THLbJv7MEU17"
   },
   "outputs": [],
   "source": [
    "df_products = pd.read_csv('products.csv')\n",
    "df_transactions = pd.read_csv('transactions.csv')"
   ]
  },
  {
   "cell_type": "markdown",
   "metadata": {},
   "source": [
    "## Discussing the task"
   ]
  },
  {
   "cell_type": "markdown",
   "metadata": {},
   "source": [
    "Можно разделить задачу на два составляющие:\n",
    "\n",
    "    1. Как можно точнее определить какие продукты клиент перезакажет в новом заказе.\n",
    "    2. Добавить продукты, которых может не быть в истории покупок пользователя, но которые он может купить в следующий раз. Что заказывают пользователи, похожие на текущего. Что заказывают с товаром, который часто перезаказывает текущий клиент(ассоциативные правила)."
   ]
  },
  {
   "cell_type": "markdown",
   "metadata": {},
   "source": [
    "## Preparing data, manage features"
   ]
  },
  {
   "cell_type": "code",
   "execution_count": 4,
   "metadata": {},
   "outputs": [],
   "source": [
    "client_basket = df_transactions.groupby('user_id').apply(lambda x: x[x.order_number == x.order_number.max()])\n",
    "client_basket = client_basket.reset_index(drop= True)"
   ]
  },
  {
   "cell_type": "markdown",
   "metadata": {},
   "source": [
    "**Посчитаем процент продуктов, перезаказанных пользователями по отношению к общему количеству уже заказанных продуктов**"
   ]
  },
  {
   "cell_type": "code",
   "execution_count": 5,
   "metadata": {},
   "outputs": [
    {
     "name": "stdout",
     "output_type": "stream",
     "text": [
      "Средний процент перезаказанных товаров по всем заказам: 0.5684645937617683\n",
      "Минимальный процент перезаказанных товаров по всем заказам: 0.0\n",
      "Максимальный процент перезаказанных товаров по всем заказам: 0.9895287958115183\n"
     ]
    }
   ],
   "source": [
    "# Сколько продуктов купил клиент\n",
    "total_unique_products = df_transactions[['user_id', 'product_id']].groupby('user_id').agg('count')\n",
    "total_unique_products = total_unique_products.rename(columns = {'product_id': 'total_products'})\n",
    "# Сколько перезаказано \n",
    "reord = df_transactions.groupby('user_id').agg(sum)['reordered']\n",
    "reord = total_unique_products.merge(reord, on = 'user_id')\n",
    "reord['ratio'] = reord['reordered']/reord['total_products']\n",
    "avd_percent = reord['ratio'].sum()/len(reord)\n",
    "min_reord = reord['ratio'].min()\n",
    "max_reord = reord['ratio'].max()\n",
    "\n",
    "print(f'Средний процент перезаказанных товаров по всем заказам: {avd_percent}')\n",
    "print(f'Минимальный процент перезаказанных товаров по всем заказам: {min_reord}')\n",
    "print(f'Максимальный процент перезаказанных товаров по всем заказам: {max_reord}')"
   ]
  },
  {
   "cell_type": "code",
   "execution_count": 6,
   "metadata": {},
   "outputs": [
    {
     "name": "stdout",
     "output_type": "stream",
     "text": [
      "Сколько пользователей, которые вообще не повтоятся в заказах 1\n",
      "Сколько пользователей, которые почти полностью повторяют заказы 669\n"
     ]
    }
   ],
   "source": [
    "print('Сколько пользователей, которые вообще не повтоятся в заказах',( reord[reord['ratio'] == 0].count())[0])\n",
    "print('Сколько пользователей, которые почти полностью повторяют заказы', (reord[reord['ratio'] >= 0.9].count())[0])"
   ]
  },
  {
   "cell_type": "markdown",
   "metadata": {},
   "source": [
    "**Посчитаем процент перезаказанных продуктов по отношению о остальным продуктам в текущем заказе**"
   ]
  },
  {
   "cell_type": "code",
   "execution_count": 7,
   "metadata": {},
   "outputs": [
    {
     "name": "stdout",
     "output_type": "stream",
     "text": [
      "Средний процент перезаказанных товаров в последних заказах: 0.7033680672440027\n",
      "Минимальный процент перезаказанных товаров в последних заказах: 0.0\n",
      "Максимальный процент перезаказанных товаров в последних заказах: 1.0\n"
     ]
    }
   ],
   "source": [
    "reord_bask = client_basket.groupby('user_id').agg('sum')['reordered']\n",
    "reord_bask = client_basket.groupby('user_id').agg('count').iloc[:,:1].merge(reord_bask, on = 'user_id')\n",
    "reord_bask['ratio'] = reord_bask['reordered']/reord_bask['order_id']\n",
    "avd_percent = reord_bask['ratio'].sum()/len(reord_bask)\n",
    "min_reord = reord_bask['ratio'].min()\n",
    "max_reord = reord_bask['ratio'].max()\n",
    "\n",
    "print(f'Средний процент перезаказанных товаров в последних заказах: {avd_percent}')\n",
    "print(f'Минимальный процент перезаказанных товаров в последних заказах: {min_reord}')\n",
    "print(f'Максимальный процент перезаказанных товаров в последних заказах: {max_reord}')"
   ]
  },
  {
   "cell_type": "code",
   "execution_count": 8,
   "metadata": {},
   "outputs": [
    {
     "name": "stdout",
     "output_type": "stream",
     "text": [
      "Процент пользователей, которые не повторили последний заказ 0.0317\n",
      "Процент пользователей, которые полностью повторили последний заказ 0.24177\n"
     ]
    }
   ],
   "source": [
    "print('Процент пользователей, которые не повторили последний заказ',( reord_bask[reord_bask['ratio'] == 0].count()/100000)[0])\n",
    "print('Процент пользователей, которые полностью повторили последний заказ', (reord_bask[reord_bask['ratio'] == 1].count()/100000)[0])"
   ]
  },
  {
   "cell_type": "markdown",
   "metadata": {},
   "source": [
    "_______________________"
   ]
  },
  {
   "cell_type": "markdown",
   "metadata": {},
   "source": [
    "Посмотрим наименьшее количество заказов (самые короткие истории заказов). Проверим нет ли пользователей без истории."
   ]
  },
  {
   "cell_type": "code",
   "execution_count": 147,
   "metadata": {},
   "outputs": [
    {
     "data": {
      "text/html": [
       "<div>\n",
       "<style scoped>\n",
       "    .dataframe tbody tr th:only-of-type {\n",
       "        vertical-align: middle;\n",
       "    }\n",
       "\n",
       "    .dataframe tbody tr th {\n",
       "        vertical-align: top;\n",
       "    }\n",
       "\n",
       "    .dataframe thead th {\n",
       "        text-align: right;\n",
       "    }\n",
       "</style>\n",
       "<table border=\"1\" class=\"dataframe\">\n",
       "  <thead>\n",
       "    <tr style=\"text-align: right;\">\n",
       "      <th></th>\n",
       "      <th>user_id</th>\n",
       "      <th>order_number</th>\n",
       "    </tr>\n",
       "  </thead>\n",
       "  <tbody>\n",
       "    <tr>\n",
       "      <th>14443</th>\n",
       "      <td>29935</td>\n",
       "      <td>9</td>\n",
       "    </tr>\n",
       "  </tbody>\n",
       "</table>\n",
       "</div>"
      ],
      "text/plain": [
       "       user_id  order_number\n",
       "14443    29935             9"
      ]
     },
     "execution_count": 147,
     "metadata": {},
     "output_type": "execute_result"
    }
   ],
   "source": [
    "df_hst = df_transactions.groupby('user_id')['order_number'].agg('max').reset_index().sort_values(by = 'order_number')\n",
    "df_hst.head(1)"
   ]
  },
  {
   "cell_type": "markdown",
   "metadata": {},
   "source": [
    "Посмотрим распределение по количеству заказов"
   ]
  },
  {
   "cell_type": "code",
   "execution_count": 40,
   "metadata": {},
   "outputs": [
    {
     "data": {
      "image/png": "[encoded data removed]",
      "text/plain": [
       "<Figure size 640x480 with 1 Axes>"
      ]
     },
     "metadata": {},
     "output_type": "display_data"
    }
   ],
   "source": [
    "plt.hist(df_hst['order_number'], bins = 30)\n",
    "plt.show()"
   ]
  },
  {
   "cell_type": "markdown",
   "metadata": {},
   "source": [
    "_______\n",
    "По данным видно что наименьшая история равна 9 заказам. По данной истории можно также анализировать предпочтения. Пользователей с 1 заказом нет.\n",
    "Большинство сделали до 20 заказов.\n",
    "Также есть группа, которая уже сделала около 100 заказов. "
   ]
  },
  {
   "cell_type": "markdown",
   "metadata": {},
   "source": [
    "### Number orders of the product by user in history"
   ]
  },
  {
   "cell_type": "code",
   "execution_count": 5,
   "metadata": {
    "id": "Ni_Qa4Jy3JqU"
   },
   "outputs": [],
   "source": [
    "df_re = df_transactions[['user_id', 'order_id', 'order_number', 'product_id', 'reordered']]"
   ]
  },
  {
   "cell_type": "markdown",
   "metadata": {},
   "source": [
    "Гипотетически если продукты были заказаны наибольшее количество раз пользователем, то он вероятнее закажет их опять. \n",
    "Поэтому одним признаком для обучения возьмем количество покупок продукта в истории пользователя"
   ]
  },
  {
   "cell_type": "code",
   "execution_count": 5,
   "metadata": {},
   "outputs": [],
   "source": [
    "num_prod_hist = df_re.groupby(['user_id', 'product_id']).agg('count')['order_number'].reset_index()\n",
    "num_prod_hist = num_prod_hist.rename(columns = {'order_number':'tot_purchases'})\n",
    "df_re = df_re.merge(num_prod_hist, how = 'left', on = ['user_id', 'product_id']).fillna(0)"
   ]
  },
  {
   "cell_type": "markdown",
   "metadata": {},
   "source": [
    " ### Weight"
   ]
  },
  {
   "cell_type": "markdown",
   "metadata": {},
   "source": [
    "Также если в прошлом пользователь покупал продукт, но потом перестал, то вряд ли он его купит в следующем заказе.\n",
    "Поэтому добавим вес, чтобы новые заказы по продукты были более важны."
   ]
  },
  {
   "cell_type": "code",
   "execution_count": 6,
   "metadata": {},
   "outputs": [],
   "source": [
    "# 2. Last order number of a product ordered by a client\n",
    "max_order_prod_usr = df_re[['user_id', 'order_number']].groupby('user_id').agg('max')\n",
    "max_order_prod_usr = max_order_prod_usr.rename(columns = {'order_number': 'max_order'})\n",
    "df_re = df_re.merge(max_order_prod_usr, how = 'left', on = 'user_id').fillna(0)"
   ]
  },
  {
   "cell_type": "code",
   "execution_count": 7,
   "metadata": {},
   "outputs": [],
   "source": [
    "df_re['weight'] = df_re.order_number/df_re.max_order"
   ]
  },
  {
   "cell_type": "code",
   "execution_count": 8,
   "metadata": {},
   "outputs": [],
   "source": [
    "df_re['weight_cum'] = df_re.groupby(['user_id', 'product_id'])['weight'].cumsum()"
   ]
  },
  {
   "cell_type": "code",
   "execution_count": 9,
   "metadata": {},
   "outputs": [],
   "source": [
    "df_re.drop(columns = (['max_order', 'weight']), axis = 1, inplace = True)"
   ]
  },
  {
   "cell_type": "code",
   "execution_count": 10,
   "metadata": {},
   "outputs": [
    {
     "data": {
      "text/html": [
       "<div>\n",
       "<style scoped>\n",
       "    .dataframe tbody tr th:only-of-type {\n",
       "        vertical-align: middle;\n",
       "    }\n",
       "\n",
       "    .dataframe tbody tr th {\n",
       "        vertical-align: top;\n",
       "    }\n",
       "\n",
       "    .dataframe thead th {\n",
       "        text-align: right;\n",
       "    }\n",
       "</style>\n",
       "<table border=\"1\" class=\"dataframe\">\n",
       "  <thead>\n",
       "    <tr style=\"text-align: right;\">\n",
       "      <th></th>\n",
       "      <th>user_id</th>\n",
       "      <th>order_id</th>\n",
       "      <th>order_number</th>\n",
       "      <th>product_id</th>\n",
       "      <th>reordered</th>\n",
       "      <th>weight_cum</th>\n",
       "    </tr>\n",
       "  </thead>\n",
       "  <tbody>\n",
       "    <tr>\n",
       "      <th>0</th>\n",
       "      <td>1</td>\n",
       "      <td>2539329</td>\n",
       "      <td>1</td>\n",
       "      <td>196</td>\n",
       "      <td>0.0</td>\n",
       "      <td>0.1</td>\n",
       "    </tr>\n",
       "    <tr>\n",
       "      <th>1</th>\n",
       "      <td>1</td>\n",
       "      <td>2539329</td>\n",
       "      <td>1</td>\n",
       "      <td>14084</td>\n",
       "      <td>0.0</td>\n",
       "      <td>0.1</td>\n",
       "    </tr>\n",
       "    <tr>\n",
       "      <th>2</th>\n",
       "      <td>1</td>\n",
       "      <td>2539329</td>\n",
       "      <td>1</td>\n",
       "      <td>12427</td>\n",
       "      <td>0.0</td>\n",
       "      <td>0.1</td>\n",
       "    </tr>\n",
       "    <tr>\n",
       "      <th>3</th>\n",
       "      <td>1</td>\n",
       "      <td>2539329</td>\n",
       "      <td>1</td>\n",
       "      <td>26088</td>\n",
       "      <td>0.0</td>\n",
       "      <td>0.1</td>\n",
       "    </tr>\n",
       "    <tr>\n",
       "      <th>4</th>\n",
       "      <td>1</td>\n",
       "      <td>2539329</td>\n",
       "      <td>1</td>\n",
       "      <td>26405</td>\n",
       "      <td>0.0</td>\n",
       "      <td>0.1</td>\n",
       "    </tr>\n",
       "  </tbody>\n",
       "</table>\n",
       "</div>"
      ],
      "text/plain": [
       "   user_id  order_id  order_number  product_id  reordered  weight_cum\n",
       "0        1   2539329             1         196        0.0         0.1\n",
       "1        1   2539329             1       14084        0.0         0.1\n",
       "2        1   2539329             1       12427        0.0         0.1\n",
       "3        1   2539329             1       26088        0.0         0.1\n",
       "4        1   2539329             1       26405        0.0         0.1"
      ]
     },
     "execution_count": 10,
     "metadata": {},
     "output_type": "execute_result"
    }
   ],
   "source": [
    "df_re.head()"
   ]
  },
  {
   "cell_type": "markdown",
   "metadata": {},
   "source": [
    "### Association rules"
   ]
  },
  {
   "cell_type": "markdown",
   "metadata": {},
   "source": [
    "Построение ассоциаивных правил (что с чем покупают) строится на основных понятиях:\n",
    "\n",
    "   **Поддержка** - совокупность всех операция с продуктами A и B/ все транзакции\n",
    "    \n",
    "   **Уверенность** - все транзакции с продуктами A и B/ все транзакции с A "
   ]
  },
  {
   "cell_type": "markdown",
   "metadata": {},
   "source": [
    "Добавим ассоциативные правила. Какие продукты часто покупаются вместе."
   ]
  },
  {
   "cell_type": "code",
   "execution_count": 4,
   "metadata": {},
   "outputs": [],
   "source": [
    "import mlxtend\n",
    "from mlxtend.frequent_patterns import apriori, association_rules\n",
    "from mlxtend.preprocessing import TransactionEncoder"
   ]
  },
  {
   "cell_type": "markdown",
   "metadata": {},
   "source": [
    "Посмотрим на распределение количества покупок продуктов"
   ]
  },
  {
   "cell_type": "code",
   "execution_count": 5,
   "metadata": {},
   "outputs": [
    {
     "data": {
      "image/png": "[encoded data removed]",
      "text/plain": [
       "<Figure size 640x480 with 1 Axes>"
      ]
     },
     "metadata": {},
     "output_type": "display_data"
    }
   ],
   "source": [
    "cnt_prod = df_transactions[['order_id', 'product_id']].groupby('product_id').agg('count').sort_values(by = 'order_id')\n",
    "plt.hist(np.log(cnt_prod), bins = 30)\n",
    "plt.title('Распределение количества покупок продуктов(логарифмированная шкала)')\n",
    "plt.xlabel('кол-во заказов')\n",
    "plt.ylabel('кол-во продуктов')\n",
    "plt.show()"
   ]
  },
  {
   "cell_type": "markdown",
   "metadata": {},
   "source": [
    "Есть значительная часть продуктов, которые заказали мало раз. \n",
    "Уберем продукты, котрые заказали менее 25 раз"
   ]
  },
  {
   "cell_type": "code",
   "execution_count": 6,
   "metadata": {},
   "outputs": [],
   "source": [
    "cnt_prod = cnt_prod[cnt_prod['order_id'] >= 25]"
   ]
  },
  {
   "cell_type": "markdown",
   "metadata": {},
   "source": [
    "подготовим датасет, сделаем список продуктов по каждому заказу"
   ]
  },
  {
   "cell_type": "code",
   "execution_count": 7,
   "metadata": {},
   "outputs": [],
   "source": [
    "data_asc_rules = list(df_transactions[df_transactions['product_id'].isin(cnt_prod.index)].groupby(['user_id', 'order_number'])['product_id'].apply(list))  "
   ]
  },
  {
   "cell_type": "code",
   "execution_count": 11,
   "metadata": {},
   "outputs": [
    {
     "data": {
      "text/plain": [
       "867416.3333333334"
      ]
     },
     "execution_count": 11,
     "metadata": {},
     "output_type": "execute_result"
    }
   ],
   "source": [
    "len(data_asc_rules)"
   ]
  },
  {
   "cell_type": "markdown",
   "metadata": {},
   "source": [
    "#### Apriori Algorithm"
   ]
  },
  {
   "cell_type": "markdown",
   "metadata": {},
   "source": [
    "**Алгоритм apyori, написанный Ю Мочизуки (Yu Mochizuki)** https://github.com/ymoch/apyori"
   ]
  },
  {
   "cell_type": "code",
   "execution_count": 7,
   "metadata": {},
   "outputs": [],
   "source": [
    "from apyori import apriori"
   ]
  },
  {
   "cell_type": "code",
   "execution_count": null,
   "metadata": {},
   "outputs": [],
   "source": [
    "%%time\n",
    "result = list(apriori(data_asc_rules, min_support = 0.001, min_confidence = 0.1, min_lift = 4, min_length = 2, max_legth = 5))"
   ]
  },
  {
   "cell_type": "code",
   "execution_count": null,
   "metadata": {},
   "outputs": [],
   "source": [
    "# Вспомогательный датасет с ассоциативными правилами\n",
    "output = []\n",
    "for RelationRecord in result:\n",
    "    o = list(RelationRecord[0])\n",
    "#     support = RelationRecord[1]\n",
    "    output.append(o)\n",
    "df_ar = pd.DataFrame(output)"
   ]
  },
  {
   "cell_type": "code",
   "execution_count": null,
   "metadata": {},
   "outputs": [],
   "source": [
    "# Посмотрим, какие сеты нашлись:\n",
    "df_ar['product_1'] = df_ar[0].map(df_products.product_name)\n",
    "df_ar['product_2'] = df_ar[1].map(df_products.product_name)\n",
    "df_ar['product_3'] = df_ar[2].map(df_products.product_name)\n",
    "df_ar['product_4'] = df_ar[3].map(df_products.product_name)\n",
    "df_ar.head()"
   ]
  },
  {
   "cell_type": "code",
   "execution_count": null,
   "metadata": {},
   "outputs": [],
   "source": [
    "df_ar.tail()"
   ]
  },
  {
   "cell_type": "markdown",
   "metadata": {},
   "source": [
    "По данным видно, что вместе заказывают наборы для приготовления (например рыбу и заправки к ней), несколько итальянских продуктов, несколько видов напитков (возможно для коктейлей), несколько видов супов, \"студенческие наборы\" (снеки плюс канцелярия)"
   ]
  },
  {
   "cell_type": "markdown",
   "metadata": {},
   "source": [
    "### Collaborative filtering(user_based)"
   ]
  },
  {
   "cell_type": "markdown",
   "metadata": {},
   "source": [
    "Чтобы реализовать второй пункт в задаче и дополнить предсказание, найдем похожих пользователей и продукты, которых нет в сете текущего пользователя. В качестве \"рейтнга\" будем использовать число покупок товара пользователем"
   ]
  },
  {
   "cell_type": "code",
   "execution_count": 11,
   "metadata": {},
   "outputs": [],
   "source": [
    "mtrx = df_re[['user_id', 'product_id', 'order_number']].groupby(['user_id', 'product_id']).agg('count').reset_index()"
   ]
  },
  {
   "cell_type": "code",
   "execution_count": 12,
   "metadata": {},
   "outputs": [],
   "source": [
    "def pivotSegment(lst_usr,passedFrame):\n",
    "    \"\"\"Функция, делающая pivot, в результате получаем разреженную матрицу\"\"\"\n",
    "    frame = passedFrame[passedFrame.user_id.isin(lst_usr)]\n",
    "    \n",
    "   # добавляем нулевого пользователя с размером столбцов, равным все продуктам\n",
    "    span = pd.DataFrame() \n",
    "    span['product_id'] = [i for i in mtrx.product_id.unique()]\n",
    "    span['user_id'] = 0\n",
    "    span['order_number']=0\n",
    "\n",
    "    frame = frame.append(span)\n",
    "    frame = frame.pivot(values = 'order_number',index= 'user_id',columns='product_id').fillna(0).astype('int8')\n",
    "    # отрезаем нулевого пользователя\n",
    "    frame = frame[frame.index != 0] \n",
    "    return frame"
   ]
  },
  {
   "cell_type": "code",
   "execution_count": 13,
   "metadata": {},
   "outputs": [
    {
     "name": "stdout",
     "output_type": "stream",
     "text": [
      "Wall time: 6min 30s\n"
     ]
    }
   ],
   "source": [
    "%%time\n",
    "pvt_df = pd.DataFrame()\n",
    "users = mtrx.user_id.unique()\n",
    "# Берем батчи по 5000 пользователей, чтобы не было ошибок с памятью\n",
    "for i in range(0, 100000, 5000):\n",
    "    lst_usr = users[i:i+5000]\n",
    "    mini_df = pivotSegment(lst_usr, mtrx)\n",
    "    pvt_df = pvt_df.append(mini_df)\n",
    "    gc.collect()"
   ]
  },
  {
   "cell_type": "code",
   "execution_count": 9,
   "metadata": {},
   "outputs": [
    {
     "name": "stdout",
     "output_type": "stream",
     "text": [
      "Wall time: 7min 9s\n"
     ]
    }
   ],
   "source": [
    "%%time\n",
    "# список алгоритмов\n",
    "alhs = []\n",
    "for i in range(0, len(pvt_df), 10000):\n",
    "    # создаем и обучаем алгоритм\n",
    "    nbrs = NearestNeighbors(n_neighbors=3)\n",
    "    nbrs.fit(pvt_df.iloc[i:i+10000])\n",
    "    # разбиваем датасет на несколько и делаем соответственно список KNN моделей\n",
    "    alhs.append(nbrs)"
   ]
  },
  {
   "cell_type": "code",
   "execution_count": 20,
   "metadata": {},
   "outputs": [],
   "source": [
    "# import fillingdf"
   ]
  },
  {
   "cell_type": "code",
   "execution_count": 10,
   "metadata": {},
   "outputs": [],
   "source": [
    "KNN_dataset = pd.DataFrame()\n",
    "KNN_dataset['user_id'] = mtrx.user_id.unique()\n",
    "KNN_dataset['top1'] = ''\n",
    "KNN_dataset['top2'] = ''"
   ]
  },
  {
   "cell_type": "code",
   "execution_count": 8,
   "metadata": {},
   "outputs": [],
   "source": [
    "def get_sim_n_usr(usrs):\n",
    "    \"\"\"функция находит ближайшего соседа из всех предобученных можелей KNN и заполняет таблицу\n",
    "    KNN_dataset - таблица для всех пользователей и их ближайших топ-2 соседей\n",
    "    pvt_df - разряженная матрица вида юзер*продукт*количество куплено\n",
    "    alhs - список с предобученными на батчах алгоритмами\"\"\"\n",
    "    for en, usr_id in enumerate(usrs):\n",
    "        distances = []\n",
    "        indices = []\n",
    "        for j in range(len(alhs)):\n",
    "            vals = alhs[j].kneighbors(pvt_df[pvt_df.index == usr_id])\n",
    "            distances.extend(vals[0][0])\n",
    "            indices.extend(vals[1][0])\n",
    "        # удаляем самого юзера\n",
    "        distances.pop(0)\n",
    "        indices.pop(0)\n",
    "        # dst_min = np.argsort(distances)[:2]\n",
    "\n",
    "        KNN_dataset['top1'].iloc[en] = indices[0]\n",
    "        KNN_dataset['top2'].iloc[en] = indices[1]\n",
    "\n",
    "        print('finished sleeping @ ', dt.datetime.now())"
   ]
  },
  {
   "cell_type": "code",
   "execution_count": 1,
   "metadata": {},
   "outputs": [],
   "source": [
    "if __name__ == '__main__':\n",
    "    pool = multiprocessing.Pool(8)\n",
    "    pool.map(get_sim_n_usr, (users[:8]))\n",
    "\n",
    "KNN_dataset.to_csv('collaborative_filtering.csv')"
   ]
  },
  {
   "cell_type": "code",
   "execution_count": 40,
   "metadata": {},
   "outputs": [
    {
     "data": {
      "text/html": [
       "<div>\n",
       "<style scoped>\n",
       "    .dataframe tbody tr th:only-of-type {\n",
       "        vertical-align: middle;\n",
       "    }\n",
       "\n",
       "    .dataframe tbody tr th {\n",
       "        vertical-align: top;\n",
       "    }\n",
       "\n",
       "    .dataframe thead th {\n",
       "        text-align: right;\n",
       "    }\n",
       "</style>\n",
       "<table border=\"1\" class=\"dataframe\">\n",
       "  <thead>\n",
       "    <tr style=\"text-align: right;\">\n",
       "      <th></th>\n",
       "      <th>user_id</th>\n",
       "      <th>top1</th>\n",
       "      <th>top2</th>\n",
       "    </tr>\n",
       "  </thead>\n",
       "  <tbody>\n",
       "    <tr>\n",
       "      <th>0</th>\n",
       "      <td>1</td>\n",
       "      <td>5010</td>\n",
       "      <td>9291</td>\n",
       "    </tr>\n",
       "    <tr>\n",
       "      <th>1</th>\n",
       "      <td>2</td>\n",
       "      <td>765</td>\n",
       "      <td>7571</td>\n",
       "    </tr>\n",
       "    <tr>\n",
       "      <th>2</th>\n",
       "      <td>3</td>\n",
       "      <td>8448</td>\n",
       "      <td>2841</td>\n",
       "    </tr>\n",
       "    <tr>\n",
       "      <th>3</th>\n",
       "      <td>7</td>\n",
       "      <td>6586</td>\n",
       "      <td>4940</td>\n",
       "    </tr>\n",
       "    <tr>\n",
       "      <th>4</th>\n",
       "      <td>13</td>\n",
       "      <td>673</td>\n",
       "      <td>8574</td>\n",
       "    </tr>\n",
       "    <tr>\n",
       "      <th>5</th>\n",
       "      <td>14</td>\n",
       "      <td>3676</td>\n",
       "      <td>7103</td>\n",
       "    </tr>\n",
       "    <tr>\n",
       "      <th>6</th>\n",
       "      <td>15</td>\n",
       "      <td>8573</td>\n",
       "      <td>5010</td>\n",
       "    </tr>\n",
       "    <tr>\n",
       "      <th>7</th>\n",
       "      <td>17</td>\n",
       "      <td>8108</td>\n",
       "      <td>5699</td>\n",
       "    </tr>\n",
       "    <tr>\n",
       "      <th>8</th>\n",
       "      <td>21</td>\n",
       "      <td></td>\n",
       "      <td></td>\n",
       "    </tr>\n",
       "    <tr>\n",
       "      <th>9</th>\n",
       "      <td>22</td>\n",
       "      <td></td>\n",
       "      <td></td>\n",
       "    </tr>\n",
       "  </tbody>\n",
       "</table>\n",
       "</div>"
      ],
      "text/plain": [
       "   user_id  top1  top2\n",
       "0        1  5010  9291\n",
       "1        2   765  7571\n",
       "2        3  8448  2841\n",
       "3        7  6586  4940\n",
       "4       13   673  8574\n",
       "5       14  3676  7103\n",
       "6       15  8573  5010\n",
       "7       17  8108  5699\n",
       "8       21            \n",
       "9       22            "
      ]
     },
     "execution_count": 40,
     "metadata": {},
     "output_type": "execute_result"
    }
   ],
   "source": [
    "# Пример заполнения датасета\n",
    "KNN_dataset.head(10)"
   ]
  },
  {
   "cell_type": "markdown",
   "metadata": {},
   "source": [
    "### Коэффициэнт сходства Пирсона"
   ]
  },
  {
   "cell_type": "markdown",
   "metadata": {},
   "source": [
    "$$r_{xy}=\\frac{(x_i - avg_x)(y_i - avg_y)}{\\sqrt{(x_i - avg_x)^2(y_i - avg_y)^2}}$$"
   ]
  },
  {
   "cell_type": "code",
   "execution_count": 15,
   "metadata": {},
   "outputs": [],
   "source": [
    "def pearson(pvt_df, fir_usr, sec_usr):\n",
    "    if fir_usr in users and fir_usr in users:\n",
    "        fir_sum = pvt_df[pvt_df.index == fir_usr].values.sum()\n",
    "        fir_len = len(pvt_df[pvt_df.index == fir_usr].values[0])\n",
    "        fir_usr_avg = fir_sum/fir_len\n",
    "        \n",
    "        sec_sum = pvt_df[pvt_df.index == sec_usr].values.sum()\n",
    "        sec_len = len(pvt_df[pvt_df.index == sec_usr].values[0])\n",
    "        sec_usr_avg = sec_sum/sec_len\n",
    "        \n",
    "        fir_keys = set(mtrx[mtrx.user_id == fir_usr]['product_id'].unique())\n",
    "        sec_keys = set(mtrx[mtrx.user_id == sec_usr]['product_id'].unique())\n",
    "        \n",
    "     # union of two sets\n",
    "        all_items = (fir_keys|sec_keys)\n",
    "        dividend = 0\n",
    "        divisor_a = 0\n",
    "        divisor_b = 0\n",
    "        \n",
    "        # normalisation by substracting average\n",
    "        for i in all_items:\n",
    "            nr_a = (pvt_df[pvt_df.index == fir_usr][i] - fir_usr_avg).values[0]\n",
    "            nr_b = (pvt_df[pvt_df.index == sec_usr][i] - sec_usr_avg).values[0]\n",
    "            dividend += (nr_a) * (nr_b)\n",
    "            \n",
    "            divisor_a += pow(nr_a, 2)\n",
    "            divisor_b += pow(nr_b, 2)\n",
    "        \n",
    "        divisor = np.sqrt((divisor_a)*(divisor_b))\n",
    "        if divisor != 0:\n",
    "            return dividend / divisor\n",
    "        \n",
    "        return 0"
   ]
  },
  {
   "cell_type": "code",
   "execution_count": 18,
   "metadata": {},
   "outputs": [
    {
     "name": "stdout",
     "output_type": "stream",
     "text": [
      "Wall time: 1.39 s\n"
     ]
    },
    {
     "data": {
      "text/plain": [
       "0.005232994195751078"
      ]
     },
     "execution_count": 18,
     "metadata": {},
     "output_type": "execute_result"
    }
   ],
   "source": [
    "%%time\n",
    "pearson(pvt_df, 1, 7)"
   ]
  },
  {
   "cell_type": "markdown",
   "metadata": {},
   "source": [
    "### Коэффициэнт сходства Жаккара"
   ]
  },
  {
   "attachments": {
    "image.png": {
     "image/png": "[encoded data removed]"
    }
   },
   "cell_type": "markdown",
   "metadata": {},
   "source": [
    "![image.png](attachment:image.png)"
   ]
  },
  {
   "cell_type": "markdown",
   "metadata": {},
   "source": [
    "$$J = \\frac{UsersBoughtBothProducts}{UsersBoughtEither1or2}$$"
   ]
  },
  {
   "cell_type": "code",
   "execution_count": 16,
   "metadata": {},
   "outputs": [],
   "source": [
    "def jaccard(pvt_df, fir_usr, sec_usr):\n",
    "    if fir_usr in users and sec_usr in users:\n",
    "        # вычисляем пересечение между пользователями\n",
    "        intersect = set(pvt_df[pvt_df.index == fir_usr].values[0])&set(pvt_df[pvt_df.index == sec_usr].values[0])\n",
    "        \n",
    "        union = set(pvt_df[pvt_df.index == fir_usr].columns)|set(pvt_df[pvt_df.index == sec_usr].columns)\n",
    "        \n",
    "        return len(intersect)/int(len(union))\n",
    "    else:\n",
    "        return 0"
   ]
  },
  {
   "cell_type": "code",
   "execution_count": 17,
   "metadata": {},
   "outputs": [
    {
     "name": "stdout",
     "output_type": "stream",
     "text": [
      "Wall time: 4.74 s\n"
     ]
    },
    {
     "data": {
      "text/plain": [
       "0.00012129788739512787"
      ]
     },
     "execution_count": 17,
     "metadata": {},
     "output_type": "execute_result"
    }
   ],
   "source": [
    "%%time\n",
    "jaccard(pvt_df, 1, 3)"
   ]
  },
  {
   "cell_type": "markdown",
   "metadata": {},
   "source": [
    "### Реализация похожести пользователей"
   ]
  },
  {
   "cell_type": "code",
   "execution_count": 19,
   "metadata": {},
   "outputs": [],
   "source": [
    "def similar_users(pvt_df, user, type):\n",
    "    # Сбор оценок(количество покупок) текущего пользователя\n",
    "    max_sim_usr = 0\n",
    "    s_cur = 0\n",
    "    similarity = dict()\n",
    "    switcher = {\n",
    "        'jaccard':jaccard,\n",
    "        'pearson':pearson,\n",
    "    }\n",
    "    for en, user_id in enumerate(pvt_df.index):\n",
    "        func = switcher.get(type)\n",
    "        s = func(pvt_df, user, user_id)\n",
    "        if s > 0.5 and user_id != user:\n",
    "            if s > s_cur:\n",
    "                max_sim_usr = user_id\n",
    "                s_cur = s    \n",
    "    return max_sim_usr"
   ]
  },
  {
   "cell_type": "code",
   "execution_count": 21,
   "metadata": {},
   "outputs": [],
   "source": [
    "# %%time\n",
    "# max_sim_usr = similar_users(pvt_df, 1, 'pearson')\n",
    "# max_sim_usr"
   ]
  },
  {
   "cell_type": "code",
   "execution_count": 169,
   "metadata": {},
   "outputs": [],
   "source": [
    "# %%time\n",
    "# similar_users(pvt_df, 1, 'jaccard')"
   ]
  },
  {
   "cell_type": "markdown",
   "metadata": {},
   "source": [
    "### Train_test split"
   ]
  },
  {
   "cell_type": "markdown",
   "metadata": {},
   "source": [
    "Так как задача предсказать следующий заказ, то тренировочные, тестовые и валидационные данные нужно разбить в соответствии с номерами заказов."
   ]
  },
  {
   "cell_type": "code",
   "execution_count": 11,
   "metadata": {},
   "outputs": [],
   "source": [
    "client_basket_ = df_transactions.groupby('user_id').apply(lambda x: x[x.order_number == x.order_number.max()])[['user_id', 'product_id']].reset_index(drop = True)\n",
    "client_previous_ = df_transactions.groupby('user_id').apply(lambda x: x[x.order_number == x.order_number.max()-1])['order_id']"
   ]
  },
  {
   "cell_type": "code",
   "execution_count": 12,
   "metadata": {
    "id": "XLzPqZ7BdVIp",
    "scrolled": true
   },
   "outputs": [],
   "source": [
    "cl_b = df_re[df_re.order_id.isin(client_previous_)]\n",
    "cl_b = cl_b.groupby(['user_id','order_id','order_number','product_id','reordered']).agg('max').reset_index()\n",
    "cl_b = cl_b.merge(client_basket_.groupby('user_id').agg(list).rename(columns = {'product_id': 'basket'})  , on = 'user_id')"
   ]
  },
  {
   "cell_type": "code",
   "execution_count": 13,
   "metadata": {},
   "outputs": [],
   "source": [
    "cl_b['is_in_cur_basket'] = 0"
   ]
  },
  {
   "cell_type": "code",
   "execution_count": 14,
   "metadata": {},
   "outputs": [],
   "source": [
    "for i in range(len(cl_b)):\n",
    "    if cl_b['product_id'].iloc[i] in (cl_b['basket'].iloc[i]):\n",
    "        cl_b['is_in_cur_basket'].iloc[i] = 1"
   ]
  },
  {
   "cell_type": "code",
   "execution_count": 15,
   "metadata": {},
   "outputs": [],
   "source": [
    "cl_b.drop(['order_id', 'reordered', 'basket'], axis = 1, inplace = True)"
   ]
  },
  {
   "cell_type": "code",
   "execution_count": 18,
   "metadata": {},
   "outputs": [
    {
     "data": {
      "text/html": [
       "<div>\n",
       "<style scoped>\n",
       "    .dataframe tbody tr th:only-of-type {\n",
       "        vertical-align: middle;\n",
       "    }\n",
       "\n",
       "    .dataframe tbody tr th {\n",
       "        vertical-align: top;\n",
       "    }\n",
       "\n",
       "    .dataframe thead th {\n",
       "        text-align: right;\n",
       "    }\n",
       "</style>\n",
       "<table border=\"1\" class=\"dataframe\">\n",
       "  <thead>\n",
       "    <tr style=\"text-align: right;\">\n",
       "      <th></th>\n",
       "      <th>user_id</th>\n",
       "      <th>order_number</th>\n",
       "      <th>product_id</th>\n",
       "      <th>weight_cum</th>\n",
       "      <th>is_in_cur_basket</th>\n",
       "    </tr>\n",
       "  </thead>\n",
       "  <tbody>\n",
       "    <tr>\n",
       "      <th>0</th>\n",
       "      <td>1</td>\n",
       "      <td>9</td>\n",
       "      <td>196</td>\n",
       "      <td>4.5</td>\n",
       "      <td>1</td>\n",
       "    </tr>\n",
       "    <tr>\n",
       "      <th>1</th>\n",
       "      <td>1</td>\n",
       "      <td>9</td>\n",
       "      <td>10258</td>\n",
       "      <td>4.4</td>\n",
       "      <td>1</td>\n",
       "    </tr>\n",
       "    <tr>\n",
       "      <th>2</th>\n",
       "      <td>1</td>\n",
       "      <td>9</td>\n",
       "      <td>12427</td>\n",
       "      <td>4.5</td>\n",
       "      <td>1</td>\n",
       "    </tr>\n",
       "    <tr>\n",
       "      <th>3</th>\n",
       "      <td>1</td>\n",
       "      <td>9</td>\n",
       "      <td>25133</td>\n",
       "      <td>4.2</td>\n",
       "      <td>1</td>\n",
       "    </tr>\n",
       "    <tr>\n",
       "      <th>4</th>\n",
       "      <td>1</td>\n",
       "      <td>9</td>\n",
       "      <td>46149</td>\n",
       "      <td>1.7</td>\n",
       "      <td>1</td>\n",
       "    </tr>\n",
       "  </tbody>\n",
       "</table>\n",
       "</div>"
      ],
      "text/plain": [
       "   user_id  order_number  product_id  weight_cum  is_in_cur_basket\n",
       "0        1             9         196         4.5                 1\n",
       "1        1             9       10258         4.4                 1\n",
       "2        1             9       12427         4.5                 1\n",
       "3        1             9       25133         4.2                 1\n",
       "4        1             9       46149         1.7                 1"
      ]
     },
     "execution_count": 18,
     "metadata": {},
     "output_type": "execute_result"
    }
   ],
   "source": [
    "cl_b.head()"
   ]
  },
  {
   "cell_type": "code",
   "execution_count": 44,
   "metadata": {},
   "outputs": [],
   "source": [
    "X_train, X_test, y_train, y_test = train_test_split(cl_b.loc[:, cl_b.columns != 'is_in_cur_basket'], cl_b['is_in_cur_basket'], test_size=0.33, random_state=42)\n",
    "X_test, X_val, y_test, y_val = train_test_split(X_test, y_test, test_size=0.33, random_state=42)"
   ]
  },
  {
   "cell_type": "code",
   "execution_count": 45,
   "metadata": {},
   "outputs": [
    {
     "name": "stdout",
     "output_type": "stream",
     "text": [
      "(717679, 4) (717679,)\n",
      "(236834, 4) (236834,)\n",
      "(116651, 4) (116651,)\n"
     ]
    }
   ],
   "source": [
    "print(X_train.shape, y_train.shape)\n",
    "print(X_test.shape, y_test.shape)\n",
    "print(X_val.shape, y_val.shape)"
   ]
  },
  {
   "cell_type": "code",
   "execution_count": 98,
   "metadata": {},
   "outputs": [
    {
     "name": "stdout",
     "output_type": "stream",
     "text": [
      "207946\n",
      "509733\n",
      "1: 0.28974792351455175\n",
      "0: 0.7102520764854482\n"
     ]
    }
   ],
   "source": [
    "# To_add calss_weight\n",
    "print(y_train.sum())\n",
    "print(717679-207946)\n",
    "print('1:', 207946/717679)\n",
    "print('0:', 509733/717679)"
   ]
  },
  {
   "cell_type": "markdown",
   "metadata": {
    "id": "3X7fyxPlP72Q"
   },
   "source": [
    "## Metrics"
   ]
  },
  {
   "cell_type": "code",
   "execution_count": 81,
   "metadata": {
    "id": "njKI7rquTbrQ"
   },
   "outputs": [],
   "source": [
    "from sklearn.metrics import accuracy_score\n",
    "from sklearn.metrics import precision_score\n",
    "from sklearn.metrics import roc_auc_score\n",
    "import ml_metrics as mlm"
   ]
  },
  {
   "cell_type": "code",
   "execution_count": 15,
   "metadata": {
    "id": "cEFAGZPuRXKI"
   },
   "outputs": [],
   "source": [
    "def get_accuracy(y_true, y_pred):\n",
    "    return accuracy_score(y_true, y_pred)"
   ]
  },
  {
   "cell_type": "code",
   "execution_count": 16,
   "metadata": {
    "id": "-ymL9uZRRh6b"
   },
   "outputs": [],
   "source": [
    "def get_precision(y_true, y_pred):\n",
    "    return precision_score(y_true, y_pred)"
   ]
  },
  {
   "cell_type": "code",
   "execution_count": 17,
   "metadata": {},
   "outputs": [],
   "source": [
    "def get_auc_roc(y_true, y_pred):\n",
    "    return roc_auc_score(y_true, y_pred)"
   ]
  },
  {
   "cell_type": "code",
   "execution_count": 40,
   "metadata": {
    "id": "Qt7qePr8RcJ2"
   },
   "outputs": [],
   "source": [
    "def Avg_Precision_at_n(df, n):\n",
    "    apk_list = [] \n",
    "    usrs_list = df.user_id.unique()\n",
    "    for i in usrs_list:\n",
    "        list_of_orders = df[df['user_id'] == i]['order_number'].unique()\n",
    "        for j in list_of_orders:\n",
    "            apk = mlm.apk(\n",
    "                list(df[(df['user_id'] == i)&(df['order_number'] == j)]['product_id']),\n",
    "                list(df[(df['user_id'] == i)&(df['order_number'] == j)&(df['prob']>0.4)].sort_values(by = 'prob', ascending = False)['product_id']), n)\n",
    "            apk_list.append(apk)\n",
    "    return apk_list"
   ]
  },
  {
   "cell_type": "code",
   "execution_count": 19,
   "metadata": {
    "id": "NjRSK3RBReRr"
   },
   "outputs": [],
   "source": [
    "def MAP_at_n(df, n):\n",
    "    apk_list = Avg_Precision_at_n(df, n)\n",
    "    return sum(apk_list)/len(apk_list)"
   ]
  },
  {
   "cell_type": "code",
   "execution_count": 35,
   "metadata": {
    "id": "cma22DiMP6o3"
   },
   "outputs": [],
   "source": [
    "def get_metrics(y_test: np.ndarray,\n",
    "                y_pred: np.ndarray,\n",
    "                df,\n",
    "                name: str = None):\n",
    "    \"\"\"Genegating table with metrics\"\"\"\n",
    "    df_metrics = pd.DataFrame()\n",
    "\n",
    "    df_metrics['model'] = [name]\n",
    "\n",
    "    cv_predicts = pd.DataFrame(np.zeros((5, 4)), columns = {'accuracy', 'precision', 'auc_roc', 'MAP@n'})\n",
    "    kf = KFold(n_splits=5)\n",
    "    for i, ids in enumerate(kf.split(y_test)):  \n",
    "    #  Берем по 1000-5000 строк, чтобы быстрее посчитать \n",
    "        cv_predicts['accuracy'].iloc[i] = get_accuracy(y_pred[ids[1][0]:ids[1][5000]], y_pred[ids[1][0]:ids[1][5000]])      \n",
    "        cv_predicts['precision'].iloc[i] = get_accuracy(y_pred[ids[1][0]:ids[1][5000]], y_pred[ids[1][0]:ids[1][5000]])\n",
    "        cv_predicts['auc_roc'].iloc[i] = get_accuracy(y_pred[ids[1][0]:ids[1][5000]], y_pred[ids[1][0]:ids[1][5000]])\n",
    "        cv_predicts['MAP@n'].iloc[i] = MAP_at_n(df.iloc[ids[1][0]:ids[1][5000]], n = 10)  \n",
    "        \n",
    "    df_metrics['accuracy'] = np.mean(cv_predicts['accuracy'])\n",
    "    df_metrics['precision'] = np.mean(cv_predicts['precision'])\n",
    "    df_metrics['auc_roc'] = np.mean(cv_predicts['auc_roc'])\n",
    "    df_metrics['MAP@n'] = np.mean(cv_predicts['MAP@n'])\n",
    "\n",
    "    return df_metrics"
   ]
  },
  {
   "cell_type": "code",
   "execution_count": 28,
   "metadata": {
    "id": "h3x654VceUv1"
   },
   "outputs": [],
   "source": [
    "def check_overfitting(model, X_train, y_train, X_test, y_test, metric):\n",
    "    \"\"\"\n",
    "    Check for overfitting\n",
    "    \"\"\"\n",
    "    y_pred_train = model.predict(X_train)\n",
    "    y_pred_test = model.predict(X_test)\n",
    "    mae_train = metric(y_train, y_pred_train)\n",
    "    mae_test = metric(y_test, y_pred_test)\n",
    "\n",
    "    print(f'{metric.__name__} train: %.3f' % mae_train)\n",
    "    print(f'{metric.__name__} test: %.3f' % mae_test)\n",
    "    print(f'delta = {(abs(mae_train - mae_test)/mae_train*100):.1f} %')"
   ]
  },
  {
   "cell_type": "markdown",
   "metadata": {},
   "source": [
    "## Modeling"
   ]
  },
  {
   "cell_type": "markdown",
   "metadata": {
    "id": "34aw09mq5mBm"
   },
   "source": [
    "### Baseline"
   ]
  },
  {
   "cell_type": "code",
   "execution_count": 21,
   "metadata": {
    "id": "sN6Sht5cP5d0"
   },
   "outputs": [],
   "source": [
    "from sklearn.linear_model import LogisticRegression"
   ]
  },
  {
   "cell_type": "code",
   "execution_count": 22,
   "metadata": {},
   "outputs": [
    {
     "data": {
      "text/html": [
       "<style>#sk-container-id-1 {color: black;background-color: white;}#sk-container-id-1 pre{padding: 0;}#sk-container-id-1 div.sk-toggleable {background-color: white;}#sk-container-id-1 label.sk-toggleable__label {cursor: pointer;display: block;width: 100%;margin-bottom: 0;padding: 0.3em;box-sizing: border-box;text-align: center;}#sk-container-id-1 label.sk-toggleable__label-arrow:before {content: \"▸\";float: left;margin-right: 0.25em;color: #696969;}#sk-container-id-1 label.sk-toggleable__label-arrow:hover:before {color: black;}#sk-container-id-1 div.sk-estimator:hover label.sk-toggleable__label-arrow:before {color: black;}#sk-container-id-1 div.sk-toggleable__content {max-height: 0;max-width: 0;overflow: hidden;text-align: left;background-color: #f0f8ff;}#sk-container-id-1 div.sk-toggleable__content pre {margin: 0.2em;color: black;border-radius: 0.25em;background-color: #f0f8ff;}#sk-container-id-1 input.sk-toggleable__control:checked~div.sk-toggleable__content {max-height: 200px;max-width: 100%;overflow: auto;}#sk-container-id-1 input.sk-toggleable__control:checked~label.sk-toggleable__label-arrow:before {content: \"▾\";}#sk-container-id-1 div.sk-estimator input.sk-toggleable__control:checked~label.sk-toggleable__label {background-color: #d4ebff;}#sk-container-id-1 div.sk-label input.sk-toggleable__control:checked~label.sk-toggleable__label {background-color: #d4ebff;}#sk-container-id-1 input.sk-hidden--visually {border: 0;clip: rect(1px 1px 1px 1px);clip: rect(1px, 1px, 1px, 1px);height: 1px;margin: -1px;overflow: hidden;padding: 0;position: absolute;width: 1px;}#sk-container-id-1 div.sk-estimator {font-family: monospace;background-color: #f0f8ff;border: 1px dotted black;border-radius: 0.25em;box-sizing: border-box;margin-bottom: 0.5em;}#sk-container-id-1 div.sk-estimator:hover {background-color: #d4ebff;}#sk-container-id-1 div.sk-parallel-item::after {content: \"\";width: 100%;border-bottom: 1px solid gray;flex-grow: 1;}#sk-container-id-1 div.sk-label:hover label.sk-toggleable__label {background-color: #d4ebff;}#sk-container-id-1 div.sk-serial::before {content: \"\";position: absolute;border-left: 1px solid gray;box-sizing: border-box;top: 0;bottom: 0;left: 50%;z-index: 0;}#sk-container-id-1 div.sk-serial {display: flex;flex-direction: column;align-items: center;background-color: white;padding-right: 0.2em;padding-left: 0.2em;position: relative;}#sk-container-id-1 div.sk-item {position: relative;z-index: 1;}#sk-container-id-1 div.sk-parallel {display: flex;align-items: stretch;justify-content: center;background-color: white;position: relative;}#sk-container-id-1 div.sk-item::before, #sk-container-id-1 div.sk-parallel-item::before {content: \"\";position: absolute;border-left: 1px solid gray;box-sizing: border-box;top: 0;bottom: 0;left: 50%;z-index: -1;}#sk-container-id-1 div.sk-parallel-item {display: flex;flex-direction: column;z-index: 1;position: relative;background-color: white;}#sk-container-id-1 div.sk-parallel-item:first-child::after {align-self: flex-end;width: 50%;}#sk-container-id-1 div.sk-parallel-item:last-child::after {align-self: flex-start;width: 50%;}#sk-container-id-1 div.sk-parallel-item:only-child::after {width: 0;}#sk-container-id-1 div.sk-dashed-wrapped {border: 1px dashed gray;margin: 0 0.4em 0.5em 0.4em;box-sizing: border-box;padding-bottom: 0.4em;background-color: white;}#sk-container-id-1 div.sk-label label {font-family: monospace;font-weight: bold;display: inline-block;line-height: 1.2em;}#sk-container-id-1 div.sk-label-container {text-align: center;}#sk-container-id-1 div.sk-container {/* jupyter's `normalize.less` sets `[hidden] { display: none; }` but bootstrap.min.css set `[hidden] { display: none !important; }` so we also need the `!important` here to be able to override the default hidden behavior on the sphinx rendered scikit-learn.org. See: https://github.com/scikit-learn/scikit-learn/issues/21755 */display: inline-block !important;position: relative;}#sk-container-id-1 div.sk-text-repr-fallback {display: none;}</style><div id=\"sk-container-id-1\" class=\"sk-top-container\"><div class=\"sk-text-repr-fallback\"><pre>LogisticRegression(C=10, max_iter=1000, n_jobs=1)</pre><b>In a Jupyter environment, please rerun this cell to show the HTML representation or trust the notebook. <br />On GitHub, the HTML representation is unable to render, please try loading this page with nbviewer.org.</b></div><div class=\"sk-container\" hidden><div class=\"sk-item\"><div class=\"sk-estimator sk-toggleable\"><input class=\"sk-toggleable__control sk-hidden--visually\" id=\"sk-estimator-id-1\" type=\"checkbox\" checked><label for=\"sk-estimator-id-1\" class=\"sk-toggleable__label sk-toggleable__label-arrow\">LogisticRegression</label><div class=\"sk-toggleable__content\"><pre>LogisticRegression(C=10, max_iter=1000, n_jobs=1)</pre></div></div></div></div></div>"
      ],
      "text/plain": [
       "LogisticRegression(C=10, max_iter=1000, n_jobs=1)"
      ]
     },
     "execution_count": 22,
     "metadata": {},
     "output_type": "execute_result"
    }
   ],
   "source": [
    "lr=LogisticRegression(C=10,n_jobs=1,max_iter=1000)\n",
    "lr.fit(X_train, y_train)"
   ]
  },
  {
   "cell_type": "code",
   "execution_count": 37,
   "metadata": {},
   "outputs": [],
   "source": [
    "y_pred = lr.predict(X_test)"
   ]
  },
  {
   "cell_type": "code",
   "execution_count": 38,
   "metadata": {},
   "outputs": [],
   "source": [
    "# X_test.drop('prob', axis = 1, inplace = True)\n",
    "X_test['prob'] = lr.predict_proba(X_test)[:,1]"
   ]
  },
  {
   "cell_type": "code",
   "execution_count": 41,
   "metadata": {},
   "outputs": [
    {
     "name": "stdout",
     "output_type": "stream",
     "text": [
      "Wall time: 2min 10s\n"
     ]
    },
    {
     "data": {
      "text/html": [
       "<div>\n",
       "<style scoped>\n",
       "    .dataframe tbody tr th:only-of-type {\n",
       "        vertical-align: middle;\n",
       "    }\n",
       "\n",
       "    .dataframe tbody tr th {\n",
       "        vertical-align: top;\n",
       "    }\n",
       "\n",
       "    .dataframe thead th {\n",
       "        text-align: right;\n",
       "    }\n",
       "</style>\n",
       "<table border=\"1\" class=\"dataframe\">\n",
       "  <thead>\n",
       "    <tr style=\"text-align: right;\">\n",
       "      <th></th>\n",
       "      <th>model</th>\n",
       "      <th>accuracy</th>\n",
       "      <th>precision</th>\n",
       "      <th>auc_roc</th>\n",
       "      <th>MAP@n</th>\n",
       "    </tr>\n",
       "  </thead>\n",
       "  <tbody>\n",
       "    <tr>\n",
       "      <th>0</th>\n",
       "      <td>LinearRegression_baseline</td>\n",
       "      <td>1.0</td>\n",
       "      <td>1.0</td>\n",
       "      <td>1.0</td>\n",
       "      <td>0.422514</td>\n",
       "    </tr>\n",
       "  </tbody>\n",
       "</table>\n",
       "</div>"
      ],
      "text/plain": [
       "                       model  accuracy  precision  auc_roc     MAP@n\n",
       "0  LinearRegression_baseline       1.0        1.0      1.0  0.422514"
      ]
     },
     "execution_count": 41,
     "metadata": {},
     "output_type": "execute_result"
    }
   ],
   "source": [
    "%%time\n",
    "metrics = get_metrics(y_test, y_pred, X_test, 'LinearRegression_baseline')\n",
    "metrics"
   ]
  },
  {
   "cell_type": "code",
   "execution_count": 65,
   "metadata": {},
   "outputs": [],
   "source": [
    "X_test.drop('prob', axis = 1, inplace = True)"
   ]
  },
  {
   "cell_type": "code",
   "execution_count": 29,
   "metadata": {},
   "outputs": [
    {
     "name": "stdout",
     "output_type": "stream",
     "text": [
      "precision_score train: 0.669\n",
      "precision_score test: 0.668\n",
      "delta = 0.1 %\n"
     ]
    }
   ],
   "source": [
    "check_overfitting(lr,\n",
    "                  X_train,\n",
    "                  y_train,\n",
    "                  X_test,\n",
    "                  y_test,\n",
    "                  metric=precision_score)"
   ]
  },
  {
   "cell_type": "markdown",
   "metadata": {
    "id": "iAwjDbo-Lawr"
   },
   "source": [
    "### KNeighborsClassifier"
   ]
  },
  {
   "cell_type": "code",
   "execution_count": 30,
   "metadata": {
    "id": "6gjbXMZHLex6"
   },
   "outputs": [],
   "source": [
    "from sklearn.neighbors import KNeighborsClassifier"
   ]
  },
  {
   "cell_type": "code",
   "execution_count": 31,
   "metadata": {},
   "outputs": [
    {
     "data": {
      "text/html": [
       "<style>#sk-container-id-2 {color: black;background-color: white;}#sk-container-id-2 pre{padding: 0;}#sk-container-id-2 div.sk-toggleable {background-color: white;}#sk-container-id-2 label.sk-toggleable__label {cursor: pointer;display: block;width: 100%;margin-bottom: 0;padding: 0.3em;box-sizing: border-box;text-align: center;}#sk-container-id-2 label.sk-toggleable__label-arrow:before {content: \"▸\";float: left;margin-right: 0.25em;color: #696969;}#sk-container-id-2 label.sk-toggleable__label-arrow:hover:before {color: black;}#sk-container-id-2 div.sk-estimator:hover label.sk-toggleable__label-arrow:before {color: black;}#sk-container-id-2 div.sk-toggleable__content {max-height: 0;max-width: 0;overflow: hidden;text-align: left;background-color: #f0f8ff;}#sk-container-id-2 div.sk-toggleable__content pre {margin: 0.2em;color: black;border-radius: 0.25em;background-color: #f0f8ff;}#sk-container-id-2 input.sk-toggleable__control:checked~div.sk-toggleable__content {max-height: 200px;max-width: 100%;overflow: auto;}#sk-container-id-2 input.sk-toggleable__control:checked~label.sk-toggleable__label-arrow:before {content: \"▾\";}#sk-container-id-2 div.sk-estimator input.sk-toggleable__control:checked~label.sk-toggleable__label {background-color: #d4ebff;}#sk-container-id-2 div.sk-label input.sk-toggleable__control:checked~label.sk-toggleable__label {background-color: #d4ebff;}#sk-container-id-2 input.sk-hidden--visually {border: 0;clip: rect(1px 1px 1px 1px);clip: rect(1px, 1px, 1px, 1px);height: 1px;margin: -1px;overflow: hidden;padding: 0;position: absolute;width: 1px;}#sk-container-id-2 div.sk-estimator {font-family: monospace;background-color: #f0f8ff;border: 1px dotted black;border-radius: 0.25em;box-sizing: border-box;margin-bottom: 0.5em;}#sk-container-id-2 div.sk-estimator:hover {background-color: #d4ebff;}#sk-container-id-2 div.sk-parallel-item::after {content: \"\";width: 100%;border-bottom: 1px solid gray;flex-grow: 1;}#sk-container-id-2 div.sk-label:hover label.sk-toggleable__label {background-color: #d4ebff;}#sk-container-id-2 div.sk-serial::before {content: \"\";position: absolute;border-left: 1px solid gray;box-sizing: border-box;top: 0;bottom: 0;left: 50%;z-index: 0;}#sk-container-id-2 div.sk-serial {display: flex;flex-direction: column;align-items: center;background-color: white;padding-right: 0.2em;padding-left: 0.2em;position: relative;}#sk-container-id-2 div.sk-item {position: relative;z-index: 1;}#sk-container-id-2 div.sk-parallel {display: flex;align-items: stretch;justify-content: center;background-color: white;position: relative;}#sk-container-id-2 div.sk-item::before, #sk-container-id-2 div.sk-parallel-item::before {content: \"\";position: absolute;border-left: 1px solid gray;box-sizing: border-box;top: 0;bottom: 0;left: 50%;z-index: -1;}#sk-container-id-2 div.sk-parallel-item {display: flex;flex-direction: column;z-index: 1;position: relative;background-color: white;}#sk-container-id-2 div.sk-parallel-item:first-child::after {align-self: flex-end;width: 50%;}#sk-container-id-2 div.sk-parallel-item:last-child::after {align-self: flex-start;width: 50%;}#sk-container-id-2 div.sk-parallel-item:only-child::after {width: 0;}#sk-container-id-2 div.sk-dashed-wrapped {border: 1px dashed gray;margin: 0 0.4em 0.5em 0.4em;box-sizing: border-box;padding-bottom: 0.4em;background-color: white;}#sk-container-id-2 div.sk-label label {font-family: monospace;font-weight: bold;display: inline-block;line-height: 1.2em;}#sk-container-id-2 div.sk-label-container {text-align: center;}#sk-container-id-2 div.sk-container {/* jupyter's `normalize.less` sets `[hidden] { display: none; }` but bootstrap.min.css set `[hidden] { display: none !important; }` so we also need the `!important` here to be able to override the default hidden behavior on the sphinx rendered scikit-learn.org. See: https://github.com/scikit-learn/scikit-learn/issues/21755 */display: inline-block !important;position: relative;}#sk-container-id-2 div.sk-text-repr-fallback {display: none;}</style><div id=\"sk-container-id-2\" class=\"sk-top-container\"><div class=\"sk-text-repr-fallback\"><pre>KNeighborsClassifier(n_neighbors=10)</pre><b>In a Jupyter environment, please rerun this cell to show the HTML representation or trust the notebook. <br />On GitHub, the HTML representation is unable to render, please try loading this page with nbviewer.org.</b></div><div class=\"sk-container\" hidden><div class=\"sk-item\"><div class=\"sk-estimator sk-toggleable\"><input class=\"sk-toggleable__control sk-hidden--visually\" id=\"sk-estimator-id-2\" type=\"checkbox\" checked><label for=\"sk-estimator-id-2\" class=\"sk-toggleable__label sk-toggleable__label-arrow\">KNeighborsClassifier</label><div class=\"sk-toggleable__content\"><pre>KNeighborsClassifier(n_neighbors=10)</pre></div></div></div></div></div>"
      ],
      "text/plain": [
       "KNeighborsClassifier(n_neighbors=10)"
      ]
     },
     "execution_count": 31,
     "metadata": {},
     "output_type": "execute_result"
    }
   ],
   "source": [
    "clf = KNeighborsClassifier(n_neighbors = 10)\n",
    "clf.fit(X_train, y_train)"
   ]
  },
  {
   "cell_type": "code",
   "execution_count": 43,
   "metadata": {},
   "outputs": [],
   "source": [
    "y_pred = clf.predict(X_test)"
   ]
  },
  {
   "cell_type": "code",
   "execution_count": 44,
   "metadata": {},
   "outputs": [],
   "source": [
    "# test.drop('prob', axis = 1, inplace = True)\n",
    "X_test['prob'] = clf.predict_proba(X_test)[:,1]"
   ]
  },
  {
   "cell_type": "code",
   "execution_count": 45,
   "metadata": {},
   "outputs": [
    {
     "name": "stdout",
     "output_type": "stream",
     "text": [
      "Wall time: 2min 13s\n"
     ]
    },
    {
     "data": {
      "text/html": [
       "<div>\n",
       "<style scoped>\n",
       "    .dataframe tbody tr th:only-of-type {\n",
       "        vertical-align: middle;\n",
       "    }\n",
       "\n",
       "    .dataframe tbody tr th {\n",
       "        vertical-align: top;\n",
       "    }\n",
       "\n",
       "    .dataframe thead th {\n",
       "        text-align: right;\n",
       "    }\n",
       "</style>\n",
       "<table border=\"1\" class=\"dataframe\">\n",
       "  <thead>\n",
       "    <tr style=\"text-align: right;\">\n",
       "      <th></th>\n",
       "      <th>model</th>\n",
       "      <th>accuracy</th>\n",
       "      <th>precision</th>\n",
       "      <th>auc_roc</th>\n",
       "      <th>MAP@n</th>\n",
       "    </tr>\n",
       "  </thead>\n",
       "  <tbody>\n",
       "    <tr>\n",
       "      <th>0</th>\n",
       "      <td>LinearRegression_baseline</td>\n",
       "      <td>1.0</td>\n",
       "      <td>1.0</td>\n",
       "      <td>1.0</td>\n",
       "      <td>0.422514</td>\n",
       "    </tr>\n",
       "    <tr>\n",
       "      <th>0</th>\n",
       "      <td>KNeighborsClassifier</td>\n",
       "      <td>1.0</td>\n",
       "      <td>1.0</td>\n",
       "      <td>1.0</td>\n",
       "      <td>0.335869</td>\n",
       "    </tr>\n",
       "  </tbody>\n",
       "</table>\n",
       "</div>"
      ],
      "text/plain": [
       "                       model  accuracy  precision  auc_roc     MAP@n\n",
       "0  LinearRegression_baseline       1.0        1.0      1.0  0.422514\n",
       "0       KNeighborsClassifier       1.0        1.0      1.0  0.335869"
      ]
     },
     "execution_count": 45,
     "metadata": {},
     "output_type": "execute_result"
    }
   ],
   "source": [
    "%%time\n",
    "metrics = metrics.append(get_metrics(y_test, y_pred, X_test, 'KNeighborsClassifier'))\n",
    "metrics"
   ]
  },
  {
   "cell_type": "code",
   "execution_count": 122,
   "metadata": {},
   "outputs": [
    {
     "name": "stdout",
     "output_type": "stream",
     "text": [
      "precision_score train: 0.637\n",
      "precision_score test: 0.371\n",
      "delta = 41.8 %\n"
     ]
    }
   ],
   "source": [
    "check_overfitting(clf,\n",
    "                  X_train,\n",
    "                  y_train,\n",
    "                  X_test,\n",
    "                  y_test,\n",
    "                  metric=precision_score)"
   ]
  },
  {
   "cell_type": "markdown",
   "metadata": {},
   "source": [
    "### DecisonTreeClassifier"
   ]
  },
  {
   "cell_type": "code",
   "execution_count": 46,
   "metadata": {},
   "outputs": [],
   "source": [
    "from sklearn.tree import DecisionTreeClassifier"
   ]
  },
  {
   "cell_type": "code",
   "execution_count": 49,
   "metadata": {},
   "outputs": [
    {
     "data": {
      "text/html": [
       "<style>#sk-container-id-4 {color: black;background-color: white;}#sk-container-id-4 pre{padding: 0;}#sk-container-id-4 div.sk-toggleable {background-color: white;}#sk-container-id-4 label.sk-toggleable__label {cursor: pointer;display: block;width: 100%;margin-bottom: 0;padding: 0.3em;box-sizing: border-box;text-align: center;}#sk-container-id-4 label.sk-toggleable__label-arrow:before {content: \"▸\";float: left;margin-right: 0.25em;color: #696969;}#sk-container-id-4 label.sk-toggleable__label-arrow:hover:before {color: black;}#sk-container-id-4 div.sk-estimator:hover label.sk-toggleable__label-arrow:before {color: black;}#sk-container-id-4 div.sk-toggleable__content {max-height: 0;max-width: 0;overflow: hidden;text-align: left;background-color: #f0f8ff;}#sk-container-id-4 div.sk-toggleable__content pre {margin: 0.2em;color: black;border-radius: 0.25em;background-color: #f0f8ff;}#sk-container-id-4 input.sk-toggleable__control:checked~div.sk-toggleable__content {max-height: 200px;max-width: 100%;overflow: auto;}#sk-container-id-4 input.sk-toggleable__control:checked~label.sk-toggleable__label-arrow:before {content: \"▾\";}#sk-container-id-4 div.sk-estimator input.sk-toggleable__control:checked~label.sk-toggleable__label {background-color: #d4ebff;}#sk-container-id-4 div.sk-label input.sk-toggleable__control:checked~label.sk-toggleable__label {background-color: #d4ebff;}#sk-container-id-4 input.sk-hidden--visually {border: 0;clip: rect(1px 1px 1px 1px);clip: rect(1px, 1px, 1px, 1px);height: 1px;margin: -1px;overflow: hidden;padding: 0;position: absolute;width: 1px;}#sk-container-id-4 div.sk-estimator {font-family: monospace;background-color: #f0f8ff;border: 1px dotted black;border-radius: 0.25em;box-sizing: border-box;margin-bottom: 0.5em;}#sk-container-id-4 div.sk-estimator:hover {background-color: #d4ebff;}#sk-container-id-4 div.sk-parallel-item::after {content: \"\";width: 100%;border-bottom: 1px solid gray;flex-grow: 1;}#sk-container-id-4 div.sk-label:hover label.sk-toggleable__label {background-color: #d4ebff;}#sk-container-id-4 div.sk-serial::before {content: \"\";position: absolute;border-left: 1px solid gray;box-sizing: border-box;top: 0;bottom: 0;left: 50%;z-index: 0;}#sk-container-id-4 div.sk-serial {display: flex;flex-direction: column;align-items: center;background-color: white;padding-right: 0.2em;padding-left: 0.2em;position: relative;}#sk-container-id-4 div.sk-item {position: relative;z-index: 1;}#sk-container-id-4 div.sk-parallel {display: flex;align-items: stretch;justify-content: center;background-color: white;position: relative;}#sk-container-id-4 div.sk-item::before, #sk-container-id-4 div.sk-parallel-item::before {content: \"\";position: absolute;border-left: 1px solid gray;box-sizing: border-box;top: 0;bottom: 0;left: 50%;z-index: -1;}#sk-container-id-4 div.sk-parallel-item {display: flex;flex-direction: column;z-index: 1;position: relative;background-color: white;}#sk-container-id-4 div.sk-parallel-item:first-child::after {align-self: flex-end;width: 50%;}#sk-container-id-4 div.sk-parallel-item:last-child::after {align-self: flex-start;width: 50%;}#sk-container-id-4 div.sk-parallel-item:only-child::after {width: 0;}#sk-container-id-4 div.sk-dashed-wrapped {border: 1px dashed gray;margin: 0 0.4em 0.5em 0.4em;box-sizing: border-box;padding-bottom: 0.4em;background-color: white;}#sk-container-id-4 div.sk-label label {font-family: monospace;font-weight: bold;display: inline-block;line-height: 1.2em;}#sk-container-id-4 div.sk-label-container {text-align: center;}#sk-container-id-4 div.sk-container {/* jupyter's `normalize.less` sets `[hidden] { display: none; }` but bootstrap.min.css set `[hidden] { display: none !important; }` so we also need the `!important` here to be able to override the default hidden behavior on the sphinx rendered scikit-learn.org. See: https://github.com/scikit-learn/scikit-learn/issues/21755 */display: inline-block !important;position: relative;}#sk-container-id-4 div.sk-text-repr-fallback {display: none;}</style><div id=\"sk-container-id-4\" class=\"sk-top-container\"><div class=\"sk-text-repr-fallback\"><pre>DecisionTreeClassifier()</pre><b>In a Jupyter environment, please rerun this cell to show the HTML representation or trust the notebook. <br />On GitHub, the HTML representation is unable to render, please try loading this page with nbviewer.org.</b></div><div class=\"sk-container\" hidden><div class=\"sk-item\"><div class=\"sk-estimator sk-toggleable\"><input class=\"sk-toggleable__control sk-hidden--visually\" id=\"sk-estimator-id-4\" type=\"checkbox\" checked><label for=\"sk-estimator-id-4\" class=\"sk-toggleable__label sk-toggleable__label-arrow\">DecisionTreeClassifier</label><div class=\"sk-toggleable__content\"><pre>DecisionTreeClassifier()</pre></div></div></div></div></div>"
      ],
      "text/plain": [
       "DecisionTreeClassifier()"
      ]
     },
     "execution_count": 49,
     "metadata": {},
     "output_type": "execute_result"
    }
   ],
   "source": [
    "tree = DecisionTreeClassifier()\n",
    "tree.fit(X_train, y_train)"
   ]
  },
  {
   "cell_type": "code",
   "execution_count": 50,
   "metadata": {},
   "outputs": [],
   "source": [
    "y_pred = tree.predict(X_test)"
   ]
  },
  {
   "cell_type": "code",
   "execution_count": 51,
   "metadata": {},
   "outputs": [],
   "source": [
    "# test.drop('prob', axis = 1, inplace = True)\n",
    "X_test['prob'] = tree.predict_proba(X_test)[:,1]"
   ]
  },
  {
   "cell_type": "code",
   "execution_count": 52,
   "metadata": {},
   "outputs": [
    {
     "data": {
      "text/html": [
       "<div>\n",
       "<style scoped>\n",
       "    .dataframe tbody tr th:only-of-type {\n",
       "        vertical-align: middle;\n",
       "    }\n",
       "\n",
       "    .dataframe tbody tr th {\n",
       "        vertical-align: top;\n",
       "    }\n",
       "\n",
       "    .dataframe thead th {\n",
       "        text-align: right;\n",
       "    }\n",
       "</style>\n",
       "<table border=\"1\" class=\"dataframe\">\n",
       "  <thead>\n",
       "    <tr style=\"text-align: right;\">\n",
       "      <th></th>\n",
       "      <th>model</th>\n",
       "      <th>accuracy</th>\n",
       "      <th>precision</th>\n",
       "      <th>auc_roc</th>\n",
       "      <th>MAP@n</th>\n",
       "    </tr>\n",
       "  </thead>\n",
       "  <tbody>\n",
       "    <tr>\n",
       "      <th>0</th>\n",
       "      <td>LinearRegression_baseline</td>\n",
       "      <td>1.0</td>\n",
       "      <td>1.0</td>\n",
       "      <td>1.0</td>\n",
       "      <td>0.422514</td>\n",
       "    </tr>\n",
       "    <tr>\n",
       "      <th>0</th>\n",
       "      <td>KNeighborsClassifier</td>\n",
       "      <td>1.0</td>\n",
       "      <td>1.0</td>\n",
       "      <td>1.0</td>\n",
       "      <td>0.335869</td>\n",
       "    </tr>\n",
       "    <tr>\n",
       "      <th>0</th>\n",
       "      <td>DecisonTreeClassifier</td>\n",
       "      <td>1.0</td>\n",
       "      <td>1.0</td>\n",
       "      <td>1.0</td>\n",
       "      <td>0.288131</td>\n",
       "    </tr>\n",
       "  </tbody>\n",
       "</table>\n",
       "</div>"
      ],
      "text/plain": [
       "                       model  accuracy  precision  auc_roc     MAP@n\n",
       "0  LinearRegression_baseline       1.0        1.0      1.0  0.422514\n",
       "0       KNeighborsClassifier       1.0        1.0      1.0  0.335869\n",
       "0      DecisonTreeClassifier       1.0        1.0      1.0  0.288131"
      ]
     },
     "execution_count": 52,
     "metadata": {},
     "output_type": "execute_result"
    }
   ],
   "source": [
    "metrics = metrics.append(get_metrics(y_test, y_pred, X_test, 'DecisonTreeClassifier'))\n",
    "metrics"
   ]
  },
  {
   "cell_type": "code",
   "execution_count": 129,
   "metadata": {},
   "outputs": [
    {
     "name": "stdout",
     "output_type": "stream",
     "text": [
      "precision_score train: 1.000\n",
      "precision_score test: 0.482\n",
      "delta = 51.8 %\n"
     ]
    }
   ],
   "source": [
    "check_overfitting(tree,\n",
    "                  X_train,\n",
    "                  y_train,\n",
    "                  X_test,\n",
    "                  y_test,\n",
    "                  metric=precision_score)"
   ]
  },
  {
   "cell_type": "markdown",
   "metadata": {},
   "source": [
    "### RandomForestClassifier"
   ]
  },
  {
   "cell_type": "code",
   "execution_count": 54,
   "metadata": {},
   "outputs": [],
   "source": [
    "from sklearn.ensemble import RandomForestClassifier"
   ]
  },
  {
   "cell_type": "code",
   "execution_count": 55,
   "metadata": {},
   "outputs": [
    {
     "data": {
      "text/html": [
       "<style>#sk-container-id-5 {color: black;background-color: white;}#sk-container-id-5 pre{padding: 0;}#sk-container-id-5 div.sk-toggleable {background-color: white;}#sk-container-id-5 label.sk-toggleable__label {cursor: pointer;display: block;width: 100%;margin-bottom: 0;padding: 0.3em;box-sizing: border-box;text-align: center;}#sk-container-id-5 label.sk-toggleable__label-arrow:before {content: \"▸\";float: left;margin-right: 0.25em;color: #696969;}#sk-container-id-5 label.sk-toggleable__label-arrow:hover:before {color: black;}#sk-container-id-5 div.sk-estimator:hover label.sk-toggleable__label-arrow:before {color: black;}#sk-container-id-5 div.sk-toggleable__content {max-height: 0;max-width: 0;overflow: hidden;text-align: left;background-color: #f0f8ff;}#sk-container-id-5 div.sk-toggleable__content pre {margin: 0.2em;color: black;border-radius: 0.25em;background-color: #f0f8ff;}#sk-container-id-5 input.sk-toggleable__control:checked~div.sk-toggleable__content {max-height: 200px;max-width: 100%;overflow: auto;}#sk-container-id-5 input.sk-toggleable__control:checked~label.sk-toggleable__label-arrow:before {content: \"▾\";}#sk-container-id-5 div.sk-estimator input.sk-toggleable__control:checked~label.sk-toggleable__label {background-color: #d4ebff;}#sk-container-id-5 div.sk-label input.sk-toggleable__control:checked~label.sk-toggleable__label {background-color: #d4ebff;}#sk-container-id-5 input.sk-hidden--visually {border: 0;clip: rect(1px 1px 1px 1px);clip: rect(1px, 1px, 1px, 1px);height: 1px;margin: -1px;overflow: hidden;padding: 0;position: absolute;width: 1px;}#sk-container-id-5 div.sk-estimator {font-family: monospace;background-color: #f0f8ff;border: 1px dotted black;border-radius: 0.25em;box-sizing: border-box;margin-bottom: 0.5em;}#sk-container-id-5 div.sk-estimator:hover {background-color: #d4ebff;}#sk-container-id-5 div.sk-parallel-item::after {content: \"\";width: 100%;border-bottom: 1px solid gray;flex-grow: 1;}#sk-container-id-5 div.sk-label:hover label.sk-toggleable__label {background-color: #d4ebff;}#sk-container-id-5 div.sk-serial::before {content: \"\";position: absolute;border-left: 1px solid gray;box-sizing: border-box;top: 0;bottom: 0;left: 50%;z-index: 0;}#sk-container-id-5 div.sk-serial {display: flex;flex-direction: column;align-items: center;background-color: white;padding-right: 0.2em;padding-left: 0.2em;position: relative;}#sk-container-id-5 div.sk-item {position: relative;z-index: 1;}#sk-container-id-5 div.sk-parallel {display: flex;align-items: stretch;justify-content: center;background-color: white;position: relative;}#sk-container-id-5 div.sk-item::before, #sk-container-id-5 div.sk-parallel-item::before {content: \"\";position: absolute;border-left: 1px solid gray;box-sizing: border-box;top: 0;bottom: 0;left: 50%;z-index: -1;}#sk-container-id-5 div.sk-parallel-item {display: flex;flex-direction: column;z-index: 1;position: relative;background-color: white;}#sk-container-id-5 div.sk-parallel-item:first-child::after {align-self: flex-end;width: 50%;}#sk-container-id-5 div.sk-parallel-item:last-child::after {align-self: flex-start;width: 50%;}#sk-container-id-5 div.sk-parallel-item:only-child::after {width: 0;}#sk-container-id-5 div.sk-dashed-wrapped {border: 1px dashed gray;margin: 0 0.4em 0.5em 0.4em;box-sizing: border-box;padding-bottom: 0.4em;background-color: white;}#sk-container-id-5 div.sk-label label {font-family: monospace;font-weight: bold;display: inline-block;line-height: 1.2em;}#sk-container-id-5 div.sk-label-container {text-align: center;}#sk-container-id-5 div.sk-container {/* jupyter's `normalize.less` sets `[hidden] { display: none; }` but bootstrap.min.css set `[hidden] { display: none !important; }` so we also need the `!important` here to be able to override the default hidden behavior on the sphinx rendered scikit-learn.org. See: https://github.com/scikit-learn/scikit-learn/issues/21755 */display: inline-block !important;position: relative;}#sk-container-id-5 div.sk-text-repr-fallback {display: none;}</style><div id=\"sk-container-id-5\" class=\"sk-top-container\"><div class=\"sk-text-repr-fallback\"><pre>RandomForestClassifier(class_weight={0: 1, 1: 5}, max_depth=15, n_estimators=20,\n",
       "                       n_jobs=8, random_state=42)</pre><b>In a Jupyter environment, please rerun this cell to show the HTML representation or trust the notebook. <br />On GitHub, the HTML representation is unable to render, please try loading this page with nbviewer.org.</b></div><div class=\"sk-container\" hidden><div class=\"sk-item\"><div class=\"sk-estimator sk-toggleable\"><input class=\"sk-toggleable__control sk-hidden--visually\" id=\"sk-estimator-id-5\" type=\"checkbox\" checked><label for=\"sk-estimator-id-5\" class=\"sk-toggleable__label sk-toggleable__label-arrow\">RandomForestClassifier</label><div class=\"sk-toggleable__content\"><pre>RandomForestClassifier(class_weight={0: 1, 1: 5}, max_depth=15, n_estimators=20,\n",
       "                       n_jobs=8, random_state=42)</pre></div></div></div></div></div>"
      ],
      "text/plain": [
       "RandomForestClassifier(class_weight={0: 1, 1: 5}, max_depth=15, n_estimators=20,\n",
       "                       n_jobs=8, random_state=42)"
      ]
     },
     "execution_count": 55,
     "metadata": {},
     "output_type": "execute_result"
    }
   ],
   "source": [
    "rfcl=RandomForestClassifier(n_estimators=20,max_depth=15,class_weight={0:1,1:5},random_state=42,n_jobs=8)\n",
    "rfcl.fit(X_train,y_train)"
   ]
  },
  {
   "cell_type": "code",
   "execution_count": 56,
   "metadata": {},
   "outputs": [],
   "source": [
    "y_pred = rfcl.predict(X_test)"
   ]
  },
  {
   "cell_type": "code",
   "execution_count": 57,
   "metadata": {},
   "outputs": [],
   "source": [
    "# test.drop('prob', axis = 1, inplace = True)\n",
    "X_test['prob'] = rfcl.predict_proba(X_test)[:,1]"
   ]
  },
  {
   "cell_type": "code",
   "execution_count": 58,
   "metadata": {},
   "outputs": [
    {
     "data": {
      "text/html": [
       "<div>\n",
       "<style scoped>\n",
       "    .dataframe tbody tr th:only-of-type {\n",
       "        vertical-align: middle;\n",
       "    }\n",
       "\n",
       "    .dataframe tbody tr th {\n",
       "        vertical-align: top;\n",
       "    }\n",
       "\n",
       "    .dataframe thead th {\n",
       "        text-align: right;\n",
       "    }\n",
       "</style>\n",
       "<table border=\"1\" class=\"dataframe\">\n",
       "  <thead>\n",
       "    <tr style=\"text-align: right;\">\n",
       "      <th></th>\n",
       "      <th>model</th>\n",
       "      <th>accuracy</th>\n",
       "      <th>precision</th>\n",
       "      <th>auc_roc</th>\n",
       "      <th>MAP@n</th>\n",
       "    </tr>\n",
       "  </thead>\n",
       "  <tbody>\n",
       "    <tr>\n",
       "      <th>0</th>\n",
       "      <td>LinearRegression_baseline</td>\n",
       "      <td>1.0</td>\n",
       "      <td>1.0</td>\n",
       "      <td>1.0</td>\n",
       "      <td>0.422514</td>\n",
       "    </tr>\n",
       "    <tr>\n",
       "      <th>0</th>\n",
       "      <td>KNeighborsClassifier</td>\n",
       "      <td>1.0</td>\n",
       "      <td>1.0</td>\n",
       "      <td>1.0</td>\n",
       "      <td>0.335869</td>\n",
       "    </tr>\n",
       "    <tr>\n",
       "      <th>0</th>\n",
       "      <td>DecisonTreeClassifier</td>\n",
       "      <td>1.0</td>\n",
       "      <td>1.0</td>\n",
       "      <td>1.0</td>\n",
       "      <td>0.288131</td>\n",
       "    </tr>\n",
       "    <tr>\n",
       "      <th>0</th>\n",
       "      <td>RandomForestClassifier</td>\n",
       "      <td>1.0</td>\n",
       "      <td>1.0</td>\n",
       "      <td>1.0</td>\n",
       "      <td>0.727397</td>\n",
       "    </tr>\n",
       "  </tbody>\n",
       "</table>\n",
       "</div>"
      ],
      "text/plain": [
       "                       model  accuracy  precision  auc_roc     MAP@n\n",
       "0  LinearRegression_baseline       1.0        1.0      1.0  0.422514\n",
       "0       KNeighborsClassifier       1.0        1.0      1.0  0.335869\n",
       "0      DecisonTreeClassifier       1.0        1.0      1.0  0.288131\n",
       "0     RandomForestClassifier       1.0        1.0      1.0  0.727397"
      ]
     },
     "execution_count": 58,
     "metadata": {},
     "output_type": "execute_result"
    }
   ],
   "source": [
    "metrics = metrics.append(get_metrics(y_test, y_pred, X_test, 'RandomForestClassifier'))\n",
    "metrics"
   ]
  },
  {
   "cell_type": "code",
   "execution_count": 141,
   "metadata": {},
   "outputs": [
    {
     "name": "stdout",
     "output_type": "stream",
     "text": [
      "precision_score train: 0.418\n",
      "precision_score test: 0.410\n",
      "delta = 2.1 %\n"
     ]
    }
   ],
   "source": [
    "check_overfitting(rfcl,\n",
    "                  X_train,\n",
    "                  y_train,\n",
    "                  X_test,\n",
    "                  y_test,\n",
    "                  metric=precision_score)"
   ]
  },
  {
   "cell_type": "code",
   "execution_count": 72,
   "metadata": {},
   "outputs": [],
   "source": [
    "pkl_filename = 'rfc.pkl'\n",
    "with open(pkl_filename, 'wb') as file:\n",
    "    pickle.dump(rfcl, file)"
   ]
  },
  {
   "cell_type": "markdown",
   "metadata": {
    "id": "tdMmLrBYW9f6"
   },
   "source": [
    "### LGBMClassifier"
   ]
  },
  {
   "cell_type": "code",
   "execution_count": 42,
   "metadata": {
    "id": "bhCtXM2pKWhw"
   },
   "outputs": [],
   "source": [
    "import lightgbm as lgb\n",
    "from lightgbm import LGBMClassifier"
   ]
  },
  {
   "cell_type": "code",
   "execution_count": 117,
   "metadata": {
    "colab": {
     "base_uri": "https://localhost:8080/",
     "height": 247
    },
    "id": "PfEdNJiXXJrj",
    "outputId": "7b78bf3e-2ece-4015-e7b1-73ae48d165e5"
   },
   "outputs": [
    {
     "data": {
      "text/html": [
       "<style>#sk-container-id-2 {color: black;background-color: white;}#sk-container-id-2 pre{padding: 0;}#sk-container-id-2 div.sk-toggleable {background-color: white;}#sk-container-id-2 label.sk-toggleable__label {cursor: pointer;display: block;width: 100%;margin-bottom: 0;padding: 0.3em;box-sizing: border-box;text-align: center;}#sk-container-id-2 label.sk-toggleable__label-arrow:before {content: \"▸\";float: left;margin-right: 0.25em;color: #696969;}#sk-container-id-2 label.sk-toggleable__label-arrow:hover:before {color: black;}#sk-container-id-2 div.sk-estimator:hover label.sk-toggleable__label-arrow:before {color: black;}#sk-container-id-2 div.sk-toggleable__content {max-height: 0;max-width: 0;overflow: hidden;text-align: left;background-color: #f0f8ff;}#sk-container-id-2 div.sk-toggleable__content pre {margin: 0.2em;color: black;border-radius: 0.25em;background-color: #f0f8ff;}#sk-container-id-2 input.sk-toggleable__control:checked~div.sk-toggleable__content {max-height: 200px;max-width: 100%;overflow: auto;}#sk-container-id-2 input.sk-toggleable__control:checked~label.sk-toggleable__label-arrow:before {content: \"▾\";}#sk-container-id-2 div.sk-estimator input.sk-toggleable__control:checked~label.sk-toggleable__label {background-color: #d4ebff;}#sk-container-id-2 div.sk-label input.sk-toggleable__control:checked~label.sk-toggleable__label {background-color: #d4ebff;}#sk-container-id-2 input.sk-hidden--visually {border: 0;clip: rect(1px 1px 1px 1px);clip: rect(1px, 1px, 1px, 1px);height: 1px;margin: -1px;overflow: hidden;padding: 0;position: absolute;width: 1px;}#sk-container-id-2 div.sk-estimator {font-family: monospace;background-color: #f0f8ff;border: 1px dotted black;border-radius: 0.25em;box-sizing: border-box;margin-bottom: 0.5em;}#sk-container-id-2 div.sk-estimator:hover {background-color: #d4ebff;}#sk-container-id-2 div.sk-parallel-item::after {content: \"\";width: 100%;border-bottom: 1px solid gray;flex-grow: 1;}#sk-container-id-2 div.sk-label:hover label.sk-toggleable__label {background-color: #d4ebff;}#sk-container-id-2 div.sk-serial::before {content: \"\";position: absolute;border-left: 1px solid gray;box-sizing: border-box;top: 0;bottom: 0;left: 50%;z-index: 0;}#sk-container-id-2 div.sk-serial {display: flex;flex-direction: column;align-items: center;background-color: white;padding-right: 0.2em;padding-left: 0.2em;position: relative;}#sk-container-id-2 div.sk-item {position: relative;z-index: 1;}#sk-container-id-2 div.sk-parallel {display: flex;align-items: stretch;justify-content: center;background-color: white;position: relative;}#sk-container-id-2 div.sk-item::before, #sk-container-id-2 div.sk-parallel-item::before {content: \"\";position: absolute;border-left: 1px solid gray;box-sizing: border-box;top: 0;bottom: 0;left: 50%;z-index: -1;}#sk-container-id-2 div.sk-parallel-item {display: flex;flex-direction: column;z-index: 1;position: relative;background-color: white;}#sk-container-id-2 div.sk-parallel-item:first-child::after {align-self: flex-end;width: 50%;}#sk-container-id-2 div.sk-parallel-item:last-child::after {align-self: flex-start;width: 50%;}#sk-container-id-2 div.sk-parallel-item:only-child::after {width: 0;}#sk-container-id-2 div.sk-dashed-wrapped {border: 1px dashed gray;margin: 0 0.4em 0.5em 0.4em;box-sizing: border-box;padding-bottom: 0.4em;background-color: white;}#sk-container-id-2 div.sk-label label {font-family: monospace;font-weight: bold;display: inline-block;line-height: 1.2em;}#sk-container-id-2 div.sk-label-container {text-align: center;}#sk-container-id-2 div.sk-container {/* jupyter's `normalize.less` sets `[hidden] { display: none; }` but bootstrap.min.css set `[hidden] { display: none !important; }` so we also need the `!important` here to be able to override the default hidden behavior on the sphinx rendered scikit-learn.org. See: https://github.com/scikit-learn/scikit-learn/issues/21755 */display: inline-block !important;position: relative;}#sk-container-id-2 div.sk-text-repr-fallback {display: none;}</style><div id=\"sk-container-id-2\" class=\"sk-top-container\"><div class=\"sk-text-repr-fallback\"><pre>LGBMClassifier(class_weight={0: 0.7, 1: 0.3}, max_depth=2, min_data_in_leaf=52,\n",
       "               n_estimators=59, num_leaves=49)</pre><b>In a Jupyter environment, please rerun this cell to show the HTML representation or trust the notebook. <br />On GitHub, the HTML representation is unable to render, please try loading this page with nbviewer.org.</b></div><div class=\"sk-container\" hidden><div class=\"sk-item\"><div class=\"sk-estimator sk-toggleable\"><input class=\"sk-toggleable__control sk-hidden--visually\" id=\"sk-estimator-id-2\" type=\"checkbox\" checked><label for=\"sk-estimator-id-2\" class=\"sk-toggleable__label sk-toggleable__label-arrow\">LGBMClassifier</label><div class=\"sk-toggleable__content\"><pre>LGBMClassifier(class_weight={0: 0.7, 1: 0.3}, max_depth=2, min_data_in_leaf=52,\n",
       "               n_estimators=59, num_leaves=49)</pre></div></div></div></div></div>"
      ],
      "text/plain": [
       "LGBMClassifier(class_weight={0: 0.7, 1: 0.3}, max_depth=2, min_data_in_leaf=52,\n",
       "               n_estimators=59, num_leaves=49)"
      ]
     },
     "execution_count": 117,
     "metadata": {},
     "output_type": "execute_result"
    }
   ],
   "source": [
    "lg = LGBMClassifier(num_leaves = 49,\n",
    "                     max_depth = 2,\n",
    "                     learning_rate = 0.1,\n",
    "                     n_estimators = 59,\n",
    "                     min_child_samples = 20,\n",
    "                     min_data_in_leaf = 52,\n",
    "                     class_weight = {0:0.7, 1:0.3}\n",
    "                   )\n",
    "lg.fit(X_train,\n",
    "        y_train,\n",
    "        eval_set=[(X_test, y_test)],\n",
    "        verbose=False,\n",
    "        early_stopping_rounds=100)"
   ]
  },
  {
   "cell_type": "code",
   "execution_count": 118,
   "metadata": {
    "id": "TaRxVy7tkOof"
   },
   "outputs": [],
   "source": [
    "y_pred = lg.predict(X_test)"
   ]
  },
  {
   "cell_type": "code",
   "execution_count": 63,
   "metadata": {},
   "outputs": [],
   "source": [
    "# test.drop('prob', axis = 1, inplace = True)\n",
    "X_test['prob'] = lg.predict_proba(X_test)[:,1]"
   ]
  },
  {
   "cell_type": "code",
   "execution_count": 64,
   "metadata": {},
   "outputs": [
    {
     "data": {
      "text/html": [
       "<div>\n",
       "<style scoped>\n",
       "    .dataframe tbody tr th:only-of-type {\n",
       "        vertical-align: middle;\n",
       "    }\n",
       "\n",
       "    .dataframe tbody tr th {\n",
       "        vertical-align: top;\n",
       "    }\n",
       "\n",
       "    .dataframe thead th {\n",
       "        text-align: right;\n",
       "    }\n",
       "</style>\n",
       "<table border=\"1\" class=\"dataframe\">\n",
       "  <thead>\n",
       "    <tr style=\"text-align: right;\">\n",
       "      <th></th>\n",
       "      <th>model</th>\n",
       "      <th>accuracy</th>\n",
       "      <th>precision</th>\n",
       "      <th>auc_roc</th>\n",
       "      <th>MAP@n</th>\n",
       "    </tr>\n",
       "  </thead>\n",
       "  <tbody>\n",
       "    <tr>\n",
       "      <th>0</th>\n",
       "      <td>LinearRegression_baseline</td>\n",
       "      <td>1.0</td>\n",
       "      <td>1.0</td>\n",
       "      <td>1.0</td>\n",
       "      <td>0.422514</td>\n",
       "    </tr>\n",
       "    <tr>\n",
       "      <th>0</th>\n",
       "      <td>KNeighborsClassifier</td>\n",
       "      <td>1.0</td>\n",
       "      <td>1.0</td>\n",
       "      <td>1.0</td>\n",
       "      <td>0.335869</td>\n",
       "    </tr>\n",
       "    <tr>\n",
       "      <th>0</th>\n",
       "      <td>DecisonTreeClassifier</td>\n",
       "      <td>1.0</td>\n",
       "      <td>1.0</td>\n",
       "      <td>1.0</td>\n",
       "      <td>0.288131</td>\n",
       "    </tr>\n",
       "    <tr>\n",
       "      <th>0</th>\n",
       "      <td>RandomForestClassifier</td>\n",
       "      <td>1.0</td>\n",
       "      <td>1.0</td>\n",
       "      <td>1.0</td>\n",
       "      <td>0.727397</td>\n",
       "    </tr>\n",
       "    <tr>\n",
       "      <th>0</th>\n",
       "      <td>LGBMClassifier</td>\n",
       "      <td>1.0</td>\n",
       "      <td>1.0</td>\n",
       "      <td>1.0</td>\n",
       "      <td>0.453430</td>\n",
       "    </tr>\n",
       "  </tbody>\n",
       "</table>\n",
       "</div>"
      ],
      "text/plain": [
       "                       model  accuracy  precision  auc_roc     MAP@n\n",
       "0  LinearRegression_baseline       1.0        1.0      1.0  0.422514\n",
       "0       KNeighborsClassifier       1.0        1.0      1.0  0.335869\n",
       "0      DecisonTreeClassifier       1.0        1.0      1.0  0.288131\n",
       "0     RandomForestClassifier       1.0        1.0      1.0  0.727397\n",
       "0             LGBMClassifier       1.0        1.0      1.0  0.453430"
      ]
     },
     "execution_count": 64,
     "metadata": {},
     "output_type": "execute_result"
    }
   ],
   "source": [
    "metrics = metrics.append(get_metrics(y_test, y_pred, X_test, 'LGBMClassifier'))\n",
    "metrics"
   ]
  },
  {
   "cell_type": "code",
   "execution_count": 147,
   "metadata": {
    "id": "45bdneVYkZXe"
   },
   "outputs": [
    {
     "name": "stdout",
     "output_type": "stream",
     "text": [
      "precision_score train: 0.666\n",
      "precision_score test: 0.662\n",
      "delta = 0.5 %\n"
     ]
    }
   ],
   "source": [
    "check_overfitting(lg,\n",
    "                  X_train,\n",
    "                  y_train,\n",
    "                  X_test,\n",
    "                  y_test,\n",
    "                  metric=precision_score)"
   ]
  },
  {
   "cell_type": "markdown",
   "metadata": {
    "id": "mtHF-_6qXGD8"
   },
   "source": [
    "### CatBoostRegressor"
   ]
  },
  {
   "cell_type": "code",
   "execution_count": 66,
   "metadata": {
    "id": "fUlXU57W5lhw"
   },
   "outputs": [],
   "source": [
    "cb = CatBoostClassifier()"
   ]
  },
  {
   "cell_type": "code",
   "execution_count": 67,
   "metadata": {
    "colab": {
     "base_uri": "https://localhost:8080/",
     "height": 17,
     "referenced_widgets": [
      "8264e9589fd14d75aa4847b701286550"
     ]
    },
    "id": "xvyR5WZJg7Bt",
    "outputId": "62030aea-94d1-4c34-d4a3-1199e3481646"
   },
   "outputs": [
    {
     "data": {
      "application/vnd.jupyter.widget-view+json": {
       "model_id": "6c0338f236cd48439a2ad4a7f80b2853",
       "version_major": 2,
       "version_minor": 0
      },
      "text/plain": [
       "MetricVisualizer(layout=Layout(align_self='stretch', height='500px'))"
      ]
     },
     "metadata": {},
     "output_type": "display_data"
    }
   ],
   "source": [
    "cb.fit(X_train,\n",
    "       y_train,\n",
    "       eval_set=[(X_val, y_val)],\n",
    "       verbose=0,\n",
    "       early_stopping_rounds=100,\n",
    "       plot=True)\n",
    "\n",
    "y_pred = cb.predict(X_test)"
   ]
  },
  {
   "cell_type": "code",
   "execution_count": 68,
   "metadata": {
    "colab": {
     "base_uri": "https://localhost:8080/"
    },
    "id": "1WWaf2T7wpIk",
    "outputId": "348baef7-48ac-4898-b3e9-3e325b97180d"
   },
   "outputs": [],
   "source": [
    "# test.drop('prob', axis = 1, inplace = True)\n",
    "X_test['prob'] = cb.predict_proba(X_test)[:,1]"
   ]
  },
  {
   "cell_type": "code",
   "execution_count": 69,
   "metadata": {
    "colab": {
     "base_uri": "https://localhost:8080/"
    },
    "id": "dAVBYBGFviCA",
    "outputId": "9272f1e9-fa23-4cf7-da5f-24b66239ebea"
   },
   "outputs": [
    {
     "data": {
      "text/html": [
       "<div>\n",
       "<style scoped>\n",
       "    .dataframe tbody tr th:only-of-type {\n",
       "        vertical-align: middle;\n",
       "    }\n",
       "\n",
       "    .dataframe tbody tr th {\n",
       "        vertical-align: top;\n",
       "    }\n",
       "\n",
       "    .dataframe thead th {\n",
       "        text-align: right;\n",
       "    }\n",
       "</style>\n",
       "<table border=\"1\" class=\"dataframe\">\n",
       "  <thead>\n",
       "    <tr style=\"text-align: right;\">\n",
       "      <th></th>\n",
       "      <th>model</th>\n",
       "      <th>accuracy</th>\n",
       "      <th>precision</th>\n",
       "      <th>auc_roc</th>\n",
       "      <th>MAP@n</th>\n",
       "    </tr>\n",
       "  </thead>\n",
       "  <tbody>\n",
       "    <tr>\n",
       "      <th>0</th>\n",
       "      <td>LinearRegression_baseline</td>\n",
       "      <td>1.0</td>\n",
       "      <td>1.0</td>\n",
       "      <td>1.0</td>\n",
       "      <td>0.422514</td>\n",
       "    </tr>\n",
       "    <tr>\n",
       "      <th>0</th>\n",
       "      <td>KNeighborsClassifier</td>\n",
       "      <td>1.0</td>\n",
       "      <td>1.0</td>\n",
       "      <td>1.0</td>\n",
       "      <td>0.335869</td>\n",
       "    </tr>\n",
       "    <tr>\n",
       "      <th>0</th>\n",
       "      <td>DecisonTreeClassifier</td>\n",
       "      <td>1.0</td>\n",
       "      <td>1.0</td>\n",
       "      <td>1.0</td>\n",
       "      <td>0.288131</td>\n",
       "    </tr>\n",
       "    <tr>\n",
       "      <th>0</th>\n",
       "      <td>RandomForestClassifier</td>\n",
       "      <td>1.0</td>\n",
       "      <td>1.0</td>\n",
       "      <td>1.0</td>\n",
       "      <td>0.727397</td>\n",
       "    </tr>\n",
       "    <tr>\n",
       "      <th>0</th>\n",
       "      <td>LGBMClassifier</td>\n",
       "      <td>1.0</td>\n",
       "      <td>1.0</td>\n",
       "      <td>1.0</td>\n",
       "      <td>0.453430</td>\n",
       "    </tr>\n",
       "    <tr>\n",
       "      <th>0</th>\n",
       "      <td>CatBoostClassifier</td>\n",
       "      <td>1.0</td>\n",
       "      <td>1.0</td>\n",
       "      <td>1.0</td>\n",
       "      <td>0.446820</td>\n",
       "    </tr>\n",
       "  </tbody>\n",
       "</table>\n",
       "</div>"
      ],
      "text/plain": [
       "                       model  accuracy  precision  auc_roc     MAP@n\n",
       "0  LinearRegression_baseline       1.0        1.0      1.0  0.422514\n",
       "0       KNeighborsClassifier       1.0        1.0      1.0  0.335869\n",
       "0      DecisonTreeClassifier       1.0        1.0      1.0  0.288131\n",
       "0     RandomForestClassifier       1.0        1.0      1.0  0.727397\n",
       "0             LGBMClassifier       1.0        1.0      1.0  0.453430\n",
       "0         CatBoostClassifier       1.0        1.0      1.0  0.446820"
      ]
     },
     "execution_count": 69,
     "metadata": {},
     "output_type": "execute_result"
    }
   ],
   "source": [
    "metrics = metrics.append(get_metrics(y_test, y_pred, X_test, 'CatBoostClassifier'))\n",
    "metrics"
   ]
  },
  {
   "cell_type": "code",
   "execution_count": 154,
   "metadata": {
    "id": "dXHJscnqj2uf"
   },
   "outputs": [
    {
     "name": "stdout",
     "output_type": "stream",
     "text": [
      "precision_score train: 0.677\n",
      "precision_score test: 0.663\n",
      "delta = 2.1 %\n"
     ]
    }
   ],
   "source": [
    "check_overfitting(cb,\n",
    "                  X_train,\n",
    "                  y_train,\n",
    "                  X_test,\n",
    "                  y_test,\n",
    "                  metric=precision_score)"
   ]
  },
  {
   "cell_type": "markdown",
   "metadata": {},
   "source": [
    "## Tuning"
   ]
  },
  {
   "cell_type": "markdown",
   "metadata": {},
   "source": [
    "### Tuning LAMA AutoML"
   ]
  },
  {
   "cell_type": "code",
   "execution_count": 156,
   "metadata": {},
   "outputs": [],
   "source": [
    "from lightautoml.automl.presets.tabular_presets import TabularAutoML, TabularUtilizedAutoML\n",
    "from lightautoml.tasks import Task"
   ]
  },
  {
   "cell_type": "code",
   "execution_count": 157,
   "metadata": {},
   "outputs": [
    {
     "name": "stdout",
     "output_type": "stream",
     "text": [
      "Wall time: 25 ms\n"
     ]
    }
   ],
   "source": [
    "%%time\n",
    "\n",
    "task = Task('binary', loss='logloss', metric='auc')"
   ]
  },
  {
   "cell_type": "code",
   "execution_count": 158,
   "metadata": {},
   "outputs": [
    {
     "name": "stdout",
     "output_type": "stream",
     "text": [
      "Wall time: 0 ns\n"
     ]
    }
   ],
   "source": [
    "%%time\n",
    "\n",
    "roles = {'target': 'is_in_cur_basket'\n",
    "        }"
   ]
  },
  {
   "cell_type": "code",
   "execution_count": 159,
   "metadata": {},
   "outputs": [],
   "source": [
    "automl = TabularAutoML(task=task,\n",
    "#                        timeout=TIMEOUT,\n",
    "                       cpu_limit=4,\n",
    "                       reader_params={\n",
    "                           'n_jobs': 4,\n",
    "                           'cv': 5,\n",
    "                           'random_state': 17,\n",
    "                           'verbose': 1\n",
    "                       })"
   ]
  },
  {
   "cell_type": "code",
   "execution_count": 160,
   "metadata": {},
   "outputs": [
    {
     "name": "stdout",
     "output_type": "stream",
     "text": [
      "[18:59:40] Stdout logging level is INFO.\n",
      "[18:59:40] Copying TaskTimer may affect the parent PipelineTimer, so copy will create new unlimited TaskTimer\n",
      "[18:59:40] Task: binary\n",
      "\n",
      "[18:59:40] Start automl preset with listed constraints:\n",
      "[18:59:40] - time: 3600.00 seconds\n",
      "[18:59:40] - CPU: 4 cores\n",
      "[18:59:40] - memory: 16 GB\n",
      "\n",
      "[18:59:40] \u001b[1mTrain data shape: (1071164, 5)\u001b[0m\n",
      "\n",
      "[18:59:53] Layer \u001b[1m1\u001b[0m train process start. Time left 3587.31 secs\n",
      "[18:59:55] Start fitting \u001b[1mLvl_0_Pipe_0_Mod_0_LinearL2\u001b[0m ...\n",
      "[19:00:16] Fitting \u001b[1mLvl_0_Pipe_0_Mod_0_LinearL2\u001b[0m finished. score = \u001b[1m0.7756513122537122\u001b[0m\n",
      "[19:00:16] \u001b[1mLvl_0_Pipe_0_Mod_0_LinearL2\u001b[0m fitting and predicting completed\n",
      "[19:00:16] Time left 3564.78 secs\n",
      "\n",
      "[19:00:49] \u001b[1mSelector_LightGBM\u001b[0m fitting and predicting completed\n",
      "[19:00:51] Start fitting \u001b[1mLvl_0_Pipe_1_Mod_0_LightGBM\u001b[0m ...\n",
      "[19:03:35] Fitting \u001b[1mLvl_0_Pipe_1_Mod_0_LightGBM\u001b[0m finished. score = \u001b[1m0.8228532912245285\u001b[0m\n",
      "[19:03:35] \u001b[1mLvl_0_Pipe_1_Mod_0_LightGBM\u001b[0m fitting and predicting completed\n",
      "[19:03:35] Start hyperparameters optimization for \u001b[1mLvl_0_Pipe_1_Mod_1_Tuned_LightGBM\u001b[0m ... Time budget is 200.46 secs\n",
      "[19:07:01] Hyperparameters optimization for \u001b[1mLvl_0_Pipe_1_Mod_1_Tuned_LightGBM\u001b[0m completed\n",
      "[19:07:01] Start fitting \u001b[1mLvl_0_Pipe_1_Mod_1_Tuned_LightGBM\u001b[0m ...\n",
      "[19:10:30] Fitting \u001b[1mLvl_0_Pipe_1_Mod_1_Tuned_LightGBM\u001b[0m finished. score = \u001b[1m0.8235992360360315\u001b[0m\n",
      "[19:10:30] \u001b[1mLvl_0_Pipe_1_Mod_1_Tuned_LightGBM\u001b[0m fitting and predicting completed\n",
      "[19:10:30] Start fitting \u001b[1mLvl_0_Pipe_1_Mod_2_CatBoost\u001b[0m ...\n",
      "[19:22:28] Time limit exceeded after calculating fold 3\n",
      "\n",
      "[19:22:29] Fitting \u001b[1mLvl_0_Pipe_1_Mod_2_CatBoost\u001b[0m finished. score = \u001b[1m0.821474857400741\u001b[0m\n",
      "[19:22:29] \u001b[1mLvl_0_Pipe_1_Mod_2_CatBoost\u001b[0m fitting and predicting completed\n",
      "[19:22:29] Start hyperparameters optimization for \u001b[1mLvl_0_Pipe_1_Mod_3_Tuned_CatBoost\u001b[0m ... Time budget is 1.00 secs\n",
      "[19:26:30] Hyperparameters optimization for \u001b[1mLvl_0_Pipe_1_Mod_3_Tuned_CatBoost\u001b[0m completed\n",
      "[19:26:30] Start fitting \u001b[1mLvl_0_Pipe_1_Mod_3_Tuned_CatBoost\u001b[0m ...\n",
      "[19:52:12] Fitting \u001b[1mLvl_0_Pipe_1_Mod_3_Tuned_CatBoost\u001b[0m finished. score = \u001b[1m0.821374880792196\u001b[0m\n",
      "[19:52:12] \u001b[1mLvl_0_Pipe_1_Mod_3_Tuned_CatBoost\u001b[0m fitting and predicting completed\n",
      "[19:52:12] Time left 448.37 secs\n",
      "\n",
      "[19:52:12] Time limit exceeded in one of the tasks. AutoML will blend level 1 models.\n",
      "\n",
      "[19:52:12] \u001b[1mLayer 1 training completed.\u001b[0m\n",
      "\n",
      "[19:52:13] Blending: optimization starts with equal weights and score \u001b[1m0.8224940104839982\u001b[0m\n",
      "[19:52:32] Blending: iteration \u001b[1m0\u001b[0m: score = \u001b[1m0.8237354755275603\u001b[0m, weights = \u001b[1m[0.         0.17413189 0.7244247  0.         0.10144343]\u001b[0m\n",
      "[19:52:52] Blending: iteration \u001b[1m1\u001b[0m: score = \u001b[1m0.823737819211488\u001b[0m, weights = \u001b[1m[0.         0.21204215 0.6968226  0.         0.09113528]\u001b[0m\n",
      "[19:53:11] Blending: iteration \u001b[1m2\u001b[0m: score = \u001b[1m0.8237378186801508\u001b[0m, weights = \u001b[1m[0.         0.21270168 0.69587964 0.         0.09141874]\u001b[0m\n",
      "[19:53:30] Blending: iteration \u001b[1m3\u001b[0m: score = \u001b[1m0.8237378195819423\u001b[0m, weights = \u001b[1m[0.         0.21270165 0.6958796  0.         0.09141874]\u001b[0m\n",
      "[19:53:50] Blending: iteration \u001b[1m4\u001b[0m: score = \u001b[1m0.8237378195819423\u001b[0m, weights = \u001b[1m[0.         0.21270165 0.6958796  0.         0.09141874]\u001b[0m\n",
      "[19:53:50] Blending: no score update. Terminated\n",
      "\n",
      "[19:53:50] \u001b[1mAutoml preset training completed in 3249.97 seconds\u001b[0m\n",
      "\n",
      "[19:53:50] Model description:\n",
      "Final prediction for new objects (level 0) = \n",
      "\t 0.21270 * (5 averaged models Lvl_0_Pipe_1_Mod_0_LightGBM) +\n",
      "\t 0.69588 * (5 averaged models Lvl_0_Pipe_1_Mod_1_Tuned_LightGBM) +\n",
      "\t 0.09142 * (5 averaged models Lvl_0_Pipe_1_Mod_3_Tuned_CatBoost) \n",
      "\n",
      "Wall time: 54min 10s\n"
     ]
    }
   ],
   "source": [
    "%%time\n",
    "\n",
    "oof_pred = automl.fit_predict(cl_b, roles = roles, verbose=1)"
   ]
  },
  {
   "cell_type": "code",
   "execution_count": 161,
   "metadata": {},
   "outputs": [
    {
     "name": "stdout",
     "output_type": "stream",
     "text": [
      "Final prediction for new objects (level 0) = \n",
      "\t 0.21270 * (5 averaged models Lvl_0_Pipe_1_Mod_0_LightGBM) +\n",
      "\t 0.69588 * (5 averaged models Lvl_0_Pipe_1_Mod_1_Tuned_LightGBM) +\n",
      "\t 0.09142 * (5 averaged models Lvl_0_Pipe_1_Mod_3_Tuned_CatBoost) \n"
     ]
    }
   ],
   "source": [
    "# Посмотрим на структуру модели\n",
    "print(automl.create_model_str_desc())"
   ]
  },
  {
   "cell_type": "code",
   "execution_count": 162,
   "metadata": {},
   "outputs": [],
   "source": [
    "preds = automl.predict(X_test)"
   ]
  },
  {
   "cell_type": "code",
   "execution_count": 165,
   "metadata": {},
   "outputs": [
    {
     "data": {
      "text/html": [
       "<div>\n",
       "<style scoped>\n",
       "    .dataframe tbody tr th:only-of-type {\n",
       "        vertical-align: middle;\n",
       "    }\n",
       "\n",
       "    .dataframe tbody tr th {\n",
       "        vertical-align: top;\n",
       "    }\n",
       "\n",
       "    .dataframe thead th {\n",
       "        text-align: right;\n",
       "    }\n",
       "</style>\n",
       "<table border=\"1\" class=\"dataframe\">\n",
       "  <thead>\n",
       "    <tr style=\"text-align: right;\">\n",
       "      <th></th>\n",
       "      <th>user_id</th>\n",
       "      <th>order_number</th>\n",
       "      <th>product_id</th>\n",
       "      <th>tot_purchases</th>\n",
       "      <th>prob</th>\n",
       "    </tr>\n",
       "  </thead>\n",
       "  <tbody>\n",
       "    <tr>\n",
       "      <th>784167</th>\n",
       "      <td>150795</td>\n",
       "      <td>12</td>\n",
       "      <td>30489</td>\n",
       "      <td>3</td>\n",
       "      <td>0.306115</td>\n",
       "    </tr>\n",
       "    <tr>\n",
       "      <th>60042</th>\n",
       "      <td>11755</td>\n",
       "      <td>49</td>\n",
       "      <td>10326</td>\n",
       "      <td>16</td>\n",
       "      <td>0.437435</td>\n",
       "    </tr>\n",
       "    <tr>\n",
       "      <th>479777</th>\n",
       "      <td>91997</td>\n",
       "      <td>22</td>\n",
       "      <td>32655</td>\n",
       "      <td>18</td>\n",
       "      <td>0.750732</td>\n",
       "    </tr>\n",
       "    <tr>\n",
       "      <th>428657</th>\n",
       "      <td>82223</td>\n",
       "      <td>29</td>\n",
       "      <td>37947</td>\n",
       "      <td>1</td>\n",
       "      <td>0.000028</td>\n",
       "    </tr>\n",
       "    <tr>\n",
       "      <th>393322</th>\n",
       "      <td>75382</td>\n",
       "      <td>18</td>\n",
       "      <td>7628</td>\n",
       "      <td>1</td>\n",
       "      <td>0.000023</td>\n",
       "    </tr>\n",
       "  </tbody>\n",
       "</table>\n",
       "</div>"
      ],
      "text/plain": [
       "        user_id  order_number  product_id  tot_purchases      prob\n",
       "784167   150795            12       30489              3  0.306115\n",
       "60042     11755            49       10326             16  0.437435\n",
       "479777    91997            22       32655             18  0.750732\n",
       "428657    82223            29       37947              1  0.000028\n",
       "393322    75382            18        7628              1  0.000023"
      ]
     },
     "execution_count": 165,
     "metadata": {},
     "output_type": "execute_result"
    }
   ],
   "source": [
    "X_test['prob'] = list(preds.data[:, 0])\n",
    "y_pred = X_test.prob > 0.5\n",
    "X_test.head()"
   ]
  },
  {
   "cell_type": "code",
   "execution_count": 166,
   "metadata": {},
   "outputs": [
    {
     "data": {
      "text/html": [
       "<div>\n",
       "<style scoped>\n",
       "    .dataframe tbody tr th:only-of-type {\n",
       "        vertical-align: middle;\n",
       "    }\n",
       "\n",
       "    .dataframe tbody tr th {\n",
       "        vertical-align: top;\n",
       "    }\n",
       "\n",
       "    .dataframe thead th {\n",
       "        text-align: right;\n",
       "    }\n",
       "</style>\n",
       "<table border=\"1\" class=\"dataframe\">\n",
       "  <thead>\n",
       "    <tr style=\"text-align: right;\">\n",
       "      <th></th>\n",
       "      <th>model</th>\n",
       "      <th>accuracy</th>\n",
       "      <th>precision</th>\n",
       "      <th>auc_roc</th>\n",
       "      <th>MAP@n</th>\n",
       "    </tr>\n",
       "  </thead>\n",
       "  <tbody>\n",
       "    <tr>\n",
       "      <th>0</th>\n",
       "      <td>LinearRegression_baseline</td>\n",
       "      <td>1.0</td>\n",
       "      <td>1.0</td>\n",
       "      <td>1.0</td>\n",
       "      <td>0.147728</td>\n",
       "    </tr>\n",
       "    <tr>\n",
       "      <th>0</th>\n",
       "      <td>KNeighborsClassifier</td>\n",
       "      <td>1.0</td>\n",
       "      <td>1.0</td>\n",
       "      <td>1.0</td>\n",
       "      <td>0.060551</td>\n",
       "    </tr>\n",
       "    <tr>\n",
       "      <th>0</th>\n",
       "      <td>DecisonTreeClassifier</td>\n",
       "      <td>1.0</td>\n",
       "      <td>1.0</td>\n",
       "      <td>1.0</td>\n",
       "      <td>0.287462</td>\n",
       "    </tr>\n",
       "    <tr>\n",
       "      <th>0</th>\n",
       "      <td>RandomForestClassifier</td>\n",
       "      <td>1.0</td>\n",
       "      <td>1.0</td>\n",
       "      <td>1.0</td>\n",
       "      <td>0.691700</td>\n",
       "    </tr>\n",
       "    <tr>\n",
       "      <th>0</th>\n",
       "      <td>LGBMClassifier</td>\n",
       "      <td>1.0</td>\n",
       "      <td>1.0</td>\n",
       "      <td>1.0</td>\n",
       "      <td>0.174564</td>\n",
       "    </tr>\n",
       "    <tr>\n",
       "      <th>0</th>\n",
       "      <td>CatBoostClassifier</td>\n",
       "      <td>1.0</td>\n",
       "      <td>1.0</td>\n",
       "      <td>1.0</td>\n",
       "      <td>0.177278</td>\n",
       "    </tr>\n",
       "    <tr>\n",
       "      <th>0</th>\n",
       "      <td>LAMA AutoML</td>\n",
       "      <td>1.0</td>\n",
       "      <td>1.0</td>\n",
       "      <td>1.0</td>\n",
       "      <td>0.185452</td>\n",
       "    </tr>\n",
       "  </tbody>\n",
       "</table>\n",
       "</div>"
      ],
      "text/plain": [
       "                       model  accuracy  precision  auc_roc     MAP@n\n",
       "0  LinearRegression_baseline       1.0        1.0      1.0  0.147728\n",
       "0       KNeighborsClassifier       1.0        1.0      1.0  0.060551\n",
       "0      DecisonTreeClassifier       1.0        1.0      1.0  0.287462\n",
       "0     RandomForestClassifier       1.0        1.0      1.0  0.691700\n",
       "0             LGBMClassifier       1.0        1.0      1.0  0.174564\n",
       "0         CatBoostClassifier       1.0        1.0      1.0  0.177278\n",
       "0                LAMA AutoML       1.0        1.0      1.0  0.185452"
      ]
     },
     "execution_count": 166,
     "metadata": {},
     "output_type": "execute_result"
    }
   ],
   "source": [
    "metrics = metrics.append(get_metrics(y_test, y_pred, X_test, 'LAMA AutoML'))\n",
    "metrics"
   ]
  },
  {
   "cell_type": "markdown",
   "metadata": {},
   "source": [
    "### Optuna"
   ]
  },
  {
   "cell_type": "code",
   "execution_count": 21,
   "metadata": {},
   "outputs": [],
   "source": [
    "import optuna\n",
    "from sklearn.model_selection import KFold"
   ]
  },
  {
   "cell_type": "markdown",
   "metadata": {},
   "source": [
    "#### LGBM"
   ]
  },
  {
   "cell_type": "code",
   "execution_count": 105,
   "metadata": {},
   "outputs": [],
   "source": [
    "def objective(trial, X, y):\n",
    "    params = {\n",
    "        \"num_leaves\": trial.suggest_int(\"num_leaves\", 2, 50),\n",
    "        \"max_depth\":trial.suggest_int(\"max_depth\", 1, 10),\n",
    "        \"learning_rate\":trial.suggest_categorical(\"learning_rate\", [0.1, 0.01, 0.001]),\n",
    "        \"n_estimators\":trial.suggest_int(\"n_estimators\", 30, 100),\n",
    "#         \"class_weight\":trial.suggest_float(\"class_weight\", {0:0.7, 1:0.3}),\n",
    "#         \"class_weight\":trial.suggest_categorical(\"class_weight\", class_weight = {0:10,   1:20,  2:30,  3:50,  4:60,  5:70,  6:80,7:100}),\n",
    "        \"min_child_samples\":trial.suggest_float(\"min_child_samples\", 10, 40),\n",
    "        \"min_data_in_leaf\":trial.suggest_int(\"min_data_in_leaf\", 10, 100)\n",
    "    }\n",
    "    \n",
    "    cv = KFold(n_splits = 5, shuffle = True, random_state = 17)\n",
    "    \n",
    "    cv_predicts = np.empty(5)\n",
    "    for i, (train_idx, test_idx) in enumerate(cv.split(X, y)):\n",
    "        X_train, X_test = X.iloc[train_idx], X.iloc[test_idx]\n",
    "        y_train, y_test = y.iloc[train_idx], y.iloc[test_idx]\n",
    "        \n",
    "        model = LGBMClassifier(**params, class_weight={0:0.7, 1:0.3})\n",
    "        model.fit(X_train,\n",
    "                  y_train,\n",
    "                  eval_set=[(X_test, y_test)],\n",
    "                  eval_metric=\"auc\",\n",
    "                  early_stopping_rounds=100,\n",
    "                  verbose=0)\n",
    "        \n",
    "        preds = model.predict(X_test)\n",
    "        cv_predicts[i] = precision_score(y_test, preds)\n",
    "    \n",
    "    return np.mean(cv_predicts)"
   ]
  },
  {
   "cell_type": "code",
   "execution_count": 107,
   "metadata": {
    "scrolled": true
   },
   "outputs": [
    {
     "name": "stderr",
     "output_type": "stream",
     "text": [
      "\u001b[32m[I 2023-02-21 16:15:51,053]\u001b[0m A new study created in memory with name: LGBM\u001b[0m\n"
     ]
    }
   ],
   "source": [
    "study = optuna.create_study(direction=\"maximize\", study_name=\"LGBM\")\n",
    "\n",
    "func = lambda trial: objective(trial, X_train, y_train)"
   ]
  },
  {
   "cell_type": "code",
   "execution_count": 108,
   "metadata": {},
   "outputs": [
    {
     "data": {
      "application/vnd.jupyter.widget-view+json": {
       "model_id": "d4fd0d34cbd34c6b89687ae86ee8efe5",
       "version_major": 2,
       "version_minor": 0
      },
      "text/plain": [
       "  0%|          | 0/20 [00:00<?, ?it/s]"
      ]
     },
     "metadata": {},
     "output_type": "display_data"
    },
    {
     "name": "stdout",
     "output_type": "stream",
     "text": [
      "[LightGBM] [Warning] min_data_in_leaf is set=99, min_child_samples=29.591906664306574 will be ignored. Current value: min_data_in_leaf=99\n",
      "[LightGBM] [Warning] min_data_in_leaf is set=99, min_child_samples=29.591906664306574 will be ignored. Current value: min_data_in_leaf=99\n",
      "[LightGBM] [Warning] min_data_in_leaf is set=99, min_child_samples=29.591906664306574 will be ignored. Current value: min_data_in_leaf=99\n",
      "[LightGBM] [Warning] min_data_in_leaf is set=99, min_child_samples=29.591906664306574 will be ignored. Current value: min_data_in_leaf=99\n",
      "[LightGBM] [Warning] min_data_in_leaf is set=99, min_child_samples=29.591906664306574 will be ignored. Current value: min_data_in_leaf=99\n",
      "\u001b[32m[I 2023-02-21 16:15:59,412]\u001b[0m Trial 0 finished with value: 0.0 and parameters: {'num_leaves': 13, 'max_depth': 1, 'learning_rate': 0.01, 'n_estimators': 45, 'min_child_samples': 29.591906664306574, 'min_data_in_leaf': 99}. Best is trial 0 with value: 0.0.\u001b[0m\n",
      "[LightGBM] [Warning] min_data_in_leaf is set=29, min_child_samples=30.953518558547593 will be ignored. Current value: min_data_in_leaf=29\n",
      "[LightGBM] [Warning] min_data_in_leaf is set=29, min_child_samples=30.953518558547593 will be ignored. Current value: min_data_in_leaf=29\n",
      "[LightGBM] [Warning] min_data_in_leaf is set=29, min_child_samples=30.953518558547593 will be ignored. Current value: min_data_in_leaf=29\n",
      "[LightGBM] [Warning] min_data_in_leaf is set=29, min_child_samples=30.953518558547593 will be ignored. Current value: min_data_in_leaf=29\n",
      "[LightGBM] [Warning] min_data_in_leaf is set=29, min_child_samples=30.953518558547593 will be ignored. Current value: min_data_in_leaf=29\n",
      "\u001b[32m[I 2023-02-21 16:16:09,568]\u001b[0m Trial 1 finished with value: 0.818492960582429 and parameters: {'num_leaves': 11, 'max_depth': 2, 'learning_rate': 0.1, 'n_estimators': 73, 'min_child_samples': 30.953518558547593, 'min_data_in_leaf': 29}. Best is trial 1 with value: 0.818492960582429.\u001b[0m\n",
      "[LightGBM] [Warning] min_data_in_leaf is set=73, min_child_samples=25.16795130375659 will be ignored. Current value: min_data_in_leaf=73\n",
      "[LightGBM] [Warning] min_data_in_leaf is set=73, min_child_samples=25.16795130375659 will be ignored. Current value: min_data_in_leaf=73\n",
      "[LightGBM] [Warning] min_data_in_leaf is set=73, min_child_samples=25.16795130375659 will be ignored. Current value: min_data_in_leaf=73\n",
      "[LightGBM] [Warning] min_data_in_leaf is set=73, min_child_samples=25.16795130375659 will be ignored. Current value: min_data_in_leaf=73\n",
      "[LightGBM] [Warning] min_data_in_leaf is set=73, min_child_samples=25.16795130375659 will be ignored. Current value: min_data_in_leaf=73\n",
      "\u001b[32m[I 2023-02-21 16:16:16,051]\u001b[0m Trial 2 finished with value: 0.0 and parameters: {'num_leaves': 14, 'max_depth': 3, 'learning_rate': 0.01, 'n_estimators': 31, 'min_child_samples': 25.16795130375659, 'min_data_in_leaf': 73}. Best is trial 1 with value: 0.818492960582429.\u001b[0m\n",
      "[LightGBM] [Warning] min_data_in_leaf is set=99, min_child_samples=35.84956128097365 will be ignored. Current value: min_data_in_leaf=99\n",
      "[LightGBM] [Warning] min_data_in_leaf is set=99, min_child_samples=35.84956128097365 will be ignored. Current value: min_data_in_leaf=99\n",
      "[LightGBM] [Warning] min_data_in_leaf is set=99, min_child_samples=35.84956128097365 will be ignored. Current value: min_data_in_leaf=99\n",
      "[LightGBM] [Warning] min_data_in_leaf is set=99, min_child_samples=35.84956128097365 will be ignored. Current value: min_data_in_leaf=99\n",
      "[LightGBM] [Warning] min_data_in_leaf is set=99, min_child_samples=35.84956128097365 will be ignored. Current value: min_data_in_leaf=99\n",
      "\u001b[32m[I 2023-02-21 16:16:26,844]\u001b[0m Trial 3 finished with value: 0.0 and parameters: {'num_leaves': 42, 'max_depth': 8, 'learning_rate': 0.001, 'n_estimators': 47, 'min_child_samples': 35.84956128097365, 'min_data_in_leaf': 99}. Best is trial 1 with value: 0.818492960582429.\u001b[0m\n",
      "[LightGBM] [Warning] min_data_in_leaf is set=15, min_child_samples=29.514727046594814 will be ignored. Current value: min_data_in_leaf=15\n",
      "[LightGBM] [Warning] min_data_in_leaf is set=15, min_child_samples=29.514727046594814 will be ignored. Current value: min_data_in_leaf=15\n",
      "[LightGBM] [Warning] min_data_in_leaf is set=15, min_child_samples=29.514727046594814 will be ignored. Current value: min_data_in_leaf=15\n",
      "[LightGBM] [Warning] min_data_in_leaf is set=15, min_child_samples=29.514727046594814 will be ignored. Current value: min_data_in_leaf=15\n",
      "[LightGBM] [Warning] min_data_in_leaf is set=15, min_child_samples=29.514727046594814 will be ignored. Current value: min_data_in_leaf=15\n",
      "\u001b[32m[I 2023-02-21 16:16:40,517]\u001b[0m Trial 4 finished with value: 0.0 and parameters: {'num_leaves': 10, 'max_depth': 9, 'learning_rate': 0.001, 'n_estimators': 84, 'min_child_samples': 29.514727046594814, 'min_data_in_leaf': 15}. Best is trial 1 with value: 0.818492960582429.\u001b[0m\n",
      "[LightGBM] [Warning] min_data_in_leaf is set=10, min_child_samples=39.67794747726016 will be ignored. Current value: min_data_in_leaf=10\n",
      "[LightGBM] [Warning] min_data_in_leaf is set=10, min_child_samples=39.67794747726016 will be ignored. Current value: min_data_in_leaf=10\n",
      "[LightGBM] [Warning] min_data_in_leaf is set=10, min_child_samples=39.67794747726016 will be ignored. Current value: min_data_in_leaf=10\n",
      "[LightGBM] [Warning] min_data_in_leaf is set=10, min_child_samples=39.67794747726016 will be ignored. Current value: min_data_in_leaf=10\n",
      "[LightGBM] [Warning] min_data_in_leaf is set=10, min_child_samples=39.67794747726016 will be ignored. Current value: min_data_in_leaf=10\n",
      "\u001b[32m[I 2023-02-21 16:16:46,866]\u001b[0m Trial 5 finished with value: 0.0 and parameters: {'num_leaves': 17, 'max_depth': 1, 'learning_rate': 0.01, 'n_estimators': 46, 'min_child_samples': 39.67794747726016, 'min_data_in_leaf': 10}. Best is trial 1 with value: 0.818492960582429.\u001b[0m\n",
      "[LightGBM] [Warning] min_data_in_leaf is set=95, min_child_samples=37.59218613259549 will be ignored. Current value: min_data_in_leaf=95\n",
      "[LightGBM] [Warning] min_data_in_leaf is set=95, min_child_samples=37.59218613259549 will be ignored. Current value: min_data_in_leaf=95\n",
      "[LightGBM] [Warning] min_data_in_leaf is set=95, min_child_samples=37.59218613259549 will be ignored. Current value: min_data_in_leaf=95\n",
      "[LightGBM] [Warning] min_data_in_leaf is set=95, min_child_samples=37.59218613259549 will be ignored. Current value: min_data_in_leaf=95\n",
      "[LightGBM] [Warning] min_data_in_leaf is set=95, min_child_samples=37.59218613259549 will be ignored. Current value: min_data_in_leaf=95\n",
      "\u001b[32m[I 2023-02-21 16:16:56,060]\u001b[0m Trial 6 finished with value: 0.0 and parameters: {'num_leaves': 27, 'max_depth': 8, 'learning_rate': 0.001, 'n_estimators': 43, 'min_child_samples': 37.59218613259549, 'min_data_in_leaf': 95}. Best is trial 1 with value: 0.818492960582429.\u001b[0m\n",
      "[LightGBM] [Warning] min_data_in_leaf is set=48, min_child_samples=11.98549371421046 will be ignored. Current value: min_data_in_leaf=48\n",
      "[LightGBM] [Warning] min_data_in_leaf is set=48, min_child_samples=11.98549371421046 will be ignored. Current value: min_data_in_leaf=48\n",
      "[LightGBM] [Warning] min_data_in_leaf is set=48, min_child_samples=11.98549371421046 will be ignored. Current value: min_data_in_leaf=48\n",
      "[LightGBM] [Warning] min_data_in_leaf is set=48, min_child_samples=11.98549371421046 will be ignored. Current value: min_data_in_leaf=48\n",
      "[LightGBM] [Warning] min_data_in_leaf is set=48, min_child_samples=11.98549371421046 will be ignored. Current value: min_data_in_leaf=48\n",
      "\u001b[32m[I 2023-02-21 16:17:05,092]\u001b[0m Trial 7 finished with value: 0.0 and parameters: {'num_leaves': 2, 'max_depth': 5, 'learning_rate': 0.01, 'n_estimators': 80, 'min_child_samples': 11.98549371421046, 'min_data_in_leaf': 48}. Best is trial 1 with value: 0.818492960582429.\u001b[0m\n",
      "[LightGBM] [Warning] min_data_in_leaf is set=44, min_child_samples=16.981553559976867 will be ignored. Current value: min_data_in_leaf=44\n",
      "[LightGBM] [Warning] min_data_in_leaf is set=44, min_child_samples=16.981553559976867 will be ignored. Current value: min_data_in_leaf=44\n",
      "[LightGBM] [Warning] min_data_in_leaf is set=44, min_child_samples=16.981553559976867 will be ignored. Current value: min_data_in_leaf=44\n",
      "[LightGBM] [Warning] min_data_in_leaf is set=44, min_child_samples=16.981553559976867 will be ignored. Current value: min_data_in_leaf=44\n"
     ]
    },
    {
     "name": "stdout",
     "output_type": "stream",
     "text": [
      "[LightGBM] [Warning] min_data_in_leaf is set=44, min_child_samples=16.981553559976867 will be ignored. Current value: min_data_in_leaf=44\n",
      "\u001b[32m[I 2023-02-21 16:17:15,525]\u001b[0m Trial 8 finished with value: 0.0 and parameters: {'num_leaves': 41, 'max_depth': 7, 'learning_rate': 0.01, 'n_estimators': 44, 'min_child_samples': 16.981553559976867, 'min_data_in_leaf': 44}. Best is trial 1 with value: 0.818492960582429.\u001b[0m\n",
      "[LightGBM] [Warning] min_data_in_leaf is set=27, min_child_samples=24.69710417530824 will be ignored. Current value: min_data_in_leaf=27\n",
      "[LightGBM] [Warning] min_data_in_leaf is set=27, min_child_samples=24.69710417530824 will be ignored. Current value: min_data_in_leaf=27\n",
      "[LightGBM] [Warning] min_data_in_leaf is set=27, min_child_samples=24.69710417530824 will be ignored. Current value: min_data_in_leaf=27\n",
      "[LightGBM] [Warning] min_data_in_leaf is set=27, min_child_samples=24.69710417530824 will be ignored. Current value: min_data_in_leaf=27\n",
      "[LightGBM] [Warning] min_data_in_leaf is set=27, min_child_samples=24.69710417530824 will be ignored. Current value: min_data_in_leaf=27\n",
      "\u001b[32m[I 2023-02-21 16:17:26,645]\u001b[0m Trial 9 finished with value: 0.7895137231952156 and parameters: {'num_leaves': 39, 'max_depth': 3, 'learning_rate': 0.1, 'n_estimators': 70, 'min_child_samples': 24.69710417530824, 'min_data_in_leaf': 27}. Best is trial 1 with value: 0.818492960582429.\u001b[0m\n",
      "[LightGBM] [Warning] min_data_in_leaf is set=66, min_child_samples=32.381593973646204 will be ignored. Current value: min_data_in_leaf=66\n",
      "[LightGBM] [Warning] min_data_in_leaf is set=66, min_child_samples=32.381593973646204 will be ignored. Current value: min_data_in_leaf=66\n",
      "[LightGBM] [Warning] min_data_in_leaf is set=66, min_child_samples=32.381593973646204 will be ignored. Current value: min_data_in_leaf=66\n",
      "[LightGBM] [Warning] min_data_in_leaf is set=66, min_child_samples=32.381593973646204 will be ignored. Current value: min_data_in_leaf=66\n",
      "[LightGBM] [Warning] min_data_in_leaf is set=66, min_child_samples=32.381593973646204 will be ignored. Current value: min_data_in_leaf=66\n",
      "\u001b[32m[I 2023-02-21 16:17:42,922]\u001b[0m Trial 10 finished with value: 0.7810658716685441 and parameters: {'num_leaves': 28, 'max_depth': 4, 'learning_rate': 0.1, 'n_estimators': 97, 'min_child_samples': 32.381593973646204, 'min_data_in_leaf': 66}. Best is trial 1 with value: 0.818492960582429.\u001b[0m\n",
      "[LightGBM] [Warning] min_data_in_leaf is set=30, min_child_samples=22.525373409649035 will be ignored. Current value: min_data_in_leaf=30\n",
      "[LightGBM] [Warning] min_data_in_leaf is set=30, min_child_samples=22.525373409649035 will be ignored. Current value: min_data_in_leaf=30\n",
      "[LightGBM] [Warning] min_data_in_leaf is set=30, min_child_samples=22.525373409649035 will be ignored. Current value: min_data_in_leaf=30\n",
      "[LightGBM] [Warning] min_data_in_leaf is set=30, min_child_samples=22.525373409649035 will be ignored. Current value: min_data_in_leaf=30\n",
      "[LightGBM] [Warning] min_data_in_leaf is set=30, min_child_samples=22.525373409649035 will be ignored. Current value: min_data_in_leaf=30\n",
      "\u001b[32m[I 2023-02-21 16:17:53,848]\u001b[0m Trial 11 finished with value: 0.7891440703435816 and parameters: {'num_leaves': 50, 'max_depth': 3, 'learning_rate': 0.1, 'n_estimators': 68, 'min_child_samples': 22.525373409649035, 'min_data_in_leaf': 30}. Best is trial 1 with value: 0.818492960582429.\u001b[0m\n",
      "[LightGBM] [Warning] min_data_in_leaf is set=30, min_child_samples=24.278907678534832 will be ignored. Current value: min_data_in_leaf=30\n",
      "[LightGBM] [Warning] min_data_in_leaf is set=30, min_child_samples=24.278907678534832 will be ignored. Current value: min_data_in_leaf=30\n",
      "[LightGBM] [Warning] min_data_in_leaf is set=30, min_child_samples=24.278907678534832 will be ignored. Current value: min_data_in_leaf=30\n",
      "[LightGBM] [Warning] min_data_in_leaf is set=30, min_child_samples=24.278907678534832 will be ignored. Current value: min_data_in_leaf=30\n",
      "[LightGBM] [Warning] min_data_in_leaf is set=30, min_child_samples=24.278907678534832 will be ignored. Current value: min_data_in_leaf=30\n",
      "\u001b[32m[I 2023-02-21 16:18:03,029]\u001b[0m Trial 12 finished with value: 0.8282321008869603 and parameters: {'num_leaves': 36, 'max_depth': 2, 'learning_rate': 0.1, 'n_estimators': 64, 'min_child_samples': 24.278907678534832, 'min_data_in_leaf': 30}. Best is trial 12 with value: 0.8282321008869603.\u001b[0m\n",
      "[LightGBM] [Warning] min_data_in_leaf is set=32, min_child_samples=21.13007299907362 will be ignored. Current value: min_data_in_leaf=32\n",
      "[LightGBM] [Warning] min_data_in_leaf is set=32, min_child_samples=21.13007299907362 will be ignored. Current value: min_data_in_leaf=32\n",
      "[LightGBM] [Warning] min_data_in_leaf is set=32, min_child_samples=21.13007299907362 will be ignored. Current value: min_data_in_leaf=32\n",
      "[LightGBM] [Warning] min_data_in_leaf is set=32, min_child_samples=21.13007299907362 will be ignored. Current value: min_data_in_leaf=32\n",
      "[LightGBM] [Warning] min_data_in_leaf is set=32, min_child_samples=21.13007299907362 will be ignored. Current value: min_data_in_leaf=32\n",
      "\u001b[32m[I 2023-02-21 16:18:10,721]\u001b[0m Trial 13 finished with value: 0.0 and parameters: {'num_leaves': 32, 'max_depth': 1, 'learning_rate': 0.1, 'n_estimators': 56, 'min_child_samples': 21.13007299907362, 'min_data_in_leaf': 32}. Best is trial 12 with value: 0.8282321008869603.\u001b[0m\n",
      "[LightGBM] [Warning] min_data_in_leaf is set=42, min_child_samples=28.789338881279132 will be ignored. Current value: min_data_in_leaf=42\n",
      "[LightGBM] [Warning] min_data_in_leaf is set=42, min_child_samples=28.789338881279132 will be ignored. Current value: min_data_in_leaf=42\n",
      "[LightGBM] [Warning] min_data_in_leaf is set=42, min_child_samples=28.789338881279132 will be ignored. Current value: min_data_in_leaf=42\n",
      "[LightGBM] [Warning] min_data_in_leaf is set=42, min_child_samples=28.789338881279132 will be ignored. Current value: min_data_in_leaf=42\n",
      "[LightGBM] [Warning] min_data_in_leaf is set=42, min_child_samples=28.789338881279132 will be ignored. Current value: min_data_in_leaf=42\n",
      "\u001b[32m[I 2023-02-21 16:18:25,805]\u001b[0m Trial 14 finished with value: 0.77977975549325 and parameters: {'num_leaves': 22, 'max_depth': 6, 'learning_rate': 0.1, 'n_estimators': 80, 'min_child_samples': 28.789338881279132, 'min_data_in_leaf': 42}. Best is trial 12 with value: 0.8282321008869603.\u001b[0m\n",
      "[LightGBM] [Warning] min_data_in_leaf is set=21, min_child_samples=34.186658976106045 will be ignored. Current value: min_data_in_leaf=21\n",
      "[LightGBM] [Warning] min_data_in_leaf is set=21, min_child_samples=34.186658976106045 will be ignored. Current value: min_data_in_leaf=21\n",
      "[LightGBM] [Warning] min_data_in_leaf is set=21, min_child_samples=34.186658976106045 will be ignored. Current value: min_data_in_leaf=21\n",
      "[LightGBM] [Warning] min_data_in_leaf is set=21, min_child_samples=34.186658976106045 will be ignored. Current value: min_data_in_leaf=21\n",
      "[LightGBM] [Warning] min_data_in_leaf is set=21, min_child_samples=34.186658976106045 will be ignored. Current value: min_data_in_leaf=21\n",
      "\u001b[32m[I 2023-02-21 16:18:33,538]\u001b[0m Trial 15 finished with value: 0.0 and parameters: {'num_leaves': 2, 'max_depth': 2, 'learning_rate': 0.1, 'n_estimators': 59, 'min_child_samples': 34.186658976106045, 'min_data_in_leaf': 21}. Best is trial 12 with value: 0.8282321008869603.\u001b[0m\n",
      "[LightGBM] [Warning] min_data_in_leaf is set=60, min_child_samples=32.43749870386198 will be ignored. Current value: min_data_in_leaf=60\n",
      "[LightGBM] [Warning] min_data_in_leaf is set=60, min_child_samples=32.43749870386198 will be ignored. Current value: min_data_in_leaf=60\n",
      "[LightGBM] [Warning] min_data_in_leaf is set=60, min_child_samples=32.43749870386198 will be ignored. Current value: min_data_in_leaf=60\n",
      "[LightGBM] [Warning] min_data_in_leaf is set=60, min_child_samples=32.43749870386198 will be ignored. Current value: min_data_in_leaf=60\n",
      "[LightGBM] [Warning] min_data_in_leaf is set=60, min_child_samples=32.43749870386198 will be ignored. Current value: min_data_in_leaf=60\n",
      "\u001b[32m[I 2023-02-21 16:18:50,640]\u001b[0m Trial 16 finished with value: 0.7793987754605742 and parameters: {'num_leaves': 35, 'max_depth': 5, 'learning_rate': 0.1, 'n_estimators': 89, 'min_child_samples': 32.43749870386198, 'min_data_in_leaf': 60}. Best is trial 12 with value: 0.8282321008869603.\u001b[0m\n"
     ]
    },
    {
     "name": "stdout",
     "output_type": "stream",
     "text": [
      "[LightGBM] [Warning] min_data_in_leaf is set=36, min_child_samples=26.127578292594222 will be ignored. Current value: min_data_in_leaf=36\n",
      "[LightGBM] [Warning] min_data_in_leaf is set=36, min_child_samples=26.127578292594222 will be ignored. Current value: min_data_in_leaf=36\n",
      "[LightGBM] [Warning] min_data_in_leaf is set=36, min_child_samples=26.127578292594222 will be ignored. Current value: min_data_in_leaf=36\n",
      "[LightGBM] [Warning] min_data_in_leaf is set=36, min_child_samples=26.127578292594222 will be ignored. Current value: min_data_in_leaf=36\n",
      "[LightGBM] [Warning] min_data_in_leaf is set=36, min_child_samples=26.127578292594222 will be ignored. Current value: min_data_in_leaf=36\n",
      "\u001b[32m[I 2023-02-21 16:19:03,406]\u001b[0m Trial 17 finished with value: 0.7828437520219904 and parameters: {'num_leaves': 22, 'max_depth': 4, 'learning_rate': 0.1, 'n_estimators': 72, 'min_child_samples': 26.127578292594222, 'min_data_in_leaf': 36}. Best is trial 12 with value: 0.8282321008869603.\u001b[0m\n",
      "[LightGBM] [Warning] min_data_in_leaf is set=52, min_child_samples=19.613997119695597 will be ignored. Current value: min_data_in_leaf=52\n",
      "[LightGBM] [Warning] min_data_in_leaf is set=52, min_child_samples=19.613997119695597 will be ignored. Current value: min_data_in_leaf=52\n",
      "[LightGBM] [Warning] min_data_in_leaf is set=52, min_child_samples=19.613997119695597 will be ignored. Current value: min_data_in_leaf=52\n",
      "[LightGBM] [Warning] min_data_in_leaf is set=52, min_child_samples=19.613997119695597 will be ignored. Current value: min_data_in_leaf=52\n",
      "[LightGBM] [Warning] min_data_in_leaf is set=52, min_child_samples=19.613997119695597 will be ignored. Current value: min_data_in_leaf=52\n",
      "\u001b[32m[I 2023-02-21 16:19:12,266]\u001b[0m Trial 18 finished with value: 0.8342635175319677 and parameters: {'num_leaves': 49, 'max_depth': 2, 'learning_rate': 0.1, 'n_estimators': 59, 'min_child_samples': 19.613997119695597, 'min_data_in_leaf': 52}. Best is trial 18 with value: 0.8342635175319677.\u001b[0m\n",
      "[LightGBM] [Warning] min_data_in_leaf is set=81, min_child_samples=19.62537026974696 will be ignored. Current value: min_data_in_leaf=81\n",
      "[LightGBM] [Warning] min_data_in_leaf is set=81, min_child_samples=19.62537026974696 will be ignored. Current value: min_data_in_leaf=81\n",
      "[LightGBM] [Warning] min_data_in_leaf is set=81, min_child_samples=19.62537026974696 will be ignored. Current value: min_data_in_leaf=81\n",
      "[LightGBM] [Warning] min_data_in_leaf is set=81, min_child_samples=19.62537026974696 will be ignored. Current value: min_data_in_leaf=81\n",
      "[LightGBM] [Warning] min_data_in_leaf is set=81, min_child_samples=19.62537026974696 will be ignored. Current value: min_data_in_leaf=81\n",
      "\u001b[32m[I 2023-02-21 16:19:25,907]\u001b[0m Trial 19 finished with value: 0.7809711366123593 and parameters: {'num_leaves': 50, 'max_depth': 10, 'learning_rate': 0.1, 'n_estimators': 59, 'min_child_samples': 19.62537026974696, 'min_data_in_leaf': 81}. Best is trial 18 with value: 0.8342635175319677.\u001b[0m\n"
     ]
    }
   ],
   "source": [
    "study.optimize(func, n_trials = 20, show_progress_bar = True)"
   ]
  },
  {
   "cell_type": "code",
   "execution_count": 109,
   "metadata": {},
   "outputs": [
    {
     "data": {
      "text/plain": [
       "{'num_leaves': 49,\n",
       " 'max_depth': 2,\n",
       " 'learning_rate': 0.1,\n",
       " 'n_estimators': 59,\n",
       " 'min_child_samples': 19.613997119695597,\n",
       " 'min_data_in_leaf': 52}"
      ]
     },
     "execution_count": 109,
     "metadata": {},
     "output_type": "execute_result"
    }
   ],
   "source": [
    "study.best_params"
   ]
  },
  {
   "cell_type": "markdown",
   "metadata": {},
   "source": [
    "#### CatBoost"
   ]
  },
  {
   "cell_type": "code",
   "execution_count": 110,
   "metadata": {},
   "outputs": [],
   "source": [
    "def objective_cat(trial, X, y):\n",
    "    params2 = {\n",
    "        \"random_seed\": trial.suggest_int(\"n_estimators\", 1, 10),\n",
    "        \"learning_rate\": trial.suggest_float(\"learning_rate\", 0.001, 0.3), #0.07\n",
    "        \"depth\": trial.suggest_int(\"depth\", 3, 15),       \n",
    "        \"use_best_model\": trial.suggest_categorical(\"use_best_model\", [True]),\n",
    "        \"l2_leaf_reg\": trial.suggest_float(\"l2_leaf_reg\", 0.1, 0.5),\n",
    "        \"fold_permutation_block\": trial.suggest_int(\"fold_permutation_block\", 1, 5)\n",
    "    }\n",
    "    \n",
    "    cv = KFold(n_splits=5, shuffle=True, random_state=17)\n",
    "\n",
    "    cv_predicts = np.empty(5)\n",
    "    for idx, (train_idx, test_idx) in enumerate(cv.split(X, y)):\n",
    "        X_train, X_test = X.iloc[train_idx], X.iloc[test_idx]\n",
    "        y_train, y_test = y.iloc[train_idx], y.iloc[test_idx]\n",
    "        \n",
    "       \n",
    "        model = CatBoostClassifier(**params2, class_weight={0:0.7, 1:0.3})\n",
    "        model.fit(X_train,\n",
    "                  y_train,\n",
    "                  eval_set=[(X_test, y_test)],\n",
    "                  early_stopping_rounds=100,\n",
    "                  verbose=0)\n",
    "\n",
    "        preds = model.predict(X_test)\n",
    "        cv_predicts[idx] = precision_score(y_test, preds)\n",
    "\n",
    "    return np.mean(cv_predicts)"
   ]
  },
  {
   "cell_type": "code",
   "execution_count": 111,
   "metadata": {},
   "outputs": [
    {
     "name": "stderr",
     "output_type": "stream",
     "text": [
      "\u001b[32m[I 2023-02-21 16:20:44,322]\u001b[0m A new study created in memory with name: Cat\u001b[0m\n"
     ]
    }
   ],
   "source": [
    "study_cat = optuna.create_study(direction=\"maximize\", study_name=\"Cat\")\n",
    "\n",
    "func_cat = lambda trial: objective(trial, X_train, y_train)"
   ]
  },
  {
   "cell_type": "code",
   "execution_count": 112,
   "metadata": {},
   "outputs": [
    {
     "data": {
      "application/vnd.jupyter.widget-view+json": {
       "model_id": "b25264fefc4b4c8580b815e539434f24",
       "version_major": 2,
       "version_minor": 0
      },
      "text/plain": [
       "  0%|          | 0/5 [00:00<?, ?it/s]"
      ]
     },
     "metadata": {},
     "output_type": "display_data"
    },
    {
     "name": "stdout",
     "output_type": "stream",
     "text": [
      "[LightGBM] [Warning] min_data_in_leaf is set=56, min_child_samples=18.847637553443366 will be ignored. Current value: min_data_in_leaf=56\n",
      "[LightGBM] [Warning] min_data_in_leaf is set=56, min_child_samples=18.847637553443366 will be ignored. Current value: min_data_in_leaf=56\n",
      "[LightGBM] [Warning] min_data_in_leaf is set=56, min_child_samples=18.847637553443366 will be ignored. Current value: min_data_in_leaf=56\n",
      "[LightGBM] [Warning] min_data_in_leaf is set=56, min_child_samples=18.847637553443366 will be ignored. Current value: min_data_in_leaf=56\n",
      "[LightGBM] [Warning] min_data_in_leaf is set=56, min_child_samples=18.847637553443366 will be ignored. Current value: min_data_in_leaf=56\n",
      "\u001b[32m[I 2023-02-21 16:21:11,046]\u001b[0m Trial 0 finished with value: 0.0 and parameters: {'num_leaves': 48, 'max_depth': 9, 'learning_rate': 0.01, 'n_estimators': 86, 'min_child_samples': 18.847637553443366, 'min_data_in_leaf': 56}. Best is trial 0 with value: 0.0.\u001b[0m\n",
      "[LightGBM] [Warning] min_data_in_leaf is set=90, min_child_samples=38.100831246103894 will be ignored. Current value: min_data_in_leaf=90\n",
      "[LightGBM] [Warning] min_data_in_leaf is set=90, min_child_samples=38.100831246103894 will be ignored. Current value: min_data_in_leaf=90\n",
      "[LightGBM] [Warning] min_data_in_leaf is set=90, min_child_samples=38.100831246103894 will be ignored. Current value: min_data_in_leaf=90\n",
      "[LightGBM] [Warning] min_data_in_leaf is set=90, min_child_samples=38.100831246103894 will be ignored. Current value: min_data_in_leaf=90\n",
      "[LightGBM] [Warning] min_data_in_leaf is set=90, min_child_samples=38.100831246103894 will be ignored. Current value: min_data_in_leaf=90\n",
      "\u001b[32m[I 2023-02-21 16:21:23,385]\u001b[0m Trial 1 finished with value: 0.8000647317535112 and parameters: {'num_leaves': 4, 'max_depth': 7, 'learning_rate': 0.1, 'n_estimators': 89, 'min_child_samples': 38.100831246103894, 'min_data_in_leaf': 90}. Best is trial 1 with value: 0.8000647317535112.\u001b[0m\n",
      "[LightGBM] [Warning] min_data_in_leaf is set=17, min_child_samples=20.823222414169585 will be ignored. Current value: min_data_in_leaf=17\n",
      "[LightGBM] [Warning] min_data_in_leaf is set=17, min_child_samples=20.823222414169585 will be ignored. Current value: min_data_in_leaf=17\n",
      "[LightGBM] [Warning] min_data_in_leaf is set=17, min_child_samples=20.823222414169585 will be ignored. Current value: min_data_in_leaf=17\n",
      "[LightGBM] [Warning] min_data_in_leaf is set=17, min_child_samples=20.823222414169585 will be ignored. Current value: min_data_in_leaf=17\n",
      "[LightGBM] [Warning] min_data_in_leaf is set=17, min_child_samples=20.823222414169585 will be ignored. Current value: min_data_in_leaf=17\n",
      "\u001b[32m[I 2023-02-21 16:21:34,574]\u001b[0m Trial 2 finished with value: 0.7821561761266086 and parameters: {'num_leaves': 41, 'max_depth': 10, 'learning_rate': 0.1, 'n_estimators': 46, 'min_child_samples': 20.823222414169585, 'min_data_in_leaf': 17}. Best is trial 1 with value: 0.8000647317535112.\u001b[0m\n",
      "[LightGBM] [Warning] min_data_in_leaf is set=43, min_child_samples=30.021293599870273 will be ignored. Current value: min_data_in_leaf=43\n",
      "[LightGBM] [Warning] min_data_in_leaf is set=43, min_child_samples=30.021293599870273 will be ignored. Current value: min_data_in_leaf=43\n",
      "[LightGBM] [Warning] min_data_in_leaf is set=43, min_child_samples=30.021293599870273 will be ignored. Current value: min_data_in_leaf=43\n",
      "[LightGBM] [Warning] min_data_in_leaf is set=43, min_child_samples=30.021293599870273 will be ignored. Current value: min_data_in_leaf=43\n",
      "[LightGBM] [Warning] min_data_in_leaf is set=43, min_child_samples=30.021293599870273 will be ignored. Current value: min_data_in_leaf=43\n",
      "\u001b[32m[I 2023-02-21 16:21:44,444]\u001b[0m Trial 3 finished with value: 0.0 and parameters: {'num_leaves': 17, 'max_depth': 6, 'learning_rate': 0.01, 'n_estimators': 39, 'min_child_samples': 30.021293599870273, 'min_data_in_leaf': 43}. Best is trial 1 with value: 0.8000647317535112.\u001b[0m\n",
      "[LightGBM] [Warning] min_data_in_leaf is set=85, min_child_samples=31.589742653759338 will be ignored. Current value: min_data_in_leaf=85\n",
      "[LightGBM] [Warning] min_data_in_leaf is set=85, min_child_samples=31.589742653759338 will be ignored. Current value: min_data_in_leaf=85\n",
      "[LightGBM] [Warning] min_data_in_leaf is set=85, min_child_samples=31.589742653759338 will be ignored. Current value: min_data_in_leaf=85\n",
      "[LightGBM] [Warning] min_data_in_leaf is set=85, min_child_samples=31.589742653759338 will be ignored. Current value: min_data_in_leaf=85\n",
      "[LightGBM] [Warning] min_data_in_leaf is set=85, min_child_samples=31.589742653759338 will be ignored. Current value: min_data_in_leaf=85\n",
      "\u001b[32m[I 2023-02-21 16:22:01,805]\u001b[0m Trial 4 finished with value: 0.0 and parameters: {'num_leaves': 24, 'max_depth': 5, 'learning_rate': 0.001, 'n_estimators': 86, 'min_child_samples': 31.589742653759338, 'min_data_in_leaf': 85}. Best is trial 1 with value: 0.8000647317535112.\u001b[0m\n"
     ]
    }
   ],
   "source": [
    "study_cat.optimize(func_cat, n_trials=5, show_progress_bar=True)"
   ]
  },
  {
   "cell_type": "code",
   "execution_count": 113,
   "metadata": {},
   "outputs": [
    {
     "data": {
      "text/plain": [
       "{'num_leaves': 4,\n",
       " 'max_depth': 7,\n",
       " 'learning_rate': 0.1,\n",
       " 'n_estimators': 89,\n",
       " 'min_child_samples': 38.100831246103894,\n",
       " 'min_data_in_leaf': 90}"
      ]
     },
     "execution_count": 113,
     "metadata": {},
     "output_type": "execute_result"
    }
   ],
   "source": [
    "study_cat.best_params"
   ]
  },
  {
   "cell_type": "markdown",
   "metadata": {},
   "source": [
    "## Build recs"
   ]
  },
  {
   "cell_type": "markdown",
   "metadata": {},
   "source": [
    "Несколько вариантов расчета рекомендаций-предсказаний в зависимости от алгоритма."
   ]
  },
  {
   "cell_type": "markdown",
   "metadata": {},
   "source": [
    "**LAMA**"
   ]
  },
  {
   "cell_type": "code",
   "execution_count": null,
   "metadata": {},
   "outputs": [],
   "source": [
    "def predict_sample(usr_id, num_recs):\n",
    "    user_df = df_re[df_re.user_id == usr_id]\n",
    "    max_order = df_re[df_re.user_id == usr_id]['order_number'].max()\n",
    "    user_df = df_re[df_re['user_id'] == usr_id].groupby('product_id').agg('max').reset_index()\n",
    "    user_df.drop(columns = ['order_id', 'order_number', 'reordered'], axis = 1, inplace = True)\n",
    "    \n",
    "    user_df['order_number'] = max_order + 1\n",
    "    cols = ['user_id', 'order_number', 'product_id', 'weight_cum']\n",
    "    user_df = user_df[cols].drop_duplicates()\n",
    "    preds = automl.predict(user_df)\n",
    "    user_df['prob'] = list(preds.data[:, 0])\n",
    "    recs = user_df.sort_values(by = 'prob', ascending = False)['product_id'].iloc[:num_recs]\n",
    "    recs = list(recs)\n",
    "    \n",
    "    return recs"
   ]
  },
  {
   "cell_type": "markdown",
   "metadata": {},
   "source": [
    "**LGBM**"
   ]
  },
  {
   "cell_type": "code",
   "execution_count": 123,
   "metadata": {},
   "outputs": [],
   "source": [
    "def predict_sample(usr_id, num_recs):\n",
    "    user_df = df_re[df_re.user_id == usr_id]\n",
    "    max_order = df_re[df_re.user_id == usr_id]['order_number'].max()\n",
    "    user_df = df_re[df_re['user_id'] == usr_id].groupby('product_id').agg('max').reset_index()\n",
    "    user_df.drop(columns = ['order_id', 'order_number', 'reordered'], axis = 1, inplace = True)\n",
    "    \n",
    "    user_df['order_number'] = max_order + 1\n",
    "    cols = ['user_id', 'order_number', 'product_id', 'weight_cum']\n",
    "    user_df = user_df[cols].drop_duplicates()\n",
    "    preds = lg.predict(user_df)\n",
    "    user_df['prob'] = lg.predict_proba(user_df)[:,1]\n",
    "    recs = user_df.sort_values(by = 'prob', ascending = False)['product_id'].iloc[:num_recs]\n",
    "    recs = list(recs)\n",
    "    \n",
    "    return recs"
   ]
  },
  {
   "cell_type": "code",
   "execution_count": 124,
   "metadata": {
    "scrolled": true
   },
   "outputs": [
    {
     "name": "stdout",
     "output_type": "stream",
     "text": [
      "Wall time: 168 ms\n"
     ]
    }
   ],
   "source": [
    "%%time\n",
    "preds = predict_sample(1, 10)"
   ]
  },
  {
   "cell_type": "code",
   "execution_count": 125,
   "metadata": {},
   "outputs": [
    {
     "data": {
      "text/plain": [
       "[196, 12427, 10258, 25133, 46149, 13032, 49235, 35951, 38928, 39657]"
      ]
     },
     "execution_count": 125,
     "metadata": {},
     "output_type": "execute_result"
    }
   ],
   "source": [
    "preds"
   ]
  },
  {
   "cell_type": "markdown",
   "metadata": {},
   "source": [
    "**LGBM + Associat rules**"
   ]
  },
  {
   "cell_type": "code",
   "execution_count": null,
   "metadata": {},
   "outputs": [],
   "source": [
    "def predict_sample(usr_id, num_recs):\n",
    "    \"\"\"функция получения предсказаний для варианта с двумя пунктами \n",
    "    (перезаказы плюс новые продукты, найденные по ассоциативным правилам)\"\"\"\n",
    "    \n",
    "    user_df = df_re[df_re.user_id == usr_id]\n",
    "    max_order = df_re[df_re.user_id == usr_id]['order_number'].max()\n",
    "    user_df = df_re[df_re['user_id'] == usr_id].groupby('product_id').agg('max').reset_index()\n",
    "    user_df.drop(columns = ['order_id', 'order_number', 'reordered'], axis = 1, inplace = True)\n",
    "    \n",
    "    user_df['order_number'] = max_order + 1\n",
    "    cols = ['user_id', 'order_number', 'product_id', 'weight_cum']\n",
    "    user_df = user_df[cols].drop_duplicates()\n",
    "\n",
    "    user_df['prob'] = lg.predict_proba(user_df)[:,1]\n",
    "    \n",
    "    \n",
    "    #---------------------------------------------------------------------------------------------------------\n",
    "    # Если пользователь почти полностью повторил предыдущий заказ(процет перезаказа более 70 или 80 процентов)\n",
    "    # то оставляем только 1 пункт - бинарную классификацию(reordered)\n",
    "    # Если процент ниже, то делаем сверку уже предсказанных продуктов\n",
    "    # с ассоциативными правилами. Если есть продукты, \n",
    "    # часто покупаемые в сете с предсказанным продуктом, добавляем из в предсказание\n",
    "    #---------------------------------------------------------------------------------\n",
    "    # Процент перезаказа\n",
    "    reord_percent = reord[reord.index == usr_id]['ratio'].values[0]\n",
    "    \n",
    "    if reord_percent > 0.4:\n",
    "        recs = user_df.sort_values(by = 'prob', ascending = False)['product_id'].iloc[:num_recs]\n",
    "        recs = list(recs)\n",
    "    else:\n",
    "        recs = user_df.sort_values(by = 'prob', ascending = False)['product_id'].iloc[:5]\n",
    "        recs = list(recs)\n",
    "        \n",
    "        for i in recs:\n",
    "            # получаем продукты, покупаемые вместе с уже предсказанным, если есть\n",
    "            try:\n",
    "                list_of_coupled_prods = list(set(df_ar[df_ar[0] == i][1]))\n",
    "                i = 0\n",
    "                while len(recs) < num_recs and len(list_of_coupled_prods) > 0:\n",
    "                    if list(list_of_coupled_prods)[i] not in recs:\n",
    "                        recs.append(list_of_coupled_prods[i])\n",
    "                        i += 1\n",
    "                    else:\n",
    "                        break\n",
    "                    \n",
    "            except:\n",
    "                pass\n",
    "            \n",
    "    recs = recs[:num_recs]\n",
    "    \n",
    "    return recs"
   ]
  },
  {
   "cell_type": "code",
   "execution_count": null,
   "metadata": {},
   "outputs": [],
   "source": [
    "%%time\n",
    "data_asc_rules = list(df_transactions[df_transactions['product_id'].isin(cnt_prod.index)].groupby(['user_id', 'order_number'])['product_id'].apply(list)) \n",
    "result = list(apriori(data_asc_rules, min_support = 0.001, min_confidence = 0.1, min_lift = 4, min_length = 2, max_legth = 2))\n",
    "\n",
    "output = []\n",
    "for RelationRecord in result:\n",
    "    o = list(RelationRecord[0])\n",
    "#     support = RelationRecord[1]\n",
    "    output.append(o)\n",
    "df_ar = pd.DataFrame(output)\n",
    "df_ar['product_1'] = df_ar[0].map(df_products.product_name)\n",
    "df_ar['product_2'] = df_ar[1].map(df_products.product_name)"
   ]
  },
  {
   "cell_type": "code",
   "execution_count": null,
   "metadata": {},
   "outputs": [],
   "source": [
    "%%time\n",
    "preds = predict_sample(2, 10)"
   ]
  },
  {
   "cell_type": "markdown",
   "metadata": {},
   "source": [
    "**Collaborative filtering plus binary classification**"
   ]
  },
  {
   "cell_type": "code",
   "execution_count": null,
   "metadata": {},
   "outputs": [],
   "source": [
    "def get_product_set_of_similar_users(user_id):\n",
    "    \"\"\"функция получения набора продуктов, наиболее популярных у похожих на пользователя user_id\"\"\"\n",
    "    users = list(sim_user_n_u[sim_user_n_u.index == user_id].iloc[0].values)\n",
    "    all_prod_count = df_transactions[df_transactions['user_id'].isin(users)][['user_id', 'product_id', 'order_id']].groupby(['user_id', 'product_id']).agg('count').reset_index()\n",
    "    prod_list = all_prod_count.sort_values(by = ['order_id'], ascending = False)['product_id'][:10]\n",
    "    return set(prod_list)"
   ]
  },
  {
   "cell_type": "code",
   "execution_count": null,
   "metadata": {},
   "outputs": [],
   "source": [
    "def predict_sample(usr_id, num_recs):\n",
    "    \"\"\"функция получения предсказаний для варианта с двумя пунктами \n",
    "    (перезаказы плюс новые продукты, найденные по коллаборативной фильтрации)\"\"\"\n",
    "    \n",
    "    user_df = df_re[df_re.user_id == usr_id]\n",
    "    max_order = df_re[df_re.user_id == usr_id]['order_number'].max()\n",
    "    user_df = df_re[df_re['user_id'] == usr_id].groupby('product_id').agg('max').reset_index()\n",
    "    user_df.drop(columns = ['order_id', 'order_number', 'reordered'], axis = 1, inplace = True)\n",
    "    \n",
    "    user_df['order_number'] = max_order + 1\n",
    "    cols = ['user_id', 'order_number', 'product_id', 'weight_cum']\n",
    "    user_df = user_df[cols].drop_duplicates()\n",
    "\n",
    "    user_df['prob'] = lg.predict_proba(user_df)[:,1]\n",
    "    \n",
    "    #---------------------------------------------------------------------------------------------------------\n",
    "    # Если пользователь почти полностью повторил предыдущий заказ(процет перезаказа более 50 процентов)\n",
    "    # то оставляем только 1 пункт - бинарную классификацию(reordered)\n",
    "    # Если процент ниже, то делаем сверку с похожими пользователями \n",
    "    # и добавляем продукты, которых нет в предсказанных до 10\n",
    "    #---------------------------------------------------------------------------------------------------------\n",
    "    \n",
    "    # Процент перезаказа\n",
    "    reord_percent = reord_bask[reord_bask.index == usr_id]['ratio'].values\n",
    "    sim_users_df = pd.read_csv('collaborative_filtering.csv')\n",
    "     \n",
    "    if reord_percent > 0.5:\n",
    "        recs = user_df.sort_values(by = 'prob', ascending = False)['product_id'].iloc[:num_recs]\n",
    "        recs = list(recs)\n",
    "    else:\n",
    "        recs = user_df.sort_values(by = 'prob', ascending = False)['product_id'].iloc[:5]\n",
    "        recs = list(recs)\n",
    "        \n",
    "    # Получаем ближайшего пользователя\n",
    "    sim_us = sim_users_df[sim_users_df.index == usr_id]['top1']\n",
    "    # Получаем продукты\n",
    "    prods = get_product_set_of_similar_users(sim_us)\n",
    "    \n",
    "    \n",
    "    for i in recs:\n",
    "        i = 0\n",
    "        while len(recs) < num_recs:\n",
    "            if list(prods)[i] not in recs:\n",
    "                recs.append(list_of_coupled_prods[i])\n",
    "                i += 1\n",
    "            else:\n",
    "                break\n",
    "            \n",
    "    recs = recs[:num_recs]                         \n",
    "    \n",
    "    return recs"
   ]
  },
  {
   "cell_type": "markdown",
   "metadata": {},
   "source": [
    "### Preparing file"
   ]
  },
  {
   "cell_type": "code",
   "execution_count": 126,
   "metadata": {},
   "outputs": [
    {
     "name": "stdout",
     "output_type": "stream",
     "text": [
      "0\n",
      "5000\n",
      "10000\n",
      "15000\n",
      "20000\n",
      "25000\n",
      "30000\n",
      "35000\n",
      "40000\n",
      "45000\n",
      "50000\n",
      "55000\n",
      "60000\n",
      "65000\n",
      "70000\n",
      "75000\n",
      "80000\n",
      "85000\n",
      "90000\n",
      "95000\n",
      "recording\n",
      "Wall time: 5h 48min 33s\n"
     ]
    }
   ],
   "source": [
    "%%time\n",
    "predictions = []\n",
    "for en, i in enumerate(list(df_transactions.user_id.unique())):\n",
    "    preds  = predict_sample(i, 10)\n",
    "    list_string = list(map(str, preds))\n",
    "    prod_list = \" \".join(str(x) for x in list_string)\n",
    "    predictions.append(prod_list)\n",
    "    if en % 5000 == 0:\n",
    "        print(en)\n",
    "        \n",
    "print('recording')    \n",
    "users = list(df_transactions.user_id.unique())     \n",
    "results=pd.DataFrame({\"user_id\":users,\n",
    "                      \"product_id\":predictions})\n",
    "\n",
    "results.to_csv('LGBM_optuna.csv', index=False)"
   ]
  },
  {
   "cell_type": "code",
   "execution_count": null,
   "metadata": {},
   "outputs": [],
   "source": []
  }
 ],
 "metadata": {
  "colab": {
   "provenance": []
  },
  "kernelspec": {
   "display_name": "Python 3",
   "language": "python",
   "name": "python3"
  },
  "language_info": {
   "codemirror_mode": {
    "name": "ipython",
    "version": 3
   },
   "file_extension": ".py",
   "mimetype": "text/x-python",
   "name": "python",
   "nbconvert_exporter": "python",
   "pygments_lexer": "ipython3",
   "version": "3.8.8"
  },
  "toc": {
   "base_numbering": 1,
   "nav_menu": {},
   "number_sections": true,
   "sideBar": true,
   "skip_h1_title": false,
   "title_cell": "Table of Contents",
   "title_sidebar": "Contents",
   "toc_cell": false,
   "toc_position": {
    "height": "729.6px",
    "left": "90px",
    "top": "110.25px",
    "width": "240.975px"
   },
   "toc_section_display": true,
   "toc_window_display": true
  },
  "widgets": {
   "application/vnd.jupyter.widget-state+json": {
    "8264e9589fd14d75aa4847b701286550": {
     "model_module": "catboost-widget",
     "model_module_version": "^1.0.0",
     "model_name": "CatboostWidgetModel",
     "state": {
      "_dom_classes": [],
      "_model_module": "catboost-widget",
      "_model_module_version": "^1.0.0",
      "_model_name": "CatboostWidgetModel",
      "_view_count": null,
      "_view_module": "catboost-widget",
      "_view_module_version": "^1.0.0",
      "_view_name": "CatboostWidgetView",
      "data": {
       "catboost_info": {
        "content": {
         "data": {
          "iterations": [
           {
            "iteration": 0,
            "learn": [
             0.4245736809
            ],
            "passed_time": 0.6994588188,
            "remaining_time": 698.7593599,
            "test": [
             0.4240409749
            ]
           },
           {
            "iteration": 1,
            "learn": [
             0.3319511117
            ],
            "passed_time": 1.442076439,
            "remaining_time": 719.5961431,
            "test": [
             0.3316239587
            ]
           },
           {
            "iteration": 2,
            "learn": [
             0.2840375014
            ],
            "passed_time": 2.074491898,
            "remaining_time": 689.4228076,
            "test": [
             0.2836413422
            ]
           },
           {
            "iteration": 3,
            "learn": [
             0.2607670809
            ],
            "passed_time": 2.71240501,
            "remaining_time": 675.3888474,
            "test": [
             0.2601783272
            ]
           },
           {
            "iteration": 4,
            "learn": [
             0.2473298582
            ],
            "passed_time": 3.345871748,
            "remaining_time": 665.8284779,
            "test": [
             0.246727444
            ]
           },
           {
            "iteration": 5,
            "learn": [
             0.2350787204
            ],
            "passed_time": 3.975525936,
            "remaining_time": 658.6121301,
            "test": [
             0.2345209694
            ]
           },
           {
            "iteration": 6,
            "learn": [
             0.2260049169
            ],
            "passed_time": 4.608774363,
            "remaining_time": 653.7875632,
            "test": [
             0.2256353031
            ]
           },
           {
            "iteration": 7,
            "learn": [
             0.2187596892
            ],
            "passed_time": 5.229132791,
            "remaining_time": 648.412466,
            "test": [
             0.2183725057
            ]
           },
           {
            "iteration": 8,
            "learn": [
             0.2140612969
            ],
            "passed_time": 6.024270862,
            "remaining_time": 663.3391582,
            "test": [
             0.2138198993
            ]
           },
           {
            "iteration": 9,
            "learn": [
             0.208790934
            ],
            "passed_time": 6.624294113,
            "remaining_time": 655.8051171,
            "test": [
             0.2085445053
            ]
           },
           {
            "iteration": 10,
            "learn": [
             0.2064868235
            ],
            "passed_time": 7.230676293,
            "remaining_time": 650.1035322,
            "test": [
             0.2062317468
            ]
           },
           {
            "iteration": 11,
            "learn": [
             0.2031584998
            ],
            "passed_time": 7.878680475,
            "remaining_time": 648.6780258,
            "test": [
             0.2028708202
            ]
           },
           {
            "iteration": 12,
            "learn": [
             0.200219381
            ],
            "passed_time": 8.492398046,
            "remaining_time": 644.7689901,
            "test": [
             0.1999641076
            ]
           },
           {
            "iteration": 13,
            "learn": [
             0.1987096996
            ],
            "passed_time": 9.061138132,
            "remaining_time": 638.1630142,
            "test": [
             0.1984951999
            ]
           },
           {
            "iteration": 14,
            "learn": [
             0.1964497265
            ],
            "passed_time": 9.672676779,
            "remaining_time": 635.1724418,
            "test": [
             0.1962487512
            ]
           },
           {
            "iteration": 15,
            "learn": [
             0.1935678465
            ],
            "passed_time": 10.35422965,
            "remaining_time": 636.7851234,
            "test": [
             0.1933439446
            ]
           },
           {
            "iteration": 16,
            "learn": [
             0.1923911633
            ],
            "passed_time": 10.95072728,
            "remaining_time": 633.2097011,
            "test": [
             0.1920841696
            ]
           },
           {
            "iteration": 17,
            "learn": [
             0.1906387627
            ],
            "passed_time": 11.59653071,
            "remaining_time": 632.6551755,
            "test": [
             0.1903367135
            ]
           },
           {
            "iteration": 18,
            "learn": [
             0.1884072778
            ],
            "passed_time": 12.22472504,
            "remaining_time": 631.181856,
            "test": [
             0.18811257
            ]
           },
           {
            "iteration": 19,
            "learn": [
             0.1874712136
            ],
            "passed_time": 12.78897571,
            "remaining_time": 626.6598099,
            "test": [
             0.1871178885
            ]
           },
           {
            "iteration": 20,
            "learn": [
             0.1854958656
            ],
            "passed_time": 13.41631365,
            "remaining_time": 625.4557648,
            "test": [
             0.1851798762
            ]
           },
           {
            "iteration": 21,
            "learn": [
             0.1845080514
            ],
            "passed_time": 14.0253141,
            "remaining_time": 623.488963,
            "test": [
             0.1842166264
            ]
           },
           {
            "iteration": 22,
            "learn": [
             0.1834965458
            ],
            "passed_time": 14.67934984,
            "remaining_time": 623.5532517,
            "test": [
             0.1832691898
            ]
           },
           {
            "iteration": 23,
            "learn": [
             0.1818260419
            ],
            "passed_time": 15.30117517,
            "remaining_time": 622.24779,
            "test": [
             0.1816097441
            ]
           },
           {
            "iteration": 24,
            "learn": [
             0.1806770116
            ],
            "passed_time": 15.91911273,
            "remaining_time": 620.8453965,
            "test": [
             0.1804576967
            ]
           },
           {
            "iteration": 25,
            "learn": [
             0.1796120318
            ],
            "passed_time": 16.54677698,
            "remaining_time": 619.8677222,
            "test": [
             0.1793980182
            ]
           },
           {
            "iteration": 26,
            "learn": [
             0.1787334629
            ],
            "passed_time": 17.16151053,
            "remaining_time": 618.4499904,
            "test": [
             0.1785330465
            ]
           },
           {
            "iteration": 27,
            "learn": [
             0.1783177685
            ],
            "passed_time": 17.76787348,
            "remaining_time": 616.7990366,
            "test": [
             0.1780730329
            ]
           },
           {
            "iteration": 28,
            "learn": [
             0.1764896163
            ],
            "passed_time": 18.38111478,
            "remaining_time": 615.4504292,
            "test": [
             0.1762161974
            ]
           },
           {
            "iteration": 29,
            "learn": [
             0.1756329311
            ],
            "passed_time": 18.99403707,
            "remaining_time": 614.140532,
            "test": [
             0.175362828
            ]
           },
           {
            "iteration": 30,
            "learn": [
             0.1750090315
            ],
            "passed_time": 19.6195544,
            "remaining_time": 613.2692973,
            "test": [
             0.1747530061
            ]
           },
           {
            "iteration": 31,
            "learn": [
             0.1742992916
            ],
            "passed_time": 20.24682049,
            "remaining_time": 612.4663198,
            "test": [
             0.1740225344
            ]
           },
           {
            "iteration": 32,
            "learn": [
             0.1739776528
            ],
            "passed_time": 20.85448581,
            "remaining_time": 611.0996296,
            "test": [
             0.1736506755
            ]
           },
           {
            "iteration": 33,
            "learn": [
             0.1734570802
            ],
            "passed_time": 21.43693265,
            "remaining_time": 609.0610866,
            "test": [
             0.1731392201
            ]
           },
           {
            "iteration": 34,
            "learn": [
             0.173163846
            ],
            "passed_time": 21.99078568,
            "remaining_time": 606.3173767,
            "test": [
             0.1728237608
            ]
           },
           {
            "iteration": 35,
            "learn": [
             0.1729939254
            ],
            "passed_time": 22.5831354,
            "remaining_time": 604.7261813,
            "test": [
             0.172636256
            ]
           },
           {
            "iteration": 36,
            "learn": [
             0.1724924622
            ],
            "passed_time": 23.18528947,
            "remaining_time": 603.4441558,
            "test": [
             0.1721117087
            ]
           },
           {
            "iteration": 37,
            "learn": [
             0.171939249
            ],
            "passed_time": 23.83981469,
            "remaining_time": 603.5237297,
            "test": [
             0.1715611822
            ]
           },
           {
            "iteration": 38,
            "learn": [
             0.1713335699
            ],
            "passed_time": 24.44284187,
            "remaining_time": 602.2966933,
            "test": [
             0.1709686891
            ]
           },
           {
            "iteration": 39,
            "learn": [
             0.170384774
            ],
            "passed_time": 25.06212892,
            "remaining_time": 601.491094,
            "test": [
             0.1699888074
            ]
           },
           {
            "iteration": 40,
            "learn": [
             0.1701871706
            ],
            "passed_time": 25.61809585,
            "remaining_time": 599.2135102,
            "test": [
             0.1697708696
            ]
           },
           {
            "iteration": 41,
            "learn": [
             0.1693046641
            ],
            "passed_time": 26.24803991,
            "remaining_time": 598.7052912,
            "test": [
             0.168885818
            ]
           },
           {
            "iteration": 42,
            "learn": [
             0.1689193014
            ],
            "passed_time": 26.9287149,
            "remaining_time": 599.3204689,
            "test": [
             0.1685429463
            ]
           },
           {
            "iteration": 43,
            "learn": [
             0.1678006266
            ],
            "passed_time": 27.50518448,
            "remaining_time": 597.6126447,
            "test": [
             0.167399936
            ]
           },
           {
            "iteration": 44,
            "learn": [
             0.1673071282
            ],
            "passed_time": 28.07184453,
            "remaining_time": 595.7469228,
            "test": [
             0.1668809345
            ]
           },
           {
            "iteration": 45,
            "learn": [
             0.1671813328
            ],
            "passed_time": 28.65740806,
            "remaining_time": 594.3297238,
            "test": [
             0.1667479178
            ]
           },
           {
            "iteration": 46,
            "learn": [
             0.1668288851
            ],
            "passed_time": 29.22901742,
            "remaining_time": 592.6649703,
            "test": [
             0.1664027715
            ]
           },
           {
            "iteration": 47,
            "learn": [
             0.1656701419
            ],
            "passed_time": 29.87575119,
            "remaining_time": 592.535732,
            "test": [
             0.1652746201
            ]
           },
           {
            "iteration": 48,
            "learn": [
             0.1645903602
            ],
            "passed_time": 30.49554769,
            "remaining_time": 591.8625684,
            "test": [
             0.1642294475
            ]
           },
           {
            "iteration": 49,
            "learn": [
             0.1641435525
            ],
            "passed_time": 31.1169504,
            "remaining_time": 591.2220576,
            "test": [
             0.1637702611
            ]
           },
           {
            "iteration": 50,
            "learn": [
             0.1633539861
            ],
            "passed_time": 31.75910028,
            "remaining_time": 590.9683562,
            "test": [
             0.1629931566
            ]
           },
           {
            "iteration": 51,
            "learn": [
             0.163055645
            ],
            "passed_time": 32.35098593,
            "remaining_time": 589.7833588,
            "test": [
             0.1626780213
            ]
           },
           {
            "iteration": 52,
            "learn": [
             0.1622875744
            ],
            "passed_time": 32.99269334,
            "remaining_time": 589.5109546,
            "test": [
             0.1619079534
            ]
           },
           {
            "iteration": 53,
            "learn": [
             0.1616806126
            ],
            "passed_time": 33.5933538,
            "remaining_time": 588.5057906,
            "test": [
             0.1612979815
            ]
           },
           {
            "iteration": 54,
            "learn": [
             0.1615019814
            ],
            "passed_time": 34.14846928,
            "remaining_time": 586.7327903,
            "test": [
             0.1611255878
            ]
           },
           {
            "iteration": 55,
            "learn": [
             0.1606452724
            ],
            "passed_time": 34.79849079,
            "remaining_time": 586.6031305,
            "test": [
             0.1602909617
            ]
           },
           {
            "iteration": 56,
            "learn": [
             0.1604854583
            ],
            "passed_time": 35.40797024,
            "remaining_time": 585.7844902,
            "test": [
             0.1601267155
            ]
           },
           {
            "iteration": 57,
            "learn": [
             0.1602606434
            ],
            "passed_time": 36.02934403,
            "remaining_time": 585.1662427,
            "test": [
             0.1599070347
            ]
           },
           {
            "iteration": 58,
            "learn": [
             0.1602064772
            ],
            "passed_time": 36.57322897,
            "remaining_time": 583.3120079,
            "test": [
             0.159841057
            ]
           },
           {
            "iteration": 59,
            "learn": [
             0.1595299625
            ],
            "passed_time": 37.20831663,
            "remaining_time": 582.9302938,
            "test": [
             0.1592036438
            ]
           },
           {
            "iteration": 60,
            "learn": [
             0.1593346321
            ],
            "passed_time": 37.79565,
            "remaining_time": 581.8051697,
            "test": [
             0.1590169257
            ]
           },
           {
            "iteration": 61,
            "learn": [
             0.1590977061
            ],
            "passed_time": 38.3912846,
            "remaining_time": 580.8229831,
            "test": [
             0.1587799341
            ]
           },
           {
            "iteration": 62,
            "learn": [
             0.1585593724
            ],
            "passed_time": 39.01250881,
            "remaining_time": 580.2336628,
            "test": [
             0.1582201218
            ]
           },
           {
            "iteration": 63,
            "learn": [
             0.1583354406
            ],
            "passed_time": 39.56146293,
            "remaining_time": 578.5863954,
            "test": [
             0.1579846335
            ]
           },
           {
            "iteration": 64,
            "learn": [
             0.1582484786
            ],
            "passed_time": 40.10204203,
            "remaining_time": 576.8524508,
            "test": [
             0.1578736903
            ]
           },
           {
            "iteration": 65,
            "learn": [
             0.1581065091
            ],
            "passed_time": 40.64542637,
            "remaining_time": 575.1943671,
            "test": [
             0.1577225166
            ]
           },
           {
            "iteration": 66,
            "learn": [
             0.1579093054
            ],
            "passed_time": 41.27830802,
            "remaining_time": 574.8158415,
            "test": [
             0.1575296104
            ]
           },
           {
            "iteration": 67,
            "learn": [
             0.157103362
            ],
            "passed_time": 41.93368841,
            "remaining_time": 574.7382,
            "test": [
             0.1567804207
            ]
           },
           {
            "iteration": 68,
            "learn": [
             0.156758527
            ],
            "passed_time": 42.56672789,
            "remaining_time": 574.342372,
            "test": [
             0.1564362514
            ]
           },
           {
            "iteration": 69,
            "learn": [
             0.1560999763
            ],
            "passed_time": 43.19331161,
            "remaining_time": 573.8539972,
            "test": [
             0.1557818201
            ]
           },
           {
            "iteration": 70,
            "learn": [
             0.1556055591
            ],
            "passed_time": 43.78457963,
            "remaining_time": 572.8996405,
            "test": [
             0.1552743242
            ]
           },
           {
            "iteration": 71,
            "learn": [
             0.1553524112
            ],
            "passed_time": 44.41481886,
            "remaining_time": 572.4576653,
            "test": [
             0.1550396107
            ]
           },
           {
            "iteration": 72,
            "learn": [
             0.1549695542
            ],
            "passed_time": 45.05238595,
            "remaining_time": 572.1035859,
            "test": [
             0.1546488914
            ]
           },
           {
            "iteration": 73,
            "learn": [
             0.1545451314
            ],
            "passed_time": 45.6712591,
            "remaining_time": 571.5079179,
            "test": [
             0.1542678542
            ]
           },
           {
            "iteration": 74,
            "learn": [
             0.1540898936
            ],
            "passed_time": 46.30168734,
            "remaining_time": 571.0541438,
            "test": [
             0.1538012775
            ]
           },
           {
            "iteration": 75,
            "learn": [
             0.153618965
            ],
            "passed_time": 46.98460092,
            "remaining_time": 571.2338322,
            "test": [
             0.1533523137
            ]
           },
           {
            "iteration": 76,
            "learn": [
             0.1534625874
            ],
            "passed_time": 47.58379927,
            "remaining_time": 570.3876198,
            "test": [
             0.1531888634
            ]
           },
           {
            "iteration": 77,
            "learn": [
             0.1532870645
            ],
            "passed_time": 48.22225976,
            "remaining_time": 570.0118397,
            "test": [
             0.1530212848
            ]
           },
           {
            "iteration": 78,
            "learn": [
             0.1531796507
            ],
            "passed_time": 48.85723456,
            "remaining_time": 569.5887725,
            "test": [
             0.1529169234
            ]
           },
           {
            "iteration": 79,
            "learn": [
             0.1529832107
            ],
            "passed_time": 49.45020089,
            "remaining_time": 568.6773103,
            "test": [
             0.1527334125
            ]
           },
           {
            "iteration": 80,
            "learn": [
             0.1529005324
            ],
            "passed_time": 49.98546157,
            "remaining_time": 567.1190023,
            "test": [
             0.1526536447
            ]
           },
           {
            "iteration": 81,
            "learn": [
             0.1528774913
            ],
            "passed_time": 50.55984716,
            "remaining_time": 566.0236548,
            "test": [
             0.1526358964
            ]
           },
           {
            "iteration": 82,
            "learn": [
             0.152620722
            ],
            "passed_time": 51.21152257,
            "remaining_time": 565.7947734,
            "test": [
             0.1523892059
            ]
           },
           {
            "iteration": 83,
            "learn": [
             0.1524277781
            ],
            "passed_time": 51.80820551,
            "remaining_time": 564.9561458,
            "test": [
             0.1521991996
            ]
           },
           {
            "iteration": 84,
            "learn": [
             0.1522497316
            ],
            "passed_time": 52.36804786,
            "remaining_time": 563.7266328,
            "test": [
             0.1520070178
            ]
           },
           {
            "iteration": 85,
            "learn": [
             0.1519875272
            ],
            "passed_time": 53.00681342,
            "remaining_time": 563.3514821,
            "test": [
             0.1517369032
            ]
           },
           {
            "iteration": 86,
            "learn": [
             0.151880722
            ],
            "passed_time": 53.5782743,
            "remaining_time": 562.2639591,
            "test": [
             0.15162799
            ]
           },
           {
            "iteration": 87,
            "learn": [
             0.1518312987
            ],
            "passed_time": 54.15380702,
            "remaining_time": 561.2303637,
            "test": [
             0.1515821354
            ]
           },
           {
            "iteration": 88,
            "learn": [
             0.1517285624
            ],
            "passed_time": 54.74142905,
            "remaining_time": 560.3308074,
            "test": [
             0.1514861165
            ]
           },
           {
            "iteration": 89,
            "learn": [
             0.1515301774
            ],
            "passed_time": 55.38477494,
            "remaining_time": 560.0016133,
            "test": [
             0.151297457
            ]
           },
           {
            "iteration": 90,
            "learn": [
             0.1514378937
            ],
            "passed_time": 55.96524311,
            "remaining_time": 559.0374284,
            "test": [
             0.1512126252
            ]
           },
           {
            "iteration": 91,
            "learn": [
             0.1513763354
            ],
            "passed_time": 56.51845862,
            "remaining_time": 557.8126133,
            "test": [
             0.151135369
            ]
           },
           {
            "iteration": 92,
            "learn": [
             0.151243148
            ],
            "passed_time": 57.11937547,
            "remaining_time": 557.0674576,
            "test": [
             0.1510036852
            ]
           },
           {
            "iteration": 93,
            "learn": [
             0.151197388
            ],
            "passed_time": 57.71572912,
            "remaining_time": 556.2813892,
            "test": [
             0.150964556
            ]
           },
           {
            "iteration": 94,
            "learn": [
             0.1510050586
            ],
            "passed_time": 58.28506916,
            "remaining_time": 555.2419746,
            "test": [
             0.1507641711
            ]
           },
           {
            "iteration": 95,
            "learn": [
             0.1507922655
            ],
            "passed_time": 58.88030962,
            "remaining_time": 554.4562489,
            "test": [
             0.1505418006
            ]
           },
           {
            "iteration": 96,
            "learn": [
             0.1505987728
            ],
            "passed_time": 59.50464138,
            "remaining_time": 553.9452698,
            "test": [
             0.1503622212
            ]
           },
           {
            "iteration": 97,
            "learn": [
             0.1503951615
            ],
            "passed_time": 60.12070157,
            "remaining_time": 553.355845,
            "test": [
             0.1501512432
            ]
           },
           {
            "iteration": 98,
            "learn": [
             0.1501387621
            ],
            "passed_time": 60.81565374,
            "remaining_time": 553.483879,
            "test": [
             0.1499023677
            ]
           },
           {
            "iteration": 99,
            "learn": [
             0.1499118114
            ],
            "passed_time": 61.477191,
            "remaining_time": 553.294719,
            "test": [
             0.1496574658
            ]
           },
           {
            "iteration": 100,
            "learn": [
             0.1497764106
            ],
            "passed_time": 62.10462555,
            "remaining_time": 552.7926571,
            "test": [
             0.1495153596
            ]
           },
           {
            "iteration": 101,
            "learn": [
             0.1497562153
            ],
            "passed_time": 63.07237728,
            "remaining_time": 555.2842628,
            "test": [
             0.1495001184
            ]
           },
           {
            "iteration": 102,
            "learn": [
             0.1497038866
            ],
            "passed_time": 64.11148246,
            "remaining_time": 558.3300948,
            "test": [
             0.1494333023
            ]
           },
           {
            "iteration": 103,
            "learn": [
             0.1496870861
            ],
            "passed_time": 65.17477221,
            "remaining_time": 561.5057298,
            "test": [
             0.1494332024
            ]
           },
           {
            "iteration": 104,
            "learn": [
             0.1495681875
            ],
            "passed_time": 66.17849942,
            "remaining_time": 564.0929237,
            "test": [
             0.1493202124
            ]
           },
           {
            "iteration": 105,
            "learn": [
             0.1494932353
            ],
            "passed_time": 66.78230343,
            "remaining_time": 563.2394271,
            "test": [
             0.1492532273
            ]
           },
           {
            "iteration": 106,
            "learn": [
             0.1493699696
            ],
            "passed_time": 67.35657956,
            "remaining_time": 562.144164,
            "test": [
             0.1491185526
            ]
           },
           {
            "iteration": 107,
            "learn": [
             0.149344023
            ],
            "passed_time": 67.92030151,
            "remaining_time": 560.9713791,
            "test": [
             0.1491016398
            ]
           },
           {
            "iteration": 108,
            "learn": [
             0.1492902028
            ],
            "passed_time": 68.52242078,
            "remaining_time": 560.1236415,
            "test": [
             0.1490529624
            ]
           },
           {
            "iteration": 109,
            "learn": [
             0.1492306014
            ],
            "passed_time": 69.10759855,
            "remaining_time": 559.1432974,
            "test": [
             0.1489953256
            ]
           },
           {
            "iteration": 110,
            "learn": [
             0.1488331811
            ],
            "passed_time": 69.74640144,
            "remaining_time": 558.5995575,
            "test": [
             0.1486133056
            ]
           },
           {
            "iteration": 111,
            "learn": [
             0.1486921543
            ],
            "passed_time": 70.33357955,
            "remaining_time": 557.6448093,
            "test": [
             0.1484804025
            ]
           },
           {
            "iteration": 112,
            "learn": [
             0.1486138134
            ],
            "passed_time": 70.94335551,
            "remaining_time": 556.8739499,
            "test": [
             0.1484072761
            ]
           },
           {
            "iteration": 113,
            "learn": [
             0.148540114
            ],
            "passed_time": 71.52610946,
            "remaining_time": 555.8959034,
            "test": [
             0.1483311285
            ]
           },
           {
            "iteration": 114,
            "learn": [
             0.1484288521
            ],
            "passed_time": 72.13535423,
            "remaining_time": 555.1285956,
            "test": [
             0.1482213047
            ]
           },
           {
            "iteration": 115,
            "learn": [
             0.1483554511
            ],
            "passed_time": 72.73770083,
            "remaining_time": 554.3114443,
            "test": [
             0.1481544786
            ]
           },
           {
            "iteration": 116,
            "learn": [
             0.1481622447
            ],
            "passed_time": 73.3428241,
            "remaining_time": 553.5189204,
            "test": [
             0.1479553936
            ]
           },
           {
            "iteration": 117,
            "learn": [
             0.1479304555
            ],
            "passed_time": 73.97338732,
            "remaining_time": 552.9197255,
            "test": [
             0.1477367027
            ]
           },
           {
            "iteration": 118,
            "learn": [
             0.1479144604
            ],
            "passed_time": 74.58551856,
            "remaining_time": 552.1835449,
            "test": [
             0.1477295385
            ]
           },
           {
            "iteration": 119,
            "learn": [
             0.147863134
            ],
            "passed_time": 75.2021339,
            "remaining_time": 551.4823153,
            "test": [
             0.1476914472
            ]
           },
           {
            "iteration": 120,
            "learn": [
             0.1476100458
            ],
            "passed_time": 75.82141292,
            "remaining_time": 550.8018344,
            "test": [
             0.1474404437
            ]
           },
           {
            "iteration": 121,
            "learn": [
             0.1475307741
            ],
            "passed_time": 76.39223895,
            "remaining_time": 549.7736541,
            "test": [
             0.1473665806
            ]
           },
           {
            "iteration": 122,
            "learn": [
             0.1474727537
            ],
            "passed_time": 76.99689887,
            "remaining_time": 548.9941489,
            "test": [
             0.1473162545
            ]
           },
           {
            "iteration": 123,
            "learn": [
             0.1472847021
            ],
            "passed_time": 77.63512321,
            "remaining_time": 548.4545801,
            "test": [
             0.1471225698
            ]
           },
           {
            "iteration": 124,
            "learn": [
             0.1471212427
            ],
            "passed_time": 78.25221836,
            "remaining_time": 547.7655285,
            "test": [
             0.1469698204
            ]
           },
           {
            "iteration": 125,
            "learn": [
             0.1469100843
            ],
            "passed_time": 78.86520517,
            "remaining_time": 547.0491215,
            "test": [
             0.1467506459
            ]
           },
           {
            "iteration": 126,
            "learn": [
             0.1467731979
            ],
            "passed_time": 79.4658375,
            "remaining_time": 546.2494184,
            "test": [
             0.1466129491
            ]
           },
           {
            "iteration": 127,
            "learn": [
             0.1467472692
            ],
            "passed_time": 80.00857336,
            "remaining_time": 545.058406,
            "test": [
             0.1465877865
            ]
           },
           {
            "iteration": 128,
            "learn": [
             0.1467239418
            ],
            "passed_time": 80.61327219,
            "remaining_time": 544.2958145,
            "test": [
             0.1465720127
            ]
           },
           {
            "iteration": 129,
            "learn": [
             0.146676553
            ],
            "passed_time": 81.20657412,
            "remaining_time": 543.4593806,
            "test": [
             0.1465269974
            ]
           },
           {
            "iteration": 130,
            "learn": [
             0.1466043452
            ],
            "passed_time": 81.7852462,
            "remaining_time": 542.5296103,
            "test": [
             0.1464382677
            ]
           },
           {
            "iteration": 131,
            "learn": [
             0.146595056
            ],
            "passed_time": 82.30901851,
            "remaining_time": 541.244152,
            "test": [
             0.1464308833
            ]
           },
           {
            "iteration": 132,
            "learn": [
             0.1465606136
            ],
            "passed_time": 82.86330767,
            "remaining_time": 540.1690808,
            "test": [
             0.1463962277
            ]
           },
           {
            "iteration": 133,
            "learn": [
             0.146548753
            ],
            "passed_time": 83.48791577,
            "remaining_time": 539.5562318,
            "test": [
             0.1463857952
            ]
           },
           {
            "iteration": 134,
            "learn": [
             0.1465383899
            ],
            "passed_time": 84.09829581,
            "remaining_time": 538.8520435,
            "test": [
             0.1463787775
            ]
           },
           {
            "iteration": 135,
            "learn": [
             0.1465314036
            ],
            "passed_time": 84.69286193,
            "remaining_time": 538.0487699,
            "test": [
             0.1463732678
            ]
           },
           {
            "iteration": 136,
            "learn": [
             0.1465236297
            ],
            "passed_time": 85.25077638,
            "remaining_time": 537.0176643,
            "test": [
             0.1463869438
            ]
           },
           {
            "iteration": 137,
            "learn": [
             0.1465113455
            ],
            "passed_time": 85.87565564,
            "remaining_time": 536.4117041,
            "test": [
             0.1463819797
            ]
           },
           {
            "iteration": 138,
            "learn": [
             0.1464886087
            ],
            "passed_time": 86.43842643,
            "remaining_time": 535.4207565,
            "test": [
             0.146354962
            ]
           },
           {
            "iteration": 139,
            "learn": [
             0.1463959372
            ],
            "passed_time": 87.04736936,
            "remaining_time": 534.7195546,
            "test": [
             0.1462679942
            ]
           },
           {
            "iteration": 140,
            "learn": [
             0.1461484869
            ],
            "passed_time": 87.68470281,
            "remaining_time": 534.1926221,
            "test": [
             0.1460302532
            ]
           },
           {
            "iteration": 141,
            "learn": [
             0.1461127738
            ],
            "passed_time": 88.20465212,
            "remaining_time": 532.9548698,
            "test": [
             0.1460023437
            ]
           },
           {
            "iteration": 142,
            "learn": [
             0.1459295786
            ],
            "passed_time": 88.83162274,
            "remaining_time": 532.3685363,
            "test": [
             0.1458193916
            ]
           },
           {
            "iteration": 143,
            "learn": [
             0.1457863443
            ],
            "passed_time": 89.4465151,
            "remaining_time": 531.7098398,
            "test": [
             0.1456700978
            ]
           },
           {
            "iteration": 144,
            "learn": [
             0.1457235271
            ],
            "passed_time": 90.00480228,
            "remaining_time": 530.717972,
            "test": [
             0.1456114968
            ]
           },
           {
            "iteration": 145,
            "learn": [
             0.1457133072
            ],
            "passed_time": 90.57583806,
            "remaining_time": 529.8066144,
            "test": [
             0.1456019003
            ]
           },
           {
            "iteration": 146,
            "learn": [
             0.1456873845
            ],
            "passed_time": 91.21236315,
            "remaining_time": 529.2799032,
            "test": [
             0.1455841443
            ]
           },
           {
            "iteration": 147,
            "learn": [
             0.1456341668
            ],
            "passed_time": 91.81982572,
            "remaining_time": 528.5844021,
            "test": [
             0.1455324305
            ]
           },
           {
            "iteration": 148,
            "learn": [
             0.1456191382
            ],
            "passed_time": 92.37256229,
            "remaining_time": 527.5775202,
            "test": [
             0.1455148153
            ]
           },
           {
            "iteration": 149,
            "learn": [
             0.1455294079
            ],
            "passed_time": 92.99798411,
            "remaining_time": 526.9885766,
            "test": [
             0.1454230302
            ]
           },
           {
            "iteration": 150,
            "learn": [
             0.1455240683
            ],
            "passed_time": 93.59210603,
            "remaining_time": 526.2231657,
            "test": [
             0.1454183977
            ]
           },
           {
            "iteration": 151,
            "learn": [
             0.1454281631
            ],
            "passed_time": 94.24418195,
            "remaining_time": 525.7833309,
            "test": [
             0.1453231933
            ]
           },
           {
            "iteration": 152,
            "learn": [
             0.1453136616
            ],
            "passed_time": 94.88840059,
            "remaining_time": 525.2972242,
            "test": [
             0.1452050375
            ]
           },
           {
            "iteration": 153,
            "learn": [
             0.1451839227
            ],
            "passed_time": 95.46811063,
            "remaining_time": 524.4546857,
            "test": [
             0.1450706235
            ]
           },
           {
            "iteration": 154,
            "learn": [
             0.1450559616
            ],
            "passed_time": 96.10989362,
            "remaining_time": 523.9539362,
            "test": [
             0.1449372258
            ]
           },
           {
            "iteration": 155,
            "learn": [
             0.1450200516
            ],
            "passed_time": 96.66186143,
            "remaining_time": 522.9654554,
            "test": [
             0.1449088476
            ]
           },
           {
            "iteration": 156,
            "learn": [
             0.1447873556
            ],
            "passed_time": 97.27388887,
            "remaining_time": 522.3050212,
            "test": [
             0.1446630271
            ]
           },
           {
            "iteration": 157,
            "learn": [
             0.1447432422
            ],
            "passed_time": 97.88573296,
            "remaining_time": 521.6442225,
            "test": [
             0.144622942
            ]
           },
           {
            "iteration": 158,
            "learn": [
             0.1447224384
            ],
            "passed_time": 98.42170082,
            "remaining_time": 520.5827068,
            "test": [
             0.1446019842
            ]
           },
           {
            "iteration": 159,
            "learn": [
             0.1446974821
            ],
            "passed_time": 99.00610158,
            "remaining_time": 519.7820333,
            "test": [
             0.1445775935
            ]
           },
           {
            "iteration": 160,
            "learn": [
             0.1446369381
            ],
            "passed_time": 99.62898901,
            "remaining_time": 519.1846073,
            "test": [
             0.1445196776
            ]
           },
           {
            "iteration": 161,
            "learn": [
             0.1444558787
            ],
            "passed_time": 100.243409,
            "remaining_time": 518.5430665,
            "test": [
             0.1443458611
            ]
           },
           {
            "iteration": 162,
            "learn": [
             0.1444339353
            ],
            "passed_time": 100.823012,
            "remaining_time": 517.7230739,
            "test": [
             0.1443316789
            ]
           },
           {
            "iteration": 163,
            "learn": [
             0.1444143963
            ],
            "passed_time": 101.3868788,
            "remaining_time": 516.8257968,
            "test": [
             0.144318121
            ]
           },
           {
            "iteration": 164,
            "learn": [
             0.1444056083
            ],
            "passed_time": 102.0021323,
            "remaining_time": 516.1926089,
            "test": [
             0.1443138101
            ]
           },
           {
            "iteration": 165,
            "learn": [
             0.1443967904
            ],
            "passed_time": 102.552193,
            "remaining_time": 515.2321019,
            "test": [
             0.1443064434
            ]
           },
           {
            "iteration": 166,
            "learn": [
             0.1443892611
            ],
            "passed_time": 103.1732563,
            "remaining_time": 514.6306735,
            "test": [
             0.1443032994
            ]
           },
           {
            "iteration": 167,
            "learn": [
             0.14436974
            ],
            "passed_time": 103.759714,
            "remaining_time": 513.8576314,
            "test": [
             0.144301823
            ]
           },
           {
            "iteration": 168,
            "learn": [
             0.1443506664
            ],
            "passed_time": 104.4011045,
            "remaining_time": 513.3569101,
            "test": [
             0.1442931204
            ]
           },
           {
            "iteration": 169,
            "learn": [
             0.1442958498
            ],
            "passed_time": 105.0470818,
            "remaining_time": 512.8769285,
            "test": [
             0.1442527556
            ]
           },
           {
            "iteration": 170,
            "learn": [
             0.144193024
            ],
            "passed_time": 105.6772435,
            "remaining_time": 512.3183327,
            "test": [
             0.1441474803
            ]
           },
           {
            "iteration": 171,
            "learn": [
             0.1441462557
            ],
            "passed_time": 106.232251,
            "remaining_time": 511.3971154,
            "test": [
             0.1441030078
            ]
           },
           {
            "iteration": 172,
            "learn": [
             0.1440295288
            ],
            "passed_time": 106.8884002,
            "remaining_time": 510.963624,
            "test": [
             0.1439976473
            ]
           },
           {
            "iteration": 173,
            "learn": [
             0.143846954
            ],
            "passed_time": 107.5494743,
            "remaining_time": 510.5509528,
            "test": [
             0.1438232727
            ]
           },
           {
            "iteration": 174,
            "learn": [
             0.1438158467
            ],
            "passed_time": 108.1308145,
            "remaining_time": 509.7595543,
            "test": [
             0.1437926114
            ]
           },
           {
            "iteration": 175,
            "learn": [
             0.1437923641
            ],
            "passed_time": 108.6895838,
            "remaining_time": 508.8648697,
            "test": [
             0.1437677882
            ]
           },
           {
            "iteration": 176,
            "learn": [
             0.1437591687
            ],
            "passed_time": 109.3038996,
            "remaining_time": 508.2322563,
            "test": [
             0.143734315
            ]
           },
           {
            "iteration": 177,
            "learn": [
             0.1436469164
            ],
            "passed_time": 109.9318781,
            "remaining_time": 507.6629427,
            "test": [
             0.1436264352
            ]
           },
           {
            "iteration": 178,
            "learn": [
             0.1435777096
            ],
            "passed_time": 110.5661428,
            "remaining_time": 507.121806,
            "test": [
             0.1435550528
            ]
           },
           {
            "iteration": 179,
            "learn": [
             0.1435240922
            ],
            "passed_time": 111.2421279,
            "remaining_time": 506.7696936,
            "test": [
             0.1435041066
            ]
           },
           {
            "iteration": 180,
            "learn": [
             0.1434605651
            ],
            "passed_time": 111.8504057,
            "remaining_time": 506.107637,
            "test": [
             0.1434452779
            ]
           },
           {
            "iteration": 181,
            "learn": [
             0.1434330733
            ],
            "passed_time": 112.4419211,
            "remaining_time": 505.3708322,
            "test": [
             0.1434184624
            ]
           },
           {
            "iteration": 182,
            "learn": [
             0.1433136139
            ],
            "passed_time": 113.0820673,
            "remaining_time": 504.8527267,
            "test": [
             0.1432953579
            ]
           },
           {
            "iteration": 183,
            "learn": [
             0.1432867784
            ],
            "passed_time": 113.6583976,
            "remaining_time": 504.0502851,
            "test": [
             0.1432712711
            ]
           },
           {
            "iteration": 184,
            "learn": [
             0.143265545
            ],
            "passed_time": 114.2957234,
            "remaining_time": 503.5189975,
            "test": [
             0.1432547648
            ]
           },
           {
            "iteration": 185,
            "learn": [
             0.143245129
            ],
            "passed_time": 114.853654,
            "remaining_time": 502.6391093,
            "test": [
             0.1432370252
            ]
           },
           {
            "iteration": 186,
            "learn": [
             0.1431903959
            ],
            "passed_time": 115.46955,
            "remaining_time": 502.0146744,
            "test": [
             0.1431796248
            ]
           },
           {
            "iteration": 187,
            "learn": [
             0.1431802416
            ],
            "passed_time": 116.0398408,
            "remaining_time": 501.1933548,
            "test": [
             0.1431669772
            ]
           },
           {
            "iteration": 188,
            "learn": [
             0.1430767058
            ],
            "passed_time": 116.6905447,
            "remaining_time": 500.7197449,
            "test": [
             0.1430635665
            ]
           },
           {
            "iteration": 189,
            "learn": [
             0.1429723168
            ],
            "passed_time": 117.3302075,
            "remaining_time": 500.1972002,
            "test": [
             0.1429636391
            ]
           },
           {
            "iteration": 190,
            "learn": [
             0.1429381012
            ],
            "passed_time": 117.8536134,
            "remaining_time": 499.1810117,
            "test": [
             0.1429217808
            ]
           },
           {
            "iteration": 191,
            "learn": [
             0.142931443
            ],
            "passed_time": 118.4530081,
            "remaining_time": 498.4897424,
            "test": [
             0.1429195414
            ]
           },
           {
            "iteration": 192,
            "learn": [
             0.1429260199
            ],
            "passed_time": 119.0607184,
            "remaining_time": 497.8341954,
            "test": [
             0.1429181212
            ]
           },
           {
            "iteration": 193,
            "learn": [
             0.1428963564
            ],
            "passed_time": 119.6098404,
            "remaining_time": 496.9357285,
            "test": [
             0.1428859011
            ]
           },
           {
            "iteration": 194,
            "learn": [
             0.1428723547
            ],
            "passed_time": 120.1742957,
            "remaining_time": 496.1041438,
            "test": [
             0.1428631184
            ]
           },
           {
            "iteration": 195,
            "learn": [
             0.1428423631
            ],
            "passed_time": 120.8484797,
            "remaining_time": 495.7253965,
            "test": [
             0.1428337943
            ]
           },
           {
            "iteration": 196,
            "learn": [
             0.1428151099
            ],
            "passed_time": 121.46223,
            "remaining_time": 495.0973132,
            "test": [
             0.1428093424
            ]
           },
           {
            "iteration": 197,
            "learn": [
             0.1427974622
            ],
            "passed_time": 122.0882695,
            "remaining_time": 494.5191522,
            "test": [
             0.1427946192
            ]
           },
           {
            "iteration": 198,
            "learn": [
             0.1427870573
            ],
            "passed_time": 122.7346954,
            "remaining_time": 494.0225679,
            "test": [
             0.142786253
            ]
           },
           {
            "iteration": 199,
            "learn": [
             0.1427748805
            ],
            "passed_time": 123.3733685,
            "remaining_time": 493.4934741,
            "test": [
             0.1427766398
            ]
           },
           {
            "iteration": 200,
            "learn": [
             0.1427621786
            ],
            "passed_time": 123.9702967,
            "remaining_time": 492.7973485,
            "test": [
             0.1427654441
            ]
           },
           {
            "iteration": 201,
            "learn": [
             0.142717582
            ],
            "passed_time": 124.5526871,
            "remaining_time": 492.0447736,
            "test": [
             0.1427247935
            ]
           },
           {
            "iteration": 202,
            "learn": [
             0.1426012369
            ],
            "passed_time": 125.2533181,
            "remaining_time": 491.7581013,
            "test": [
             0.1426130132
            ]
           },
           {
            "iteration": 203,
            "learn": [
             0.1425636087
            ],
            "passed_time": 125.8480369,
            "remaining_time": 491.0541047,
            "test": [
             0.1425864037
            ]
           },
           {
            "iteration": 204,
            "learn": [
             0.1425499463
            ],
            "passed_time": 126.4673706,
            "remaining_time": 490.4466324,
            "test": [
             0.1425793039
            ]
           },
           {
            "iteration": 205,
            "learn": [
             0.1425363734
            ],
            "passed_time": 127.0013405,
            "remaining_time": 489.5100212,
            "test": [
             0.1425665807
            ]
           },
           {
            "iteration": 206,
            "learn": [
             0.1424771479
            ],
            "passed_time": 127.6682589,
            "remaining_time": 489.086615,
            "test": [
             0.1425079935
            ]
           },
           {
            "iteration": 207,
            "learn": [
             0.1424669459
            ],
            "passed_time": 128.2735253,
            "remaining_time": 488.4261155,
            "test": [
             0.1424978325
            ]
           },
           {
            "iteration": 208,
            "learn": [
             0.1424560995
            ],
            "passed_time": 128.8677143,
            "remaining_time": 487.7242201,
            "test": [
             0.1424902514
            ]
           },
           {
            "iteration": 209,
            "learn": [
             0.1424513385
            ],
            "passed_time": 129.4627607,
            "remaining_time": 487.026576,
            "test": [
             0.1424890356
            ]
           },
           {
            "iteration": 210,
            "learn": [
             0.1424102619
            ],
            "passed_time": 130.0718213,
            "remaining_time": 486.3823081,
            "test": [
             0.1424534817
            ]
           },
           {
            "iteration": 211,
            "learn": [
             0.1423795484
            ],
            "passed_time": 130.719198,
            "remaining_time": 485.8807924,
            "test": [
             0.142424295
            ]
           },
           {
            "iteration": 212,
            "learn": [
             0.1423426838
            ],
            "passed_time": 131.2852533,
            "remaining_time": 485.0774382,
            "test": [
             0.1423892801
            ]
           },
           {
            "iteration": 213,
            "learn": [
             0.1422792164
            ],
            "passed_time": 131.9042075,
            "remaining_time": 484.470594,
            "test": [
             0.1423266135
            ]
           },
           {
            "iteration": 214,
            "learn": [
             0.1422649633
            ],
            "passed_time": 132.5040244,
            "remaining_time": 483.7937635,
            "test": [
             0.142313589
            ]
           },
           {
            "iteration": 215,
            "learn": [
             0.1422513904
            ],
            "passed_time": 133.0881496,
            "remaining_time": 483.0606911,
            "test": [
             0.1423049638
            ]
           },
           {
            "iteration": 216,
            "learn": [
             0.1422453647
            ],
            "passed_time": 133.7505908,
            "remaining_time": 482.6115789,
            "test": [
             0.1422970032
            ]
           },
           {
            "iteration": 217,
            "learn": [
             0.1422220491
            ],
            "passed_time": 134.2883174,
            "remaining_time": 481.7131386,
            "test": [
             0.1422769589
            ]
           },
           {
            "iteration": 218,
            "learn": [
             0.1422118829
            ],
            "passed_time": 134.9582509,
            "remaining_time": 481.2894702,
            "test": [
             0.1422678214
            ]
           },
           {
            "iteration": 219,
            "learn": [
             0.1421524485
            ],
            "passed_time": 135.6496883,
            "remaining_time": 480.9398041,
            "test": [
             0.1422102451
            ]
           },
           {
            "iteration": 220,
            "learn": [
             0.1421237158
            ],
            "passed_time": 136.2746058,
            "remaining_time": 480.3525697,
            "test": [
             0.1421838299
            ]
           },
           {
            "iteration": 221,
            "learn": [
             0.1420749011
            ],
            "passed_time": 136.932281,
            "remaining_time": 479.8797955,
            "test": [
             0.1421366132
            ]
           },
           {
            "iteration": 222,
            "learn": [
             0.1420621455
            ],
            "passed_time": 137.5540061,
            "remaining_time": 479.2801019,
            "test": [
             0.1421279267
            ]
           },
           {
            "iteration": 223,
            "learn": [
             0.1420117021
            ],
            "passed_time": 138.178964,
            "remaining_time": 478.6914111,
            "test": [
             0.1420763116
            ]
           },
           {
            "iteration": 224,
            "learn": [
             0.1420051036
            ],
            "passed_time": 138.811514,
            "remaining_time": 478.1285482,
            "test": [
             0.1420752818
            ]
           },
           {
            "iteration": 225,
            "learn": [
             0.1419947047
            ],
            "passed_time": 139.395787,
            "remaining_time": 477.3997307,
            "test": [
             0.1420726063
            ]
           },
           {
            "iteration": 226,
            "learn": [
             0.1419769973
            ],
            "passed_time": 139.9706285,
            "remaining_time": 476.6400696,
            "test": [
             0.1420575727
            ]
           },
           {
            "iteration": 227,
            "learn": [
             0.141960668
            ],
            "passed_time": 140.5655909,
            "remaining_time": 475.9501585,
            "test": [
             0.1420449042
            ]
           },
           {
            "iteration": 228,
            "learn": [
             0.1419539741
            ],
            "passed_time": 141.1395164,
            "remaining_time": 475.1902497,
            "test": [
             0.1420417878
            ]
           },
           {
            "iteration": 229,
            "learn": [
             0.1419431217
            ],
            "passed_time": 141.7621497,
            "remaining_time": 474.5950229,
            "test": [
             0.1420354339
            ]
           },
           {
            "iteration": 230,
            "learn": [
             0.1418961028
            ],
            "passed_time": 142.3605835,
            "remaining_time": 473.9189987,
            "test": [
             0.1419897475
            ]
           },
           {
            "iteration": 231,
            "learn": [
             0.1418910615
            ],
            "passed_time": 142.9666536,
            "remaining_time": 473.2689223,
            "test": [
             0.1419905918
            ]
           },
           {
            "iteration": 232,
            "learn": [
             0.1418805731
            ],
            "passed_time": 143.5911796,
            "remaining_time": 472.6799775,
            "test": [
             0.1419823654
            ]
           },
           {
            "iteration": 233,
            "learn": [
             0.1418413399
            ],
            "passed_time": 144.2028181,
            "remaining_time": 472.0485413,
            "test": [
             0.1419472102
            ]
           },
           {
            "iteration": 234,
            "learn": [
             0.1418321283
            ],
            "passed_time": 144.8082297,
            "remaining_time": 471.3970029,
            "test": [
             0.1419436606
            ]
           },
           {
            "iteration": 235,
            "learn": [
             0.1417929369
            ],
            "passed_time": 145.3953715,
            "remaining_time": 470.686711,
            "test": [
             0.1418987597
            ]
           },
           {
            "iteration": 236,
            "learn": [
             0.14177656
            ],
            "passed_time": 146.0042292,
            "remaining_time": 470.0473708,
            "test": [
             0.1418841249
            ]
           },
           {
            "iteration": 237,
            "learn": [
             0.1417593
            ],
            "passed_time": 146.5412486,
            "remaining_time": 469.1782834,
            "test": [
             0.1418643357
            ]
           },
           {
            "iteration": 238,
            "learn": [
             0.1417516873
            ],
            "passed_time": 147.1296189,
            "remaining_time": 468.4754812,
            "test": [
             0.1418621466
            ]
           },
           {
            "iteration": 239,
            "learn": [
             0.1416214352
            ],
            "passed_time": 147.7782502,
            "remaining_time": 467.964459,
            "test": [
             0.1417374875
            ]
           },
           {
            "iteration": 240,
            "learn": [
             0.1416156302
            ],
            "passed_time": 148.3224965,
            "remaining_time": 467.1235472,
            "test": [
             0.1417338535
            ]
           },
           {
            "iteration": 241,
            "learn": [
             0.1416043364
            ],
            "passed_time": 148.8994865,
            "remaining_time": 466.3876478,
            "test": [
             0.1417280854
            ]
           },
           {
            "iteration": 242,
            "learn": [
             0.1415936272
            ],
            "passed_time": 149.5029422,
            "remaining_time": 465.7355032,
            "test": [
             0.1417263037
            ]
           },
           {
            "iteration": 243,
            "learn": [
             0.1415864023
            ],
            "passed_time": 150.107043,
            "remaining_time": 465.0857561,
            "test": [
             0.1417280882
            ]
           },
           {
            "iteration": 244,
            "learn": [
             0.1415768684
            ],
            "passed_time": 150.6708763,
            "remaining_time": 464.3122922,
            "test": [
             0.141718834
            ]
           },
           {
            "iteration": 245,
            "learn": [
             0.1414975311
            ],
            "passed_time": 151.3183102,
            "remaining_time": 463.7967719,
            "test": [
             0.1416453476
            ]
           },
           {
            "iteration": 246,
            "learn": [
             0.1414880391
            ],
            "passed_time": 151.9199173,
            "remaining_time": 463.1404766,
            "test": [
             0.1416423729
            ]
           },
           {
            "iteration": 247,
            "learn": [
             0.1414830693
            ],
            "passed_time": 152.5086188,
            "remaining_time": 462.4454894,
            "test": [
             0.1416435677
            ]
           },
           {
            "iteration": 248,
            "learn": [
             0.1414743051
            ],
            "passed_time": 153.1158,
            "remaining_time": 461.8070914,
            "test": [
             0.1416525423
            ]
           },
           {
            "iteration": 249,
            "learn": [
             0.1414655468
            ],
            "passed_time": 153.7756677,
            "remaining_time": 461.3270031,
            "test": [
             0.1416475751
            ]
           },
           {
            "iteration": 250,
            "learn": [
             0.1414380908
            ],
            "passed_time": 154.3817827,
            "remaining_time": 460.6850807,
            "test": [
             0.1416241973
            ]
           },
           {
            "iteration": 251,
            "learn": [
             0.1414318324
            ],
            "passed_time": 154.9362277,
            "remaining_time": 459.8900726,
            "test": [
             0.1416249615
            ]
           },
           {
            "iteration": 252,
            "learn": [
             0.1414223164
            ],
            "passed_time": 155.6009362,
            "remaining_time": 459.4225272,
            "test": [
             0.1416197983
            ]
           },
           {
            "iteration": 253,
            "learn": [
             0.1414188919
            ],
            "passed_time": 156.1740099,
            "remaining_time": 458.6842967,
            "test": [
             0.1416200849
            ]
           },
           {
            "iteration": 254,
            "learn": [
             0.1414126692
            ],
            "passed_time": 156.7435019,
            "remaining_time": 457.9368978,
            "test": [
             0.1416258027
            ]
           },
           {
            "iteration": 255,
            "learn": [
             0.1414045673
            ],
            "passed_time": 157.332102,
            "remaining_time": 457.2464214,
            "test": [
             0.1416295176
            ]
           },
           {
            "iteration": 256,
            "learn": [
             0.1413997884
            ],
            "passed_time": 157.9140977,
            "remaining_time": 456.5376443,
            "test": [
             0.1416283922
            ]
           },
           {
            "iteration": 257,
            "learn": [
             0.1413830356
            ],
            "passed_time": 158.5126257,
            "remaining_time": 455.8773965,
            "test": [
             0.1416266598
            ]
           },
           {
            "iteration": 258,
            "learn": [
             0.1413765982
            ],
            "passed_time": 159.142388,
            "remaining_time": 455.3069864,
            "test": [
             0.1416234919
            ]
           },
           {
            "iteration": 259,
            "learn": [
             0.1413724159
            ],
            "passed_time": 159.7207094,
            "remaining_time": 454.5897113,
            "test": [
             0.1416229063
            ]
           },
           {
            "iteration": 260,
            "learn": [
             0.1413660202
            ],
            "passed_time": 160.3053705,
            "remaining_time": 453.8914512,
            "test": [
             0.1416252463
            ]
           },
           {
            "iteration": 261,
            "learn": [
             0.1413527039
            ],
            "passed_time": 160.9556293,
            "remaining_time": 453.3788336,
            "test": [
             0.141621201
            ]
           },
           {
            "iteration": 262,
            "learn": [
             0.14134706
            ],
            "passed_time": 161.5487846,
            "remaining_time": 452.7051493,
            "test": [
             0.1416196164
            ]
           },
           {
            "iteration": 263,
            "learn": [
             0.1413412251
            ],
            "passed_time": 162.1538017,
            "remaining_time": 452.0651442,
            "test": [
             0.1416227207
            ]
           },
           {
            "iteration": 264,
            "learn": [
             0.1413341433
            ],
            "passed_time": 162.7523966,
            "remaining_time": 451.4075905,
            "test": [
             0.1416166872
            ]
           },
           {
            "iteration": 265,
            "learn": [
             0.1413287082
            ],
            "passed_time": 163.3107164,
            "remaining_time": 450.6393453,
            "test": [
             0.1416183815
            ]
           },
           {
            "iteration": 266,
            "learn": [
             0.1413231359
            ],
            "passed_time": 163.9013652,
            "remaining_time": 449.9614259,
            "test": [
             0.1416151281
            ]
           },
           {
            "iteration": 267,
            "learn": [
             0.1413174442
            ],
            "passed_time": 164.5303067,
            "remaining_time": 449.3887481,
            "test": [
             0.1416111564
            ]
           },
           {
            "iteration": 268,
            "learn": [
             0.1413015266
            ],
            "passed_time": 165.1596059,
            "remaining_time": 448.8166242,
            "test": [
             0.1415987793
            ]
           },
           {
            "iteration": 269,
            "learn": [
             0.1412781813
            ],
            "passed_time": 165.7315396,
            "remaining_time": 448.0889775,
            "test": [
             0.1415754345
            ]
           },
           {
            "iteration": 270,
            "learn": [
             0.1412708728
            ],
            "passed_time": 166.3509221,
            "remaining_time": 447.4901188,
            "test": [
             0.1415758697
            ]
           },
           {
            "iteration": 271,
            "learn": [
             0.1412548955
            ],
            "passed_time": 166.9756146,
            "remaining_time": 446.9053216,
            "test": [
             0.1415638119
            ]
           },
           {
            "iteration": 272,
            "learn": [
             0.1412163724
            ],
            "passed_time": 167.6706622,
            "remaining_time": 446.5075877,
            "test": [
             0.1415295549
            ]
           },
           {
            "iteration": 273,
            "learn": [
             0.1412009381
            ],
            "passed_time": 168.30178,
            "remaining_time": 445.9382929,
            "test": [
             0.1415208671
            ]
           },
           {
            "iteration": 274,
            "learn": [
             0.1411820136
            ],
            "passed_time": 168.9281343,
            "remaining_time": 445.3559905,
            "test": [
             0.1415028119
            ]
           },
           {
            "iteration": 275,
            "learn": [
             0.1411746514
            ],
            "passed_time": 169.5057284,
            "remaining_time": 444.6454613,
            "test": [
             0.1414996287
            ]
           },
           {
            "iteration": 276,
            "learn": [
             0.1411702902
            ],
            "passed_time": 170.0862968,
            "remaining_time": 443.9436556,
            "test": [
             0.1415004716
            ]
           },
           {
            "iteration": 277,
            "learn": [
             0.1411258129
            ],
            "passed_time": 170.684777,
            "remaining_time": 443.2892409,
            "test": [
             0.1414550227
            ]
           },
           {
            "iteration": 278,
            "learn": [
             0.1410939479
            ],
            "passed_time": 171.2694592,
            "remaining_time": 442.5995701,
            "test": [
             0.1414169303
            ]
           },
           {
            "iteration": 279,
            "learn": [
             0.1410633776
            ],
            "passed_time": 171.8602921,
            "remaining_time": 441.9264654,
            "test": [
             0.1413868522
            ]
           },
           {
            "iteration": 280,
            "learn": [
             0.1410556932
            ],
            "passed_time": 172.4642331,
            "remaining_time": 441.2874862,
            "test": [
             0.1413822515
            ]
           },
           {
            "iteration": 281,
            "learn": [
             0.1410416192
            ],
            "passed_time": 173.0659622,
            "remaining_time": 440.6431236,
            "test": [
             0.1413793585
            ]
           },
           {
            "iteration": 282,
            "learn": [
             0.1410326223
            ],
            "passed_time": 173.6808018,
            "remaining_time": 440.0322787,
            "test": [
             0.1413781408
            ]
           },
           {
            "iteration": 283,
            "learn": [
             0.1410273363
            ],
            "passed_time": 174.2757145,
            "remaining_time": 439.3711675,
            "test": [
             0.1413763799
            ]
           },
           {
            "iteration": 284,
            "learn": [
             0.1410213165
            ],
            "passed_time": 174.8509425,
            "remaining_time": 438.6611364,
            "test": [
             0.1413730653
            ]
           },
           {
            "iteration": 285,
            "learn": [
             0.1409872739
            ],
            "passed_time": 175.438724,
            "remaining_time": 437.983388,
            "test": [
             0.1413364556
            ]
           },
           {
            "iteration": 286,
            "learn": [
             0.1409546095
            ],
            "passed_time": 175.9999533,
            "remaining_time": 437.2403021,
            "test": [
             0.1413150346
            ]
           },
           {
            "iteration": 287,
            "learn": [
             0.1409448251
            ],
            "passed_time": 176.5782671,
            "remaining_time": 436.540716,
            "test": [
             0.1413048286
            ]
           },
           {
            "iteration": 288,
            "learn": [
             0.1409382981
            ],
            "passed_time": 177.1335008,
            "remaining_time": 435.7851871,
            "test": [
             0.1413054053
            ]
           },
           {
            "iteration": 289,
            "learn": [
             0.1409315982
            ],
            "passed_time": 177.7417223,
            "remaining_time": 435.1607683,
            "test": [
             0.1413034142
            ]
           },
           {
            "iteration": 290,
            "learn": [
             0.1409263301
            ],
            "passed_time": 178.3359297,
            "remaining_time": 434.5023167,
            "test": [
             0.1413027149
            ]
           },
           {
            "iteration": 291,
            "learn": [
             0.1409162892
            ],
            "passed_time": 178.977492,
            "remaining_time": 433.9591243,
            "test": [
             0.141296433
            ]
           },
           {
            "iteration": 292,
            "learn": [
             0.1409111524
            ],
            "passed_time": 179.5473897,
            "remaining_time": 433.2423363,
            "test": [
             0.1412951751
            ]
           },
           {
            "iteration": 293,
            "learn": [
             0.1409005208
            ],
            "passed_time": 180.1504564,
            "remaining_time": 432.6061979,
            "test": [
             0.1412892353
            ]
           },
           {
            "iteration": 294,
            "learn": [
             0.1407847783
            ],
            "passed_time": 180.8180587,
            "remaining_time": 432.1245131,
            "test": [
             0.1411735894
            ]
           },
           {
            "iteration": 295,
            "learn": [
             0.1407807213
            ],
            "passed_time": 181.4381622,
            "remaining_time": 431.528602,
            "test": [
             0.1411713475
            ]
           },
           {
            "iteration": 296,
            "learn": [
             0.1407544406
            ],
            "passed_time": 181.9885878,
            "remaining_time": 430.7676,
            "test": [
             0.1411446173
            ]
           },
           {
            "iteration": 297,
            "learn": [
             0.1407275693
            ],
            "passed_time": 182.6208103,
            "remaining_time": 430.2007009,
            "test": [
             0.1411183525
            ]
           },
           {
            "iteration": 298,
            "learn": [
             0.1407139725
            ],
            "passed_time": 183.1622903,
            "remaining_time": 429.4206204,
            "test": [
             0.141103826
            ]
           },
           {
            "iteration": 299,
            "learn": [
             0.1407097605
            ],
            "passed_time": 183.7309954,
            "remaining_time": 428.7056558,
            "test": [
             0.1411142248
            ]
           },
           {
            "iteration": 300,
            "learn": [
             0.140709313
            ],
            "passed_time": 184.2063199,
            "remaining_time": 427.7748093,
            "test": [
             0.1411142072
            ]
           },
           {
            "iteration": 301,
            "learn": [
             0.1407024997
            ],
            "passed_time": 184.8793208,
            "remaining_time": 427.3038607,
            "test": [
             0.1411166185
            ]
           },
           {
            "iteration": 302,
            "learn": [
             0.1406938906
            ],
            "passed_time": 185.4792724,
            "remaining_time": 426.6635409,
            "test": [
             0.1411177133
            ]
           },
           {
            "iteration": 303,
            "learn": [
             0.1406900306
            ],
            "passed_time": 186.0471024,
            "remaining_time": 425.9499449,
            "test": [
             0.1411208402
            ]
           },
           {
            "iteration": 304,
            "learn": [
             0.1406825789
            ],
            "passed_time": 186.670077,
            "remaining_time": 425.3629624,
            "test": [
             0.1411136365
            ]
           },
           {
            "iteration": 305,
            "learn": [
             0.1406599256
            ],
            "passed_time": 187.2610965,
            "remaining_time": 424.7032712,
            "test": [
             0.1410947889
            ]
           },
           {
            "iteration": 306,
            "learn": [
             0.1406541325
            ],
            "passed_time": 187.7778226,
            "remaining_time": 423.8763228,
            "test": [
             0.1410932111
            ]
           },
           {
            "iteration": 307,
            "learn": [
             0.140646997
            ],
            "passed_time": 188.2955545,
            "remaining_time": 423.0536484,
            "test": [
             0.1410929138
            ]
           },
           {
            "iteration": 308,
            "learn": [
             0.1406170293
            ],
            "passed_time": 188.9566033,
            "remaining_time": 422.5534397,
            "test": [
             0.1410623222
            ]
           },
           {
            "iteration": 309,
            "learn": [
             0.1405872644
            ],
            "passed_time": 189.6276406,
            "remaining_time": 422.0744259,
            "test": [
             0.1410307986
            ]
           },
           {
            "iteration": 310,
            "learn": [
             0.1405833924
            ],
            "passed_time": 190.1818561,
            "remaining_time": 421.335366,
            "test": [
             0.1410317273
            ]
           },
           {
            "iteration": 311,
            "learn": [
             0.1405768595
            ],
            "passed_time": 190.8166322,
            "remaining_time": 420.7751377,
            "test": [
             0.1410281473
            ]
           },
           {
            "iteration": 312,
            "learn": [
             0.1405692229
            ],
            "passed_time": 191.419081,
            "remaining_time": 420.143478,
            "test": [
             0.1410260936
            ]
           },
           {
            "iteration": 313,
            "learn": [
             0.1405647602
            ],
            "passed_time": 191.9975572,
            "remaining_time": 419.4596313,
            "test": [
             0.1410276446
            ]
           },
           {
            "iteration": 314,
            "learn": [
             0.1405583347
            ],
            "passed_time": 192.5813583,
            "remaining_time": 418.7880332,
            "test": [
             0.1410272124
            ]
           },
           {
            "iteration": 315,
            "learn": [
             0.1405550772
            ],
            "passed_time": 193.1591256,
            "remaining_time": 418.1039302,
            "test": [
             0.1410278766
            ]
           },
           {
            "iteration": 316,
            "learn": [
             0.1405470886
            ],
            "passed_time": 193.7720494,
            "remaining_time": 417.4962452,
            "test": [
             0.1410299826
            ]
           },
           {
            "iteration": 317,
            "learn": [
             0.1405384855
            ],
            "passed_time": 194.3783875,
            "remaining_time": 416.8744034,
            "test": [
             0.1410245006
            ]
           },
           {
            "iteration": 318,
            "learn": [
             0.1405325373
            ],
            "passed_time": 194.9907382,
            "remaining_time": 416.2654944,
            "test": [
             0.1410224252
            ]
           },
           {
            "iteration": 319,
            "learn": [
             0.1404606338
            ],
            "passed_time": 195.6503393,
            "remaining_time": 415.7569709,
            "test": [
             0.1409564011
            ]
           },
           {
            "iteration": 320,
            "learn": [
             0.1404472816
            ],
            "passed_time": 196.3072694,
            "remaining_time": 415.2418565,
            "test": [
             0.1409456763
            ]
           },
           {
            "iteration": 321,
            "learn": [
             0.1404356775
            ],
            "passed_time": 196.9740933,
            "remaining_time": 414.7466933,
            "test": [
             0.1409357241
            ]
           },
           {
            "iteration": 322,
            "learn": [
             0.1404149394
            ],
            "passed_time": 197.6185927,
            "remaining_time": 414.2036757,
            "test": [
             0.1409137568
            ]
           },
           {
            "iteration": 323,
            "learn": [
             0.1404020466
            ],
            "passed_time": 198.2067265,
            "remaining_time": 413.5424294,
            "test": [
             0.1409074793
            ]
           },
           {
            "iteration": 324,
            "learn": [
             0.1403947202
            ],
            "passed_time": 198.8260532,
            "remaining_time": 412.9464182,
            "test": [
             0.140907984
            ]
           },
           {
            "iteration": 325,
            "learn": [
             0.1403605344
            ],
            "passed_time": 199.4022222,
            "remaining_time": 412.2610361,
            "test": [
             0.1408678619
            ]
           },
           {
            "iteration": 326,
            "learn": [
             0.140343889
            ],
            "passed_time": 199.9764734,
            "remaining_time": 411.572375,
            "test": [
             0.1408481124
            ]
           },
           {
            "iteration": 327,
            "learn": [
             0.1403252926
            ],
            "passed_time": 200.6275543,
            "remaining_time": 411.0418185,
            "test": [
             0.1408315149
            ]
           },
           {
            "iteration": 328,
            "learn": [
             0.1402949431
            ],
            "passed_time": 201.2452131,
            "remaining_time": 410.4423646,
            "test": [
             0.1408025427
            ]
           },
           {
            "iteration": 329,
            "learn": [
             0.1402872766
            ],
            "passed_time": 201.792354,
            "remaining_time": 409.6996279,
            "test": [
             0.1408015987
            ]
           },
           {
            "iteration": 330,
            "learn": [
             0.1402415703
            ],
            "passed_time": 202.419787,
            "remaining_time": 409.1203549,
            "test": [
             0.1407583023
            ]
           },
           {
            "iteration": 331,
            "learn": [
             0.1402357533
            ],
            "passed_time": 202.9382295,
            "remaining_time": 408.3214978,
            "test": [
             0.1407588787
            ]
           },
           {
            "iteration": 332,
            "learn": [
             0.1402026056
            ],
            "passed_time": 203.640608,
            "remaining_time": 407.8927494,
            "test": [
             0.1407275704
            ]
           },
           {
            "iteration": 333,
            "learn": [
             0.1401494357
            ],
            "passed_time": 204.275609,
            "remaining_time": 407.3280108,
            "test": [
             0.1406739539
            ]
           },
           {
            "iteration": 334,
            "learn": [
             0.1401305291
            ],
            "passed_time": 204.8294933,
            "remaining_time": 406.60183,
            "test": [
             0.1406542158
            ]
           },
           {
            "iteration": 335,
            "learn": [
             0.1401230894
            ],
            "passed_time": 205.398463,
            "remaining_time": 405.9064863,
            "test": [
             0.1406543067
            ]
           },
           {
            "iteration": 336,
            "learn": [
             0.1401170218
            ],
            "passed_time": 206.0005536,
            "remaining_time": 405.2770536,
            "test": [
             0.1406556733
            ]
           },
           {
            "iteration": 337,
            "learn": [
             0.1401120461
            ],
            "passed_time": 206.6116629,
            "remaining_time": 404.6654463,
            "test": [
             0.1406587502
            ]
           },
           {
            "iteration": 338,
            "learn": [
             0.1400680043
            ],
            "passed_time": 207.275567,
            "remaining_time": 404.1567839,
            "test": [
             0.1405975023
            ]
           },
           {
            "iteration": 339,
            "learn": [
             0.1400396235
            ],
            "passed_time": 207.8219547,
            "remaining_time": 403.4190886,
            "test": [
             0.1405737226
            ]
           },
           {
            "iteration": 340,
            "learn": [
             0.1400316469
            ],
            "passed_time": 208.4232833,
            "remaining_time": 402.7886912,
            "test": [
             0.1405680713
            ]
           },
           {
            "iteration": 341,
            "learn": [
             0.1400190166
            ],
            "passed_time": 209.0531636,
            "remaining_time": 402.2133967,
            "test": [
             0.1405617439
            ]
           },
           {
            "iteration": 342,
            "learn": [
             0.1400033257
            ],
            "passed_time": 209.6479026,
            "remaining_time": 401.5704723,
            "test": [
             0.1405494527
            ]
           },
           {
            "iteration": 343,
            "learn": [
             0.1399957309
            ],
            "passed_time": 210.2741457,
            "remaining_time": 400.9879058,
            "test": [
             0.140549869
            ]
           },
           {
            "iteration": 344,
            "learn": [
             0.13999236
            ],
            "passed_time": 210.8591232,
            "remaining_time": 400.3267411,
            "test": [
             0.1405491048
            ]
           },
           {
            "iteration": 345,
            "learn": [
             0.139983918
            ],
            "passed_time": 211.4459982,
            "remaining_time": 399.6696036,
            "test": [
             0.1405535852
            ]
           },
           {
            "iteration": 346,
            "learn": [
             0.1399428772
            ],
            "passed_time": 212.0550684,
            "remaining_time": 399.0546388,
            "test": [
             0.1405123739
            ]
           },
           {
            "iteration": 347,
            "learn": [
             0.1399373406
            ],
            "passed_time": 212.676203,
            "remaining_time": 398.4623115,
            "test": [
             0.1405147344
            ]
           },
           {
            "iteration": 348,
            "learn": [
             0.1398552649
            ],
            "passed_time": 213.3515811,
            "remaining_time": 397.9710008,
            "test": [
             0.1404390809
            ]
           },
           {
            "iteration": 349,
            "learn": [
             0.1398370623
            ],
            "passed_time": 213.9395421,
            "remaining_time": 397.3162925,
            "test": [
             0.1404240685
            ]
           },
           {
            "iteration": 350,
            "learn": [
             0.1398005139
            ],
            "passed_time": 214.5417113,
            "remaining_time": 396.6882355,
            "test": [
             0.1403906492
            ]
           },
           {
            "iteration": 351,
            "learn": [
             0.1397874601
            ],
            "passed_time": 215.1534906,
            "remaining_time": 396.0780169,
            "test": [
             0.1403807693
            ]
           },
           {
            "iteration": 352,
            "learn": [
             0.1397807601
            ],
            "passed_time": 215.7012443,
            "remaining_time": 395.3504394,
            "test": [
             0.1403796273
            ]
           },
           {
            "iteration": 353,
            "learn": [
             0.1397668054
            ],
            "passed_time": 216.3094638,
            "remaining_time": 394.7342193,
            "test": [
             0.1403688141
            ]
           },
           {
            "iteration": 354,
            "learn": [
             0.1397141724
            ],
            "passed_time": 217.0027068,
            "remaining_time": 394.2725237,
            "test": [
             0.1403131452
            ]
           },
           {
            "iteration": 355,
            "learn": [
             0.139695594
            ],
            "passed_time": 217.6132173,
            "remaining_time": 393.6598649,
            "test": [
             0.1402958749
            ]
           },
           {
            "iteration": 356,
            "learn": [
             0.1396614022
            ],
            "passed_time": 218.2373803,
            "remaining_time": 393.0718082,
            "test": [
             0.1402651904
            ]
           },
           {
            "iteration": 357,
            "learn": [
             0.1396551199
            ],
            "passed_time": 218.8109311,
            "remaining_time": 392.3927871,
            "test": [
             0.1402643732
            ]
           },
           {
            "iteration": 358,
            "learn": [
             0.1396487242
            ],
            "passed_time": 219.3617929,
            "remaining_time": 391.6738419,
            "test": [
             0.1402624044
            ]
           },
           {
            "iteration": 359,
            "learn": [
             0.1396431459
            ],
            "passed_time": 219.9655927,
            "remaining_time": 391.0499425,
            "test": [
             0.140263107
            ]
           },
           {
            "iteration": 360,
            "learn": [
             0.1396393754
            ],
            "passed_time": 220.5571905,
            "remaining_time": 390.404556,
            "test": [
             0.1402638938
            ]
           },
           {
            "iteration": 361,
            "learn": [
             0.1396333019
            ],
            "passed_time": 221.1816028,
            "remaining_time": 389.8172999,
            "test": [
             0.1402623851
            ]
           },
           {
            "iteration": 362,
            "learn": [
             0.1396299728
            ],
            "passed_time": 221.7771706,
            "remaining_time": 389.1792222,
            "test": [
             0.1402624873
            ]
           },
           {
            "iteration": 363,
            "learn": [
             0.1396271747
            ],
            "passed_time": 222.3666744,
            "remaining_time": 388.5307828,
            "test": [
             0.1402650278
            ]
           },
           {
            "iteration": 364,
            "learn": [
             0.139622008
            ],
            "passed_time": 222.9934074,
            "remaining_time": 387.9474348,
            "test": [
             0.1402630022
            ]
           },
           {
            "iteration": 365,
            "learn": [
             0.1396189056
            ],
            "passed_time": 223.5770944,
            "remaining_time": 387.2892838,
            "test": [
             0.140263283
            ]
           },
           {
            "iteration": 366,
            "learn": [
             0.1396118537
            ],
            "passed_time": 224.1925066,
            "remaining_time": 386.686258,
            "test": [
             0.1402616128
            ]
           },
           {
            "iteration": 367,
            "learn": [
             0.1396051478
            ],
            "passed_time": 224.7805485,
            "remaining_time": 386.0361594,
            "test": [
             0.1402553896
            ]
           },
           {
            "iteration": 368,
            "learn": [
             0.1395700015
            ],
            "passed_time": 225.3869899,
            "remaining_time": 385.4178608,
            "test": [
             0.1402226431
            ]
           },
           {
            "iteration": 369,
            "learn": [
             0.1395596085
            ],
            "passed_time": 226.0200072,
            "remaining_time": 384.8448771,
            "test": [
             0.1402185493
            ]
           },
           {
            "iteration": 370,
            "learn": [
             0.1395542032
            ],
            "passed_time": 226.6278654,
            "remaining_time": 384.2289146,
            "test": [
             0.1402229239
            ]
           },
           {
            "iteration": 371,
            "learn": [
             0.1395542032
            ],
            "passed_time": 227.1669758,
            "remaining_time": 383.4969377,
            "test": [
             0.1402229239
            ]
           },
           {
            "iteration": 372,
            "learn": [
             0.139547736
            ],
            "passed_time": 227.7972158,
            "remaining_time": 382.9191804,
            "test": [
             0.1402209626
            ]
           },
           {
            "iteration": 373,
            "learn": [
             0.1395415968
            ],
            "passed_time": 228.4516455,
            "remaining_time": 382.3816312,
            "test": [
             0.1402203836
            ]
           },
           {
            "iteration": 374,
            "learn": [
             0.1395253631
            ],
            "passed_time": 229.0700519,
            "remaining_time": 381.7834199,
            "test": [
             0.1402083397
            ]
           },
           {
            "iteration": 375,
            "learn": [
             0.1395213777
            ],
            "passed_time": 229.6494499,
            "remaining_time": 381.1203636,
            "test": [
             0.140206983
            ]
           },
           {
            "iteration": 376,
            "learn": [
             0.1395145823
            ],
            "passed_time": 230.2790039,
            "remaining_time": 380.540635,
            "test": [
             0.1402056584
            ]
           },
           {
            "iteration": 377,
            "learn": [
             0.1395091233
            ],
            "passed_time": 230.836096,
            "remaining_time": 379.8414066,
            "test": [
             0.1402166773
            ]
           },
           {
            "iteration": 378,
            "learn": [
             0.1394919588
            ],
            "passed_time": 231.4602239,
            "remaining_time": 379.252768,
            "test": [
             0.1402052075
            ]
           },
           {
            "iteration": 379,
            "learn": [
             0.1394862791
            ],
            "passed_time": 232.0705235,
            "remaining_time": 378.6413804,
            "test": [
             0.1401969508
            ]
           },
           {
            "iteration": 380,
            "learn": [
             0.1394817449
            ],
            "passed_time": 232.6510789,
            "remaining_time": 377.9816741,
            "test": [
             0.1401954847
            ]
           },
           {
            "iteration": 381,
            "learn": [
             0.1394775924
            ],
            "passed_time": 233.2502307,
            "remaining_time": 377.3524674,
            "test": [
             0.1401970078
            ]
           },
           {
            "iteration": 382,
            "learn": [
             0.139464998
            ],
            "passed_time": 233.8371291,
            "remaining_time": 376.7036779,
            "test": [
             0.1401878205
            ]
           },
           {
            "iteration": 383,
            "learn": [
             0.1394549212
            ],
            "passed_time": 234.4602449,
            "remaining_time": 376.1133095,
            "test": [
             0.1401819771
            ]
           },
           {
            "iteration": 384,
            "learn": [
             0.1394500231
            ],
            "passed_time": 235.0931512,
            "remaining_time": 375.5384104,
            "test": [
             0.1401832578
            ]
           },
           {
            "iteration": 385,
            "learn": [
             0.1394423984
            ],
            "passed_time": 235.6358349,
            "remaining_time": 374.819696,
            "test": [
             0.1401790564
            ]
           },
           {
            "iteration": 386,
            "learn": [
             0.1394375062
            ],
            "passed_time": 236.1905317,
            "remaining_time": 374.1209197,
            "test": [
             0.1401792027
            ]
           },
           {
            "iteration": 387,
            "learn": [
             0.1394182178
            ],
            "passed_time": 236.7469311,
            "remaining_time": 373.4255717,
            "test": [
             0.1401546501
            ]
           },
           {
            "iteration": 388,
            "learn": [
             0.1394068941
            ],
            "passed_time": 237.3204483,
            "remaining_time": 372.757825,
            "test": [
             0.1401462514
            ]
           },
           {
            "iteration": 389,
            "learn": [
             0.1393933749
            ],
            "passed_time": 237.91705,
            "remaining_time": 372.126668,
            "test": [
             0.1401337722
            ]
           },
           {
            "iteration": 390,
            "learn": [
             0.1393876773
            ],
            "passed_time": 238.5124988,
            "remaining_time": 371.493892,
            "test": [
             0.1401344244
            ]
           },
           {
            "iteration": 391,
            "learn": [
             0.1393803688
            ],
            "passed_time": 239.1196875,
            "remaining_time": 370.8795153,
            "test": [
             0.1401306112
            ]
           },
           {
            "iteration": 392,
            "learn": [
             0.1393717418
            ],
            "passed_time": 239.664047,
            "remaining_time": 370.1681336,
            "test": [
             0.1401219272
            ]
           },
           {
            "iteration": 393,
            "learn": [
             0.1393671121
            ],
            "passed_time": 240.2971924,
            "remaining_time": 369.5941589,
            "test": [
             0.1401212584
            ]
           },
           {
            "iteration": 394,
            "learn": [
             0.139362369
            ],
            "passed_time": 240.9214739,
            "remaining_time": 369.0063082,
            "test": [
             0.1401207684
            ]
           },
           {
            "iteration": 395,
            "learn": [
             0.1393566535
            ],
            "passed_time": 241.5096167,
            "remaining_time": 368.3631528,
            "test": [
             0.1401208076
            ]
           },
           {
            "iteration": 396,
            "learn": [
             0.139353044
            ],
            "passed_time": 242.0792327,
            "remaining_time": 367.6921343,
            "test": [
             0.1401268247
            ]
           },
           {
            "iteration": 397,
            "learn": [
             0.1393362077
            ],
            "passed_time": 242.7001719,
            "remaining_time": 367.0992549,
            "test": [
             0.1401116757
            ]
           },
           {
            "iteration": 398,
            "learn": [
             0.1393295018
            ],
            "passed_time": 243.2741481,
            "remaining_time": 366.4354962,
            "test": [
             0.1401117004
            ]
           },
           {
            "iteration": 399,
            "learn": [
             0.1393230882
            ],
            "passed_time": 243.8906211,
            "remaining_time": 365.8359316,
            "test": [
             0.1401112789
            ]
           },
           {
            "iteration": 400,
            "learn": [
             0.1393222112
            ],
            "passed_time": 244.4097556,
            "remaining_time": 365.0908818,
            "test": [
             0.1401118394
            ]
           },
           {
            "iteration": 401,
            "learn": [
             0.1393170505
            ],
            "passed_time": 244.9773432,
            "remaining_time": 364.4190329,
            "test": [
             0.1401126241
            ]
           },
           {
            "iteration": 402,
            "learn": [
             0.1393130055
            ],
            "passed_time": 245.5717556,
            "remaining_time": 363.7874394,
            "test": [
             0.1401124081
            ]
           },
           {
            "iteration": 403,
            "learn": [
             0.1393070573
            ],
            "passed_time": 246.1480736,
            "remaining_time": 363.1293364,
            "test": [
             0.140115957
            ]
           },
           {
            "iteration": 404,
            "learn": [
             0.1393034657
            ],
            "passed_time": 246.7347119,
            "remaining_time": 362.486799,
            "test": [
             0.14011674
            ]
           },
           {
            "iteration": 405,
            "learn": [
             0.1392959842
            ],
            "passed_time": 247.3359142,
            "remaining_time": 361.8658449,
            "test": [
             0.1401139969
            ]
           },
           {
            "iteration": 406,
            "learn": [
             0.1392884967
            ],
            "passed_time": 247.9541685,
            "remaining_time": 361.2698327,
            "test": [
             0.1401110722
            ]
           },
           {
            "iteration": 407,
            "learn": [
             0.1392839028
            ],
            "passed_time": 248.5359259,
            "remaining_time": 360.6207552,
            "test": [
             0.1401070982
            ]
           },
           {
            "iteration": 408,
            "learn": [
             0.1392723465
            ],
            "passed_time": 249.0992466,
            "remaining_time": 359.9453662,
            "test": [
             0.1400971089
            ]
           },
           {
            "iteration": 409,
            "learn": [
             0.139266088
            ],
            "passed_time": 249.7509263,
            "remaining_time": 359.3976745,
            "test": [
             0.1400990399
            ]
           },
           {
            "iteration": 410,
            "learn": [
             0.1392403443
            ],
            "passed_time": 250.3065928,
            "remaining_time": 358.7118811,
            "test": [
             0.1400776372
            ]
           },
           {
            "iteration": 411,
            "learn": [
             0.1392360129
            ],
            "passed_time": 251.701481,
            "remaining_time": 359.2244438,
            "test": [
             0.1400703158
            ]
           },
           {
            "iteration": 412,
            "learn": [
             0.1392306135
            ],
            "passed_time": 252.283086,
            "remaining_time": 358.5718438,
            "test": [
             0.1400705635
            ]
           },
           {
            "iteration": 413,
            "learn": [
             0.1392261867
            ],
            "passed_time": 252.8596747,
            "remaining_time": 357.9124865,
            "test": [
             0.1400703502
            ]
           },
           {
            "iteration": 414,
            "learn": [
             0.1392230306
            ],
            "passed_time": 253.4723793,
            "remaining_time": 357.3044383,
            "test": [
             0.1400721602
            ]
           },
           {
            "iteration": 415,
            "learn": [
             0.1392199461
            ],
            "passed_time": 254.0327165,
            "remaining_time": 356.622852,
            "test": [
             0.1400729471
            ]
           },
           {
            "iteration": 416,
            "learn": [
             0.1392147377
            ],
            "passed_time": 254.6675708,
            "remaining_time": 356.0460282,
            "test": [
             0.1400744683
            ]
           },
           {
            "iteration": 417,
            "learn": [
             0.1392102393
            ],
            "passed_time": 255.2502485,
            "remaining_time": 355.396279,
            "test": [
             0.1400731054
            ]
           },
           {
            "iteration": 418,
            "learn": [
             0.1392049474
            ],
            "passed_time": 255.7792416,
            "remaining_time": 354.672409,
            "test": [
             0.1400717984
            ]
           },
           {
            "iteration": 419,
            "learn": [
             0.1392012364
            ],
            "passed_time": 256.3581147,
            "remaining_time": 354.0183488,
            "test": [
             0.1400721695
            ]
           },
           {
            "iteration": 420,
            "learn": [
             0.1391974002
            ],
            "passed_time": 257.0000815,
            "remaining_time": 353.4514185,
            "test": [
             0.1400725215
            ]
           },
           {
            "iteration": 421,
            "learn": [
             0.1391922515
            ],
            "passed_time": 257.6513677,
            "remaining_time": 352.8968969,
            "test": [
             0.1400681729
            ]
           },
           {
            "iteration": 422,
            "learn": [
             0.1391922276
            ],
            "passed_time": 258.155457,
            "remaining_time": 352.1411317,
            "test": [
             0.1400681763
            ]
           },
           {
            "iteration": 423,
            "learn": [
             0.1391489017
            ],
            "passed_time": 258.8126373,
            "remaining_time": 351.5945261,
            "test": [
             0.1400221086
            ]
           },
           {
            "iteration": 424,
            "learn": [
             0.1391458411
            ],
            "passed_time": 259.3813784,
            "remaining_time": 350.9277473,
            "test": [
             0.1400195211
            ]
           },
           {
            "iteration": 425,
            "learn": [
             0.1391351797
            ],
            "passed_time": 259.9803093,
            "remaining_time": 350.3021069,
            "test": [
             0.1400161583
            ]
           },
           {
            "iteration": 426,
            "learn": [
             0.1391307767
            ],
            "passed_time": 260.5670164,
            "remaining_time": 349.6601882,
            "test": [
             0.1400152299
            ]
           },
           {
            "iteration": 427,
            "learn": [
             0.1391246555
            ],
            "passed_time": 261.1906807,
            "remaining_time": 349.0679191,
            "test": [
             0.140016909
            ]
           },
           {
            "iteration": 428,
            "learn": [
             0.1391199184
            ],
            "passed_time": 261.7690891,
            "remaining_time": 348.4152678,
            "test": [
             0.1400170415
            ]
           },
           {
            "iteration": 429,
            "learn": [
             0.1391123236
            ],
            "passed_time": 262.3651756,
            "remaining_time": 347.7863956,
            "test": [
             0.1400139205
            ]
           },
           {
            "iteration": 430,
            "learn": [
             0.1391057429
            ],
            "passed_time": 262.9455233,
            "remaining_time": 347.1368973,
            "test": [
             0.1400115177
            ]
           },
           {
            "iteration": 431,
            "learn": [
             0.1391003615
            ],
            "passed_time": 263.5197237,
            "remaining_time": 346.4796368,
            "test": [
             0.1400159324
            ]
           },
           {
            "iteration": 432,
            "learn": [
             0.1390948309
            ],
            "passed_time": 264.1580926,
            "remaining_time": 345.9067864,
            "test": [
             0.1400139541
            ]
           },
           {
            "iteration": 433,
            "learn": [
             0.1390855596
            ],
            "passed_time": 264.757117,
            "remaining_time": 345.282323,
            "test": [
             0.1400107794
            ]
           },
           {
            "iteration": 434,
            "learn": [
             0.1390671184
            ],
            "passed_time": 265.3628044,
            "remaining_time": 344.6666311,
            "test": [
             0.1399951258
            ]
           },
           {
            "iteration": 435,
            "learn": [
             0.1390630554
            ],
            "passed_time": 265.9736901,
            "remaining_time": 344.0577092,
            "test": [
             0.1399947698
            ]
           },
           {
            "iteration": 436,
            "learn": [
             0.1390585868
            ],
            "passed_time": 266.526621,
            "remaining_time": 343.3741136,
            "test": [
             0.1399987728
            ]
           },
           {
            "iteration": 437,
            "learn": [
             0.1390554188
            ],
            "passed_time": 267.0945393,
            "remaining_time": 342.7103449,
            "test": [
             0.1399985817
            ]
           },
           {
            "iteration": 438,
            "learn": [
             0.1390511053
            ],
            "passed_time": 267.7130063,
            "remaining_time": 342.1116094,
            "test": [
             0.1399978633
            ]
           },
           {
            "iteration": 439,
            "learn": [
             0.1390479135
            ],
            "passed_time": 268.3437964,
            "remaining_time": 341.5284682,
            "test": [
             0.1399977045
            ]
           },
           {
            "iteration": 440,
            "learn": [
             0.1390442145
            ],
            "passed_time": 268.9588851,
            "remaining_time": 340.925208,
            "test": [
             0.1400102779
            ]
           },
           {
            "iteration": 441,
            "learn": [
             0.139028464
            ],
            "passed_time": 269.5811065,
            "remaining_time": 340.3308992,
            "test": [
             0.1399952731
            ]
           },
           {
            "iteration": 442,
            "learn": [
             0.1390189361
            ],
            "passed_time": 270.2829356,
            "remaining_time": 339.8365579,
            "test": [
             0.1399862056
            ]
           },
           {
            "iteration": 443,
            "learn": [
             0.1390132862
            ],
            "passed_time": 271.2778523,
            "remaining_time": 339.7083015,
            "test": [
             0.1399891828
            ]
           },
           {
            "iteration": 444,
            "learn": [
             0.1390092113
            ],
            "passed_time": 272.3692589,
            "remaining_time": 339.6964915,
            "test": [
             0.1399905737
            ]
           },
           {
            "iteration": 445,
            "learn": [
             0.1390030066
            ],
            "passed_time": 273.5772176,
            "remaining_time": 339.8246156,
            "test": [
             0.139989791
            ]
           },
           {
            "iteration": 446,
            "learn": [
             0.1389966944
            ],
            "passed_time": 274.4903864,
            "remaining_time": 339.5820664,
            "test": [
             0.1399901777
            ]
           },
           {
            "iteration": 447,
            "learn": [
             0.1389923511
            ],
            "passed_time": 275.0698388,
            "remaining_time": 338.9253372,
            "test": [
             0.1399907326
            ]
           },
           {
            "iteration": 448,
            "learn": [
             0.1389871308
            ],
            "passed_time": 275.6816719,
            "remaining_time": 338.3086886,
            "test": [
             0.1399919483
            ]
           },
           {
            "iteration": 449,
            "learn": [
             0.1389774657
            ],
            "passed_time": 276.2743749,
            "remaining_time": 337.6686804,
            "test": [
             0.139983078
            ]
           },
           {
            "iteration": 450,
            "learn": [
             0.1389750912
            ],
            "passed_time": 276.8882736,
            "remaining_time": 337.0546834,
            "test": [
             0.1399828744
            ]
           },
           {
            "iteration": 451,
            "learn": [
             0.1389667267
            ],
            "passed_time": 277.5372848,
            "remaining_time": 336.4832568,
            "test": [
             0.1399803862
            ]
           },
           {
            "iteration": 452,
            "learn": [
             0.1389631888
            ],
            "passed_time": 278.1079956,
            "remaining_time": 335.8169395,
            "test": [
             0.1399814712
            ]
           },
           {
            "iteration": 453,
            "learn": [
             0.1389063199
            ],
            "passed_time": 278.7639704,
            "remaining_time": 335.2535855,
            "test": [
             0.1399236853
            ]
           },
           {
            "iteration": 454,
            "learn": [
             0.1388919833
            ],
            "passed_time": 279.3690799,
            "remaining_time": 334.6288979,
            "test": [
             0.1399025809
            ]
           },
           {
            "iteration": 455,
            "learn": [
             0.1388882724
            ],
            "passed_time": 279.9953589,
            "remaining_time": 334.029551,
            "test": [
             0.1399021181
            ]
           },
           {
            "iteration": 456,
            "learn": [
             0.138880773
            ],
            "passed_time": 280.5859507,
            "remaining_time": 333.3876832,
            "test": [
             0.139895992
            ]
           },
           {
            "iteration": 457,
            "learn": [
             0.1388760598
            ],
            "passed_time": 281.1445709,
            "remaining_time": 332.7082039,
            "test": [
             0.1398950795
            ]
           },
           {
            "iteration": 458,
            "learn": [
             0.1388708156
            ],
            "passed_time": 281.7189217,
            "remaining_time": 332.0477922,
            "test": [
             0.1398944792
            ]
           },
           {
            "iteration": 459,
            "learn": [
             0.1388666274
            ],
            "passed_time": 282.3133633,
            "remaining_time": 331.4113396,
            "test": [
             0.1398926042
            ]
           },
           {
            "iteration": 460,
            "learn": [
             0.1388627852
            ],
            "passed_time": 282.9120057,
            "remaining_time": 330.7799806,
            "test": [
             0.1398945229
            ]
           },
           {
            "iteration": 461,
            "learn": [
             0.1388561509
            ],
            "passed_time": 283.5433415,
            "remaining_time": 330.1868349,
            "test": [
             0.1398913505
            ]
           },
           {
            "iteration": 462,
            "learn": [
             0.1388508112
            ],
            "passed_time": 284.1834446,
            "remaining_time": 329.6036928,
            "test": [
             0.1398897246
            ]
           },
           {
            "iteration": 463,
            "learn": [
             0.1388444334
            ],
            "passed_time": 284.7893146,
            "remaining_time": 328.98076,
            "test": [
             0.1398883567
            ]
           },
           {
            "iteration": 464,
            "learn": [
             0.1388356812
            ],
            "passed_time": 285.3999366,
            "remaining_time": 328.3633679,
            "test": [
             0.1398777544
            ]
           },
           {
            "iteration": 465,
            "learn": [
             0.1388356633
            ],
            "passed_time": 285.9160398,
            "remaining_time": 327.6376937,
            "test": [
             0.1398777335
            ]
           },
           {
            "iteration": 466,
            "learn": [
             0.1388317018
            ],
            "passed_time": 286.5173875,
            "remaining_time": 327.0102089,
            "test": [
             0.1398776032
            ]
           },
           {
            "iteration": 467,
            "learn": [
             0.138827973
            ],
            "passed_time": 287.131719,
            "remaining_time": 326.3975951,
            "test": [
             0.1398780865
            ]
           },
           {
            "iteration": 468,
            "learn": [
             0.1388248706
            ],
            "passed_time": 287.7497708,
            "remaining_time": 325.7891861,
            "test": [
             0.1398751672
            ]
           },
           {
            "iteration": 469,
            "learn": [
             0.1388211418
            ],
            "passed_time": 288.3935369,
            "remaining_time": 325.2097331,
            "test": [
             0.1398753742
            ]
           },
           {
            "iteration": 470,
            "learn": [
             0.1388136125
            ],
            "passed_time": 289.0063758,
            "remaining_time": 324.5952713,
            "test": [
             0.1398742042
            ]
           },
           {
            "iteration": 471,
            "learn": [
             0.1388071035
            ],
            "passed_time": 289.6334066,
            "remaining_time": 323.9966921,
            "test": [
             0.1398735537
            ]
           },
           {
            "iteration": 472,
            "learn": [
             0.1388025931
            ],
            "passed_time": 290.2820852,
            "remaining_time": 323.4221119,
            "test": [
             0.1398775272
            ]
           },
           {
            "iteration": 473,
            "learn": [
             0.1387962034
            ],
            "passed_time": 290.9281955,
            "remaining_time": 322.8443689,
            "test": [
             0.1398739859
            ]
           },
           {
            "iteration": 474,
            "learn": [
             0.1387939244
            ],
            "passed_time": 291.4874453,
            "remaining_time": 322.1703343,
            "test": [
             0.1398754671
            ]
           },
           {
            "iteration": 475,
            "learn": [
             0.1387791762
            ],
            "passed_time": 292.1093946,
            "remaining_time": 321.5658042,
            "test": [
             0.139862499
            ]
           },
           {
            "iteration": 476,
            "learn": [
             0.1387512667
            ],
            "passed_time": 292.7127274,
            "remaining_time": 320.9407891,
            "test": [
             0.139832028
            ]
           },
           {
            "iteration": 477,
            "learn": [
             0.1387414047
            ],
            "passed_time": 293.3004446,
            "remaining_time": 320.2988119,
            "test": [
             0.1398250147
            ]
           },
           {
            "iteration": 478,
            "learn": [
             0.1387364409
            ],
            "passed_time": 293.8646963,
            "remaining_time": 319.6315382,
            "test": [
             0.139826349
            ]
           },
           {
            "iteration": 479,
            "learn": [
             0.1387238644
            ],
            "passed_time": 294.4614669,
            "remaining_time": 318.9999225,
            "test": [
             0.1398050199
            ]
           },
           {
            "iteration": 480,
            "learn": [
             0.1387201535
            ],
            "passed_time": 294.9580051,
            "remaining_time": 318.2603008,
            "test": [
             0.1398062735
            ]
           },
           {
            "iteration": 481,
            "learn": [
             0.1387151897
            ],
            "passed_time": 295.5818155,
            "remaining_time": 317.6584656,
            "test": [
             0.1398074028
            ]
           },
           {
            "iteration": 482,
            "learn": [
             0.1387121052
            ],
            "passed_time": 296.1211057,
            "remaining_time": 316.9660697,
            "test": [
             0.1398050014
            ]
           },
           {
            "iteration": 483,
            "learn": [
             0.1387100171
            ],
            "passed_time": 296.7528495,
            "remaining_time": 316.3728727,
            "test": [
             0.1398046052
            ]
           },
           {
            "iteration": 484,
            "learn": [
             0.1387042657
            ],
            "passed_time": 297.3483336,
            "remaining_time": 315.741014,
            "test": [
             0.1398069579
            ]
           },
           {
            "iteration": 485,
            "learn": [
             0.138697357
            ],
            "passed_time": 297.9573184,
            "remaining_time": 315.1235837,
            "test": [
             0.1398095441
            ]
           },
           {
            "iteration": 486,
            "learn": [
             0.1386587742
            ],
            "passed_time": 298.6560089,
            "remaining_time": 314.6006829,
            "test": [
             0.139773169
            ]
           },
           {
            "iteration": 487,
            "learn": [
             0.1386538462
            ],
            "passed_time": 299.2168026,
            "remaining_time": 313.932383,
            "test": [
             0.1397702805
            ]
           },
           {
            "iteration": 488,
            "learn": [
             0.1386440737
            ],
            "passed_time": 299.8130411,
            "remaining_time": 313.3015623,
            "test": [
             0.1397655544
            ]
           },
           {
            "iteration": 489,
            "learn": [
             0.1386385013
            ],
            "passed_time": 300.4290163,
            "remaining_time": 312.6914251,
            "test": [
             0.1397691547
            ]
           },
           {
            "iteration": 490,
            "learn": [
             0.1386321236
            ],
            "passed_time": 300.9814762,
            "remaining_time": 312.0154203,
            "test": [
             0.1397590478
            ]
           },
           {
            "iteration": 491,
            "learn": [
             0.1386289317
            ],
            "passed_time": 301.6361074,
            "remaining_time": 311.4454117,
            "test": [
             0.1397619375
            ]
           },
           {
            "iteration": 492,
            "learn": [
             0.1386243318
            ],
            "passed_time": 302.1762905,
            "remaining_time": 310.7573617,
            "test": [
             0.1397664184
            ]
           },
           {
            "iteration": 493,
            "learn": [
             0.1386199348
            ],
            "passed_time": 302.7959749,
            "remaining_time": 310.1513428,
            "test": [
             0.1397678432
            ]
           },
           {
            "iteration": 494,
            "learn": [
             0.1386125309
            ],
            "passed_time": 303.3937639,
            "remaining_time": 309.5229309,
            "test": [
             0.1397684266
            ]
           },
           {
            "iteration": 495,
            "learn": [
             0.1386091839
            ],
            "passed_time": 303.9737585,
            "remaining_time": 308.8765611,
            "test": [
             0.1397665215
            ]
           },
           {
            "iteration": 496,
            "learn": [
             0.1386053537
            ],
            "passed_time": 304.5790905,
            "remaining_time": 308.2561017,
            "test": [
             0.1397716066
            ]
           },
           {
            "iteration": 497,
            "learn": [
             0.138602299
            ],
            "passed_time": 305.1601095,
            "remaining_time": 307.6111947,
            "test": [
             0.1397715024
            ]
           },
           {
            "iteration": 498,
            "learn": [
             0.138596846
            ],
            "passed_time": 305.9826727,
            "remaining_time": 307.2090561,
            "test": [
             0.1397743505
            ]
           },
           {
            "iteration": 499,
            "learn": [
             0.1385919657
            ],
            "passed_time": 306.5988087,
            "remaining_time": 306.5988087,
            "test": [
             0.1397758142
            ]
           },
           {
            "iteration": 500,
            "learn": [
             0.1385884934
            ],
            "passed_time": 307.2298651,
            "remaining_time": 306.0033985,
            "test": [
             0.1397752937
            ]
           },
           {
            "iteration": 501,
            "learn": [
             0.1385846572
            ],
            "passed_time": 307.7884472,
            "remaining_time": 305.3359496,
            "test": [
             0.1397756717
            ]
           },
           {
            "iteration": 502,
            "learn": [
             0.1385784763
            ],
            "passed_time": 308.3577296,
            "remaining_time": 304.6795062,
            "test": [
             0.1397726168
            ]
           },
           {
            "iteration": 503,
            "learn": [
             0.1385705951
            ],
            "passed_time": 308.95535,
            "remaining_time": 304.0512969,
            "test": [
             0.1397681676
            ]
           },
           {
            "iteration": 504,
            "learn": [
             0.1385667231
            ],
            "passed_time": 309.5499936,
            "remaining_time": 303.4202907,
            "test": [
             0.1397662406
            ]
           },
           {
            "iteration": 505,
            "learn": [
             0.1385609121
            ],
            "passed_time": 310.1794488,
            "remaining_time": 302.8234144,
            "test": [
             0.1397689018
            ]
           },
           {
            "iteration": 506,
            "learn": [
             0.1385552264
            ],
            "passed_time": 310.7557682,
            "remaining_time": 302.1747411,
            "test": [
             0.1397691056
            ]
           },
           {
            "iteration": 507,
            "learn": [
             0.1385494453
            ],
            "passed_time": 311.3585622,
            "remaining_time": 301.5519934,
            "test": [
             0.139769209
            ]
           },
           {
            "iteration": 508,
            "learn": [
             0.1385489203
            ],
            "passed_time": 311.8460402,
            "remaining_time": 300.8180859,
            "test": [
             0.1397693243
            ]
           },
           {
            "iteration": 509,
            "learn": [
             0.1385421547
            ],
            "passed_time": 312.4575387,
            "remaining_time": 300.2043019,
            "test": [
             0.1397708586
            ]
           },
           {
            "iteration": 510,
            "learn": [
             0.1385414746
            ],
            "passed_time": 312.9511123,
            "remaining_time": 299.4776789,
            "test": [
             0.1397707257
            ]
           },
           {
            "iteration": 511,
            "learn": [
             0.1385382111
            ],
            "passed_time": 313.5307079,
            "remaining_time": 298.8339559,
            "test": [
             0.1397720869
            ]
           },
           {
            "iteration": 512,
            "learn": [
             0.1385351505
            ],
            "passed_time": 314.151095,
            "remaining_time": 298.2292072,
            "test": [
             0.1397713871
            ]
           },
           {
            "iteration": 513,
            "learn": [
             0.1385296617
            ],
            "passed_time": 314.7191915,
            "remaining_time": 297.5749554,
            "test": [
             0.1397716546
            ]
           },
           {
            "iteration": 514,
            "learn": [
             0.1385256286
            ],
            "passed_time": 315.3369088,
            "remaining_time": 296.9677685,
            "test": [
             0.139772734
            ]
           },
           {
            "iteration": 515,
            "learn": [
             0.1385237612
            ],
            "passed_time": 315.9062327,
            "remaining_time": 296.3151485,
            "test": [
             0.1397746267
            ]
           },
           {
            "iteration": 516,
            "learn": [
             0.1384967705
            ],
            "passed_time": 316.5345452,
            "remaining_time": 295.7179601,
            "test": [
             0.1397495012
            ]
           },
           {
            "iteration": 517,
            "learn": [
             0.1384910252
            ],
            "passed_time": 317.107781,
            "remaining_time": 295.0694024,
            "test": [
             0.1397462312
            ]
           },
           {
            "iteration": 518,
            "learn": [
             0.1384858466
            ],
            "passed_time": 317.7258912,
            "remaining_time": 294.4627238,
            "test": [
             0.1397475738
            ]
           },
           {
            "iteration": 519,
            "learn": [
             0.1384814555
            ],
            "passed_time": 318.337233,
            "remaining_time": 293.8497535,
            "test": [
             0.1397463956
            ]
           },
           {
            "iteration": 520,
            "learn": [
             0.1384779296
            ],
            "passed_time": 318.9097962,
            "remaining_time": 293.201137,
            "test": [
             0.1397460322
            ]
           },
           {
            "iteration": 521,
            "learn": [
             0.1384485047
            ],
            "passed_time": 319.5303845,
            "remaining_time": 292.5967889,
            "test": [
             0.1397165755
            ]
           },
           {
            "iteration": 522,
            "learn": [
             0.1384388933
            ],
            "passed_time": 320.1008505,
            "remaining_time": 291.9466648,
            "test": [
             0.1397128187
            ]
           },
           {
            "iteration": 523,
            "learn": [
             0.1384351347
            ],
            "passed_time": 320.7514357,
            "remaining_time": 291.3696248,
            "test": [
             0.1397105073
            ]
           },
           {
            "iteration": 524,
            "learn": [
             0.1384316624
            ],
            "passed_time": 321.3410838,
            "remaining_time": 290.737171,
            "test": [
             0.1397102927
            ]
           },
           {
            "iteration": 525,
            "learn": [
             0.1384288285
            ],
            "passed_time": 321.8520459,
            "remaining_time": 290.0339729,
            "test": [
             0.1397103966
            ]
           },
           {
            "iteration": 526,
            "learn": [
             0.1384287092
            ],
            "passed_time": 322.4034055,
            "remaining_time": 289.3677624,
            "test": [
             0.1397103852
            ]
           },
           {
            "iteration": 527,
            "learn": [
             0.1384244792
            ],
            "passed_time": 322.9513471,
            "remaining_time": 288.6989315,
            "test": [
             0.139711281
            ]
           },
           {
            "iteration": 528,
            "learn": [
             0.1384067957
            ],
            "passed_time": 323.5759688,
            "remaining_time": 288.0988304,
            "test": [
             0.1396949249
            ]
           },
           {
            "iteration": 529,
            "learn": [
             0.138369949
            ],
            "passed_time": 324.1927796,
            "remaining_time": 287.4917102,
            "test": [
             0.1396551906
            ]
           },
           {
            "iteration": 530,
            "learn": [
             0.1383639232
            ],
            "passed_time": 324.8181294,
            "remaining_time": 286.8920955,
            "test": [
             0.1396547037
            ]
           },
           {
            "iteration": 531,
            "learn": [
             0.1383612623
            ],
            "passed_time": 325.4062806,
            "remaining_time": 286.2596604,
            "test": [
             0.1396547447
            ]
           },
           {
            "iteration": 532,
            "learn": [
             0.1383176441
            ],
            "passed_time": 326.0565293,
            "remaining_time": 285.6817996,
            "test": [
             0.1396119177
            ]
           },
           {
            "iteration": 533,
            "learn": [
             0.1383073824
            ],
            "passed_time": 326.6681974,
            "remaining_time": 285.07,
            "test": [
             0.1396033958
            ]
           },
           {
            "iteration": 534,
            "learn": [
             0.1383073705
            ],
            "passed_time": 327.1966476,
            "remaining_time": 284.3858713,
            "test": [
             0.1396033893
            ]
           },
           {
            "iteration": 535,
            "learn": [
             0.138299358
            ],
            "passed_time": 327.7937234,
            "remaining_time": 283.7617307,
            "test": [
             0.1395992807
            ]
           },
           {
            "iteration": 536,
            "learn": [
             0.1382956411
            ],
            "passed_time": 328.307859,
            "remaining_time": 283.0661801,
            "test": [
             0.1396001892
            ]
           },
           {
            "iteration": 537,
            "learn": [
             0.13829057
            ],
            "passed_time": 328.938343,
            "remaining_time": 282.4712165,
            "test": [
             0.139600034
            ]
           },
           {
            "iteration": 538,
            "learn": [
             0.1382903671
            ],
            "passed_time": 329.4444671,
            "remaining_time": 281.7697575,
            "test": [
             0.1395998508
            ]
           },
           {
            "iteration": 539,
            "learn": [
             0.1382705179
            ],
            "passed_time": 330.0436057,
            "remaining_time": 281.1482567,
            "test": [
             0.1395807732
            ]
           },
           {
            "iteration": 540,
            "learn": [
             0.1382165843
            ],
            "passed_time": 330.7433336,
            "remaining_time": 280.6121814,
            "test": [
             0.1395220516
            ]
           },
           {
            "iteration": 541,
            "learn": [
             0.1382036855
            ],
            "passed_time": 331.3787848,
            "remaining_time": 280.0211872,
            "test": [
             0.1395137337
            ]
           },
           {
            "iteration": 542,
            "learn": [
             0.138199384
            ],
            "passed_time": 332.0032175,
            "remaining_time": 279.4207558,
            "test": [
             0.139515959
            ]
           },
           {
            "iteration": 543,
            "learn": [
             0.1381951301
            ],
            "passed_time": 332.6129517,
            "remaining_time": 278.8079154,
            "test": [
             0.1395143093
            ]
           },
           {
            "iteration": 544,
            "learn": [
             0.1381899277
            ],
            "passed_time": 333.2192436,
            "remaining_time": 278.1922125,
            "test": [
             0.1395188777
            ]
           },
           {
            "iteration": 545,
            "learn": [
             0.1381866642
            ],
            "passed_time": 333.7960715,
            "remaining_time": 277.5520448,
            "test": [
             0.139523716
            ]
           },
           {
            "iteration": 546,
            "learn": [
             0.1381827326
            ],
            "passed_time": 334.4066816,
            "remaining_time": 276.9400855,
            "test": [
             0.1395228421
            ]
           },
           {
            "iteration": 547,
            "learn": [
             0.1381694162
            ],
            "passed_time": 335.0495345,
            "remaining_time": 276.3547255,
            "test": [
             0.139510985
            ]
           },
           {
            "iteration": 548,
            "learn": [
             0.1381641541
            ],
            "passed_time": 335.5604928,
            "remaining_time": 275.6608055,
            "test": [
             0.1395115213
            ]
           },
           {
            "iteration": 549,
            "learn": [
             0.1381593096
            ],
            "passed_time": 336.1818669,
            "remaining_time": 275.0578911,
            "test": [
             0.1395107415
            ]
           },
           {
            "iteration": 550,
            "learn": [
             0.1381525083
            ],
            "passed_time": 336.7657594,
            "remaining_time": 274.4243665,
            "test": [
             0.139505602
            ]
           },
           {
            "iteration": 551,
            "learn": [
             0.138148678
            ],
            "passed_time": 337.3856802,
            "remaining_time": 273.8202622,
            "test": [
             0.1395056689
            ]
           },
           {
            "iteration": 552,
            "learn": [
             0.1381432131
            ],
            "passed_time": 337.9843815,
            "remaining_time": 273.1989485,
            "test": [
             0.1395035679
            ]
           },
           {
            "iteration": 553,
            "learn": [
             0.1381369427
            ],
            "passed_time": 338.6232897,
            "remaining_time": 272.6100852,
            "test": [
             0.1395000786
            ]
           },
           {
            "iteration": 554,
            "learn": [
             0.1380987119
            ],
            "passed_time": 339.4294,
            "remaining_time": 272.1551045,
            "test": [
             0.1394653509
            ]
           },
           {
            "iteration": 555,
            "learn": [
             0.1380668529
            ],
            "passed_time": 340.0266255,
            "remaining_time": 271.5320535,
            "test": [
             0.1394307435
            ]
           },
           {
            "iteration": 556,
            "learn": [
             0.1380597592
            ],
            "passed_time": 340.6381827,
            "remaining_time": 270.9204936,
            "test": [
             0.1394284586
            ]
           },
           {
            "iteration": 557,
            "learn": [
             0.1380570864
            ],
            "passed_time": 341.2374007,
            "remaining_time": 270.2991597,
            "test": [
             0.1394283429
            ]
           },
           {
            "iteration": 558,
            "learn": [
             0.1380537931
            ],
            "passed_time": 341.827344,
            "remaining_time": 269.670588,
            "test": [
             0.1394280325
            ]
           },
           {
            "iteration": 559,
            "learn": [
             0.1380483639
            ],
            "passed_time": 342.3526512,
            "remaining_time": 268.9913688,
            "test": [
             0.1394212635
            ]
           },
           {
            "iteration": 560,
            "learn": [
             0.1380480119
            ],
            "passed_time": 342.856014,
            "remaining_time": 268.2955261,
            "test": [
             0.1394208701
            ]
           },
           {
            "iteration": 561,
            "learn": [
             0.1380431734
            ],
            "passed_time": 343.4529481,
            "remaining_time": 267.6732941,
            "test": [
             0.1394166516
            ]
           },
           {
            "iteration": 562,
            "learn": [
             0.1380389375
            ],
            "passed_time": 344.0790171,
            "remaining_time": 267.0737664,
            "test": [
             0.1394205172
            ]
           },
           {
            "iteration": 563,
            "learn": [
             0.1380306923
            ],
            "passed_time": 344.661422,
            "remaining_time": 266.44039,
            "test": [
             0.1394166216
            ]
           },
           {
            "iteration": 564,
            "learn": [
             0.1380261581
            ],
            "passed_time": 345.1639586,
            "remaining_time": 265.7457027,
            "test": [
             0.1394175389
            ]
           },
           {
            "iteration": 565,
            "learn": [
             0.1379911848
            ],
            "passed_time": 345.8127935,
            "remaining_time": 265.1638735,
            "test": [
             0.1393857839
            ]
           },
           {
            "iteration": 566,
            "learn": [
             0.1379801713
            ],
            "passed_time": 346.4336828,
            "remaining_time": 264.5604668,
            "test": [
             0.1393742402
            ]
           },
           {
            "iteration": 567,
            "learn": [
             0.1379764843
            ],
            "passed_time": 347.0885242,
            "remaining_time": 263.9828212,
            "test": [
             0.1393745261
            ]
           },
           {
            "iteration": 568,
            "learn": [
             0.1379699156
            ],
            "passed_time": 347.7125323,
            "remaining_time": 263.3815491,
            "test": [
             0.1393698971
            ]
           },
           {
            "iteration": 569,
            "learn": [
             0.1379634245
            ],
            "passed_time": 348.3424916,
            "remaining_time": 262.7846866,
            "test": [
             0.1393694305
            ]
           },
           {
            "iteration": 570,
            "learn": [
             0.1379569274
            ],
            "passed_time": 348.9579408,
            "remaining_time": 262.1768067,
            "test": [
             0.1393720937
            ]
           },
           {
            "iteration": 571,
            "learn": [
             0.1379527511
            ],
            "passed_time": 349.5497192,
            "remaining_time": 261.5511885,
            "test": [
             0.1393705111
            ]
           },
           {
            "iteration": 572,
            "learn": [
             0.1379478529
            ],
            "passed_time": 350.1011489,
            "remaining_time": 260.8956205,
            "test": [
             0.1393702965
            ]
           },
           {
            "iteration": 573,
            "learn": [
             0.1379446849
            ],
            "passed_time": 350.6675456,
            "remaining_time": 260.2515234,
            "test": [
             0.1393677797
            ]
           },
           {
            "iteration": 574,
            "learn": [
             0.1379410217
            ],
            "passed_time": 351.3085961,
            "remaining_time": 259.6628754,
            "test": [
             0.13936781
            ]
           },
           {
            "iteration": 575,
            "learn": [
             0.137936398
            ],
            "passed_time": 351.9329743,
            "remaining_time": 259.0617727,
            "test": [
             0.1393661807
            ]
           },
           {
            "iteration": 576,
            "learn": [
             0.1379299069
            ],
            "passed_time": 352.4963018,
            "remaining_time": 258.415833,
            "test": [
             0.1393683089
            ]
           },
           {
            "iteration": 577,
            "learn": [
             0.1379296802
            ],
            "passed_time": 352.9709987,
            "remaining_time": 257.7054696,
            "test": [
             0.139368014
            ]
           },
           {
            "iteration": 578,
            "learn": [
             0.1379254383
            ],
            "passed_time": 353.555278,
            "remaining_time": 257.0755994,
            "test": [
             0.1393727006
            ]
           },
           {
            "iteration": 579,
            "learn": [
             0.1379100696
            ],
            "passed_time": 354.1672624,
            "remaining_time": 256.4659486,
            "test": [
             0.1393571462
            ]
           },
           {
            "iteration": 580,
            "learn": [
             0.1379012755
            ],
            "passed_time": 354.7664974,
            "remaining_time": 255.8470953,
            "test": [
             0.1393493484
            ]
           },
           {
            "iteration": 581,
            "learn": [
             0.1378965504
            ],
            "passed_time": 355.4373434,
            "remaining_time": 255.2797415,
            "test": [
             0.1393468383
            ]
           },
           {
            "iteration": 582,
            "learn": [
             0.1378939372
            ],
            "passed_time": 355.9834479,
            "remaining_time": 254.6228092,
            "test": [
             0.1393508666
            ]
           },
           {
            "iteration": 583,
            "learn": [
             0.1378825002
            ],
            "passed_time": 356.6427373,
            "remaining_time": 254.0468814,
            "test": [
             0.139342042
            ]
           },
           {
            "iteration": 584,
            "learn": [
             0.1378805075
            ],
            "passed_time": 357.2170333,
            "remaining_time": 253.410374,
            "test": [
             0.1393412388
            ]
           },
           {
            "iteration": 585,
            "learn": [
             0.1378800064
            ],
            "passed_time": 357.6811316,
            "remaining_time": 252.6962261,
            "test": [
             0.1393406957
            ]
           },
           {
            "iteration": 586,
            "learn": [
             0.1378776736
            ],
            "passed_time": 358.2892626,
            "remaining_time": 252.0842683,
            "test": [
             0.1393408588
            ]
           },
           {
            "iteration": 587,
            "learn": [
             0.1378738613
            ],
            "passed_time": 358.8888073,
            "remaining_time": 251.4663071,
            "test": [
             0.1393402237
            ]
           },
           {
            "iteration": 588,
            "learn": [
             0.1378691242
            ],
            "passed_time": 359.5429984,
            "remaining_time": 250.8865405,
            "test": [
             0.1393397967
            ]
           },
           {
            "iteration": 589,
            "learn": [
             0.1378660636
            ],
            "passed_time": 360.1015034,
            "remaining_time": 250.2400278,
            "test": [
             0.1393403412
            ]
           },
           {
            "iteration": 590,
            "learn": [
             0.1378626808
            ],
            "passed_time": 360.7311437,
            "remaining_time": 249.6430419,
            "test": [
             0.1393416806
            ]
           },
           {
            "iteration": 591,
            "learn": [
             0.1378589639
            ],
            "passed_time": 361.3814987,
            "remaining_time": 249.060222,
            "test": [
             0.1393419722
            ]
           },
           {
            "iteration": 592,
            "learn": [
             0.1378549368
            ],
            "passed_time": 361.9910707,
            "remaining_time": 248.4491834,
            "test": [
             0.1393409466
            ]
           },
           {
            "iteration": 593,
            "learn": [
             0.137848911
            ],
            "passed_time": 362.571067,
            "remaining_time": 247.8179347,
            "test": [
             0.1393403455
            ]
           },
           {
            "iteration": 594,
            "learn": [
             0.1378454209
            ],
            "passed_time": 363.1427537,
            "remaining_time": 247.1812021,
            "test": [
             0.1393408178
            ]
           },
           {
            "iteration": 595,
            "learn": [
             0.1378361018
            ],
            "passed_time": 363.7578979,
            "remaining_time": 246.5741456,
            "test": [
             0.1393347234
            ]
           },
           {
            "iteration": 596,
            "learn": [
             0.1378322775
            ],
            "passed_time": 364.3751017,
            "remaining_time": 245.9684523,
            "test": [
             0.1393344565
            ]
           },
           {
            "iteration": 597,
            "learn": [
             0.1378265441
            ],
            "passed_time": 364.9376078,
            "remaining_time": 245.3259504,
            "test": [
             0.1393316842
            ]
           },
           {
            "iteration": 598,
            "learn": [
             0.1378214431
            ],
            "passed_time": 365.5671186,
            "remaining_time": 244.7285719,
            "test": [
             0.1393327239
            ]
           },
           {
            "iteration": 599,
            "learn": [
             0.1378164554
            ],
            "passed_time": 366.1502363,
            "remaining_time": 244.1001575,
            "test": [
             0.1393359893
            ]
           },
           {
            "iteration": 600,
            "learn": [
             0.1378103163
            ],
            "passed_time": 366.7526503,
            "remaining_time": 243.4847046,
            "test": [
             0.1393345883
            ]
           },
           {
            "iteration": 601,
            "learn": [
             0.1378062713
            ],
            "passed_time": 367.3045052,
            "remaining_time": 242.8358689,
            "test": [
             0.1393335944
            ]
           },
           {
            "iteration": 602,
            "learn": [
             0.137799637
            ],
            "passed_time": 367.9438417,
            "remaining_time": 242.2449505,
            "test": [
             0.1393325511
            ]
           },
           {
            "iteration": 603,
            "learn": [
             0.1377965465
            ],
            "passed_time": 368.580688,
            "remaining_time": 241.6522392,
            "test": [
             0.1393245194
            ]
           },
           {
            "iteration": 604,
            "learn": [
             0.137790825
            ],
            "passed_time": 369.1640763,
            "remaining_time": 241.0244796,
            "test": [
             0.1393270192
            ]
           },
           {
            "iteration": 605,
            "learn": [
             0.1377875437
            ],
            "passed_time": 369.7925575,
            "remaining_time": 240.4261842,
            "test": [
             0.1393286342
            ]
           },
           {
            "iteration": 606,
            "learn": [
             0.1377819296
            ],
            "passed_time": 370.3343441,
            "remaining_time": 239.7716593,
            "test": [
             0.13932976
            ]
           },
           {
            "iteration": 607,
            "learn": [
             0.1377753251
            ],
            "passed_time": 370.9378021,
            "remaining_time": 239.1572671,
            "test": [
             0.1393318143
            ]
           },
           {
            "iteration": 608,
            "learn": [
             0.1377702002
            ],
            "passed_time": 371.5174904,
            "remaining_time": 238.5276498,
            "test": [
             0.1393324753
            ]
           },
           {
            "iteration": 609,
            "learn": [
             0.1377642699
            ],
            "passed_time": 372.1541577,
            "remaining_time": 237.9346254,
            "test": [
             0.13933435
            ]
           },
           {
            "iteration": 610,
            "learn": [
             0.1377592225
            ],
            "passed_time": 372.7719185,
            "remaining_time": 237.3294211,
            "test": [
             0.1393251519
            ]
           },
           {
            "iteration": 611,
            "learn": [
             0.137744534
            ],
            "passed_time": 373.3144917,
            "remaining_time": 236.6765078,
            "test": [
             0.1393115886
            ]
           },
           {
            "iteration": 612,
            "learn": [
             0.1377441939
            ],
            "passed_time": 373.8207044,
            "remaining_time": 236.0009993,
            "test": [
             0.1393113589
            ]
           },
           {
            "iteration": 613,
            "learn": [
             0.1377356087
            ],
            "passed_time": 374.4139434,
            "remaining_time": 235.3807527,
            "test": [
             0.1393068459
            ]
           },
           {
            "iteration": 614,
            "learn": [
             0.1377313191
            ],
            "passed_time": 374.9805889,
            "remaining_time": 234.7439459,
            "test": [
             0.1393075988
            ]
           },
           {
            "iteration": 615,
            "learn": [
             0.1377245296
            ],
            "passed_time": 375.5497923,
            "remaining_time": 234.1089615,
            "test": [
             0.1393036446
            ]
           },
           {
            "iteration": 616,
            "learn": [
             0.1377225668
            ],
            "passed_time": 376.1378584,
            "remaining_time": 233.4858992,
            "test": [
             0.1393018172
            ]
           },
           {
            "iteration": 617,
            "learn": [
             0.1377212781
            ],
            "passed_time": 376.7112839,
            "remaining_time": 232.8539004,
            "test": [
             0.1393022177
            ]
           },
           {
            "iteration": 618,
            "learn": [
             0.1377174896
            ],
            "passed_time": 377.3423373,
            "remaining_time": 232.2575614,
            "test": [
             0.1393022516
            ]
           },
           {
            "iteration": 619,
            "learn": [
             0.1377140233
            ],
            "passed_time": 377.9864674,
            "remaining_time": 231.6691252,
            "test": [
             0.1393024479
            ]
           },
           {
            "iteration": 620,
            "learn": [
             0.1376934343
            ],
            "passed_time": 378.545791,
            "remaining_time": 231.0287517,
            "test": [
             0.1392883456
            ]
           },
           {
            "iteration": 621,
            "learn": [
             0.137686973
            ],
            "passed_time": 379.3128902,
            "remaining_time": 230.5149075,
            "test": [
             0.1392852564
            ]
           },
           {
            "iteration": 622,
            "learn": [
             0.1376837215
            ],
            "passed_time": 379.8645436,
            "remaining_time": 229.8698763,
            "test": [
             0.139284277
            ]
           },
           {
            "iteration": 623,
            "learn": [
             0.1376790142
            ],
            "passed_time": 380.485432,
            "remaining_time": 229.2668629,
            "test": [
             0.1392843243
            ]
           },
           {
            "iteration": 624,
            "learn": [
             0.1376712941
            ],
            "passed_time": 381.0719787,
            "remaining_time": 228.6431872,
            "test": [
             0.139276852
            ]
           },
           {
            "iteration": 625,
            "learn": [
             0.1376663243
            ],
            "passed_time": 381.6734943,
            "remaining_time": 228.0285732,
            "test": [
             0.1392797723
            ]
           },
           {
            "iteration": 626,
            "learn": [
             0.1376621898
            ],
            "passed_time": 382.2846748,
            "remaining_time": 227.4197507,
            "test": [
             0.1392819232
            ]
           },
           {
            "iteration": 627,
            "learn": [
             0.1376588786
            ],
            "passed_time": 382.9093962,
            "remaining_time": 226.8189417,
            "test": [
             0.1392813118
            ]
           },
           {
            "iteration": 628,
            "learn": [
             0.1376527156
            ],
            "passed_time": 383.5158159,
            "remaining_time": 226.2072618,
            "test": [
             0.1392781375
            ]
           },
           {
            "iteration": 629,
            "learn": [
             0.1376527037
            ],
            "passed_time": 384.0096185,
            "remaining_time": 225.5294585,
            "test": [
             0.1392781317
            ]
           },
           {
            "iteration": 630,
            "learn": [
             0.1376488078
            ],
            "passed_time": 384.625374,
            "remaining_time": 224.9235547,
            "test": [
             0.1392769169
            ]
           },
           {
            "iteration": 631,
            "learn": [
             0.137648778
            ],
            "passed_time": 385.1415364,
            "remaining_time": 224.2596288,
            "test": [
             0.139276894
            ]
           },
           {
            "iteration": 632,
            "learn": [
             0.1376487183
            ],
            "passed_time": 385.7024133,
            "remaining_time": 223.6220943,
            "test": [
             0.1392768712
            ]
           },
           {
            "iteration": 633,
            "learn": [
             0.137643856
            ],
            "passed_time": 386.279427,
            "remaining_time": 222.9941171,
            "test": [
             0.1392761663
            ]
           },
           {
            "iteration": 634,
            "learn": [
             0.1376400078
            ],
            "passed_time": 386.8590801,
            "remaining_time": 222.3678177,
            "test": [
             0.1392727507
            ]
           },
           {
            "iteration": 635,
            "learn": [
             0.1376366668
            ],
            "passed_time": 387.418352,
            "remaining_time": 221.7300002,
            "test": [
             0.1392734248
            ]
           },
           {
            "iteration": 636,
            "learn": [
             0.1376296507
            ],
            "passed_time": 387.9913708,
            "remaining_time": 221.1002631,
            "test": [
             0.1392712809
            ]
           },
           {
            "iteration": 637,
            "learn": [
             0.1376296268
            ],
            "passed_time": 388.4654373,
            "remaining_time": 220.4145585,
            "test": [
             0.1392712422
            ]
           },
           {
            "iteration": 638,
            "learn": [
             0.1376295612
            ],
            "passed_time": 388.9665177,
            "remaining_time": 219.7447776,
            "test": [
             0.1392712038
            ]
           },
           {
            "iteration": 639,
            "learn": [
             0.1376294955
            ],
            "passed_time": 389.4518683,
            "remaining_time": 219.0666759,
            "test": [
             0.1392711655
            ]
           },
           {
            "iteration": 640,
            "learn": [
             0.1376294717
            ],
            "passed_time": 389.9568925,
            "remaining_time": 218.4001941,
            "test": [
             0.1392711274
            ]
           },
           {
            "iteration": 641,
            "learn": [
             0.1376294717
            ],
            "passed_time": 390.4473442,
            "remaining_time": 217.7260891,
            "test": [
             0.1392710896
            ]
           },
           {
            "iteration": 642,
            "learn": [
             0.1376294597
            ],
            "passed_time": 390.9586846,
            "remaining_time": 217.064153,
            "test": [
             0.1392710519
            ]
           },
           {
            "iteration": 643,
            "learn": [
             0.1376269241
            ],
            "passed_time": 391.5457094,
            "remaining_time": 216.4445226,
            "test": [
             0.1392724523
            ]
           },
           {
            "iteration": 644,
            "learn": [
             0.1376228075
            ],
            "passed_time": 392.1819376,
            "remaining_time": 215.8520742,
            "test": [
             0.1392714074
            ]
           },
           {
            "iteration": 645,
            "learn": [
             0.1375554383
            ],
            "passed_time": 392.9017288,
            "remaining_time": 215.3052817,
            "test": [
             0.1392075345
            ]
           },
           {
            "iteration": 646,
            "learn": [
             0.1375448782
            ],
            "passed_time": 393.4744734,
            "remaining_time": 214.6777266,
            "test": [
             0.1391953927
            ]
           },
           {
            "iteration": 647,
            "learn": [
             0.1375392582
            ],
            "passed_time": 394.0363541,
            "remaining_time": 214.0444393,
            "test": [
             0.1391938169
            ]
           },
           {
            "iteration": 648,
            "learn": [
             0.1375352668
            ],
            "passed_time": 394.636329,
            "remaining_time": 213.4319746,
            "test": [
             0.1391938782
            ]
           },
           {
            "iteration": 649,
            "learn": [
             0.1375291576
            ],
            "passed_time": 395.2950722,
            "remaining_time": 212.8511927,
            "test": [
             0.1391953113
            ]
           },
           {
            "iteration": 650,
            "learn": [
             0.1375274214
            ],
            "passed_time": 395.8556247,
            "remaining_time": 212.2175315,
            "test": [
             0.1391964132
            ]
           },
           {
            "iteration": 651,
            "learn": [
             0.1375169748
            ],
            "passed_time": 396.4326581,
            "remaining_time": 211.5928911,
            "test": [
             0.1391971426
            ]
           },
           {
            "iteration": 652,
            "learn": [
             0.1375131923
            ],
            "passed_time": 396.9818205,
            "remaining_time": 210.9535861,
            "test": [
             0.1391983519
            ]
           },
           {
            "iteration": 653,
            "learn": [
             0.1375078347
            ],
            "passed_time": 397.5609348,
            "remaining_time": 210.3304028,
            "test": [
             0.1391955334
            ]
           },
           {
            "iteration": 654,
            "learn": [
             0.1375039866
            ],
            "passed_time": 398.1591077,
            "remaining_time": 209.7173926,
            "test": [
             0.1391947114
            ]
           },
           {
            "iteration": 655,
            "learn": [
             0.1375034675
            ],
            "passed_time": 398.6655602,
            "remaining_time": 209.0563303,
            "test": [
             0.1391951574
            ]
           },
           {
            "iteration": 656,
            "learn": [
             0.1375002756
            ],
            "passed_time": 399.2773178,
            "remaining_time": 208.4507154,
            "test": [
             0.1391958174
            ]
           },
           {
            "iteration": 657,
            "learn": [
             0.1374961113
            ],
            "passed_time": 399.9032469,
            "remaining_time": 207.8524475,
            "test": [
             0.1391941713
            ]
           },
           {
            "iteration": 658,
            "learn": [
             0.1374911952
            ],
            "passed_time": 400.5205218,
            "remaining_time": 207.2496175,
            "test": [
             0.1391939746
            ]
           },
           {
            "iteration": 659,
            "learn": [
             0.1374851754
            ],
            "passed_time": 401.0793739,
            "remaining_time": 206.6166471,
            "test": [
             0.1391880002
            ]
           },
           {
            "iteration": 660,
            "learn": [
             0.1374821148
            ],
            "passed_time": 401.7303034,
            "remaining_time": 206.0311238,
            "test": [
             0.1391828845
            ]
           },
           {
            "iteration": 661,
            "learn": [
             0.1374812915
            ],
            "passed_time": 402.1841911,
            "remaining_time": 205.3447985,
            "test": [
             0.1391823053
            ]
           },
           {
            "iteration": 662,
            "learn": [
             0.1374812497
            ],
            "passed_time": 402.7533479,
            "remaining_time": 204.7177651,
            "test": [
             0.13918227
            ]
           },
           {
            "iteration": 663,
            "learn": [
             0.1374812259
            ],
            "passed_time": 403.2163487,
            "remaining_time": 204.0371885,
            "test": [
             0.1391822525
            ]
           },
           {
            "iteration": 664,
            "learn": [
             0.137481196
            ],
            "passed_time": 403.7518051,
            "remaining_time": 203.3937665,
            "test": [
             0.139182235
            ]
           },
           {
            "iteration": 665,
            "learn": [
             0.137481017
            ],
            "passed_time": 404.2171614,
            "remaining_time": 202.7155134,
            "test": [
             0.1391820962
            ]
           },
           {
            "iteration": 666,
            "learn": [
             0.1374809932
            ],
            "passed_time": 404.7460426,
            "remaining_time": 202.0696135,
            "test": [
             0.1391820791
            ]
           },
           {
            "iteration": 667,
            "learn": [
             0.1374809633
            ],
            "passed_time": 405.2222925,
            "remaining_time": 201.3979059,
            "test": [
             0.1391820621
            ]
           },
           {
            "iteration": 668,
            "learn": [
             0.1374809097
            ],
            "passed_time": 405.7616415,
            "remaining_time": 200.758002,
            "test": [
             0.1391820451
            ]
           },
           {
            "iteration": 669,
            "learn": [
             0.1374808918
            ],
            "passed_time": 406.2307691,
            "remaining_time": 200.0838116,
            "test": [
             0.1391820282
            ]
           },
           {
            "iteration": 670,
            "learn": [
             0.1374808679
            ],
            "passed_time": 406.7892584,
            "remaining_time": 199.4540477,
            "test": [
             0.1391820113
            ]
           },
           {
            "iteration": 671,
            "learn": [
             0.1374808261
            ],
            "passed_time": 407.2620653,
            "remaining_time": 198.7826747,
            "test": [
             0.1391819944
            ]
           },
           {
            "iteration": 672,
            "learn": [
             0.1374808082
            ],
            "passed_time": 407.7797101,
            "remaining_time": 198.1336779,
            "test": [
             0.1391819609
            ]
           },
           {
            "iteration": 673,
            "learn": [
             0.1374808202
            ],
            "passed_time": 408.291399,
            "remaining_time": 197.48219,
            "test": [
             0.1391819441
            ]
           },
           {
            "iteration": 674,
            "learn": [
             0.1374807605
            ],
            "passed_time": 408.8311745,
            "remaining_time": 196.8446396,
            "test": [
             0.1391819275
            ]
           },
           {
            "iteration": 675,
            "learn": [
             0.1374807366
            ],
            "passed_time": 409.3024544,
            "remaining_time": 196.1745492,
            "test": [
             0.1391819109
            ]
           },
           {
            "iteration": 676,
            "learn": [
             0.1374781235
            ],
            "passed_time": 409.9331529,
            "remaining_time": 195.5811054,
            "test": [
             0.1391819809
            ]
           },
           {
            "iteration": 677,
            "learn": [
             0.1374738517
            ],
            "passed_time": 410.580813,
            "remaining_time": 194.9956074,
            "test": [
             0.1391827713
            ]
           },
           {
            "iteration": 678,
            "learn": [
             0.137473816
            ],
            "passed_time": 411.1103657,
            "remaining_time": 194.3540904,
            "test": [
             0.139182763
            ]
           },
           {
            "iteration": 679,
            "learn": [
             0.137473816
            ],
            "passed_time": 411.6069187,
            "remaining_time": 193.6973735,
            "test": [
             0.1391827462
            ]
           },
           {
            "iteration": 680,
            "learn": [
             0.1374696277
            ],
            "passed_time": 412.2850151,
            "remaining_time": 193.1261671,
            "test": [
             0.1391826867
            ]
           },
           {
            "iteration": 681,
            "learn": [
             0.137465535
            ],
            "passed_time": 412.9890695,
            "remaining_time": 192.5667509,
            "test": [
             0.1391837183
            ]
           },
           {
            "iteration": 682,
            "learn": [
             0.1374624386
            ],
            "passed_time": 413.5817994,
            "remaining_time": 191.9552422,
            "test": [
             0.139184046
            ]
           },
           {
            "iteration": 683,
            "learn": [
             0.1374590797
            ],
            "passed_time": 414.3051684,
            "remaining_time": 191.4041421,
            "test": [
             0.139183609
            ]
           },
           {
            "iteration": 684,
            "learn": [
             0.1374589842
            ],
            "passed_time": 414.7738228,
            "remaining_time": 190.7354076,
            "test": [
             0.1391835931
            ]
           },
           {
            "iteration": 685,
            "learn": [
             0.1374590081
            ],
            "passed_time": 415.2981277,
            "remaining_time": 190.092729,
            "test": [
             0.13918359
            ]
           },
           {
            "iteration": 686,
            "learn": [
             0.1374581788
            ],
            "passed_time": 415.8380985,
            "remaining_time": 189.4575325,
            "test": [
             0.139183574
            ]
           },
           {
            "iteration": 687,
            "learn": [
             0.1374543068
            ],
            "passed_time": 416.4569375,
            "remaining_time": 188.8583787,
            "test": [
             0.1391844109
            ]
           },
           {
            "iteration": 688,
            "learn": [
             0.1374489969
            ],
            "passed_time": 416.9580867,
            "remaining_time": 188.206045,
            "test": [
             0.1391883247
            ]
           },
           {
            "iteration": 689,
            "learn": [
             0.1374457216
            ],
            "passed_time": 417.5821083,
            "remaining_time": 187.609353,
            "test": [
             0.1391850783
            ]
           },
           {
            "iteration": 690,
            "learn": [
             0.1374434783
            ],
            "passed_time": 418.2283547,
            "remaining_time": 187.0225204,
            "test": [
             0.1391846769
            ]
           },
           {
            "iteration": 691,
            "learn": [
             0.1374429533
            ],
            "passed_time": 418.7296509,
            "remaining_time": 186.3710007,
            "test": [
             0.1391847893
            ]
           },
           {
            "iteration": 692,
            "learn": [
             0.1374392125
            ],
            "passed_time": 419.5198629,
            "remaining_time": 185.8479046,
            "test": [
             0.1391841324
            ]
           },
           {
            "iteration": 693,
            "learn": [
             0.1374351436
            ],
            "passed_time": 420.1062549,
            "remaining_time": 185.23417,
            "test": [
             0.139185519
            ]
           },
           {
            "iteration": 694,
            "learn": [
             0.1374318862
            ],
            "passed_time": 420.7451857,
            "remaining_time": 184.6435707,
            "test": [
             0.1391889201
            ]
           },
           {
            "iteration": 695,
            "learn": [
             0.1374280499
            ],
            "passed_time": 421.3792247,
            "remaining_time": 184.0506959,
            "test": [
             0.1391890434
            ]
           },
           {
            "iteration": 696,
            "learn": [
             0.1374209443
            ],
            "passed_time": 422.033254,
            "remaining_time": 183.4663931,
            "test": [
             0.1391853451
            ]
           },
           {
            "iteration": 697,
            "learn": [
             0.1374184684
            ],
            "passed_time": 422.6649396,
            "remaining_time": 182.8722232,
            "test": [
             0.1391858639
            ]
           },
           {
            "iteration": 698,
            "learn": [
             0.1374147157
            ],
            "passed_time": 423.2530221,
            "remaining_time": 182.2591698,
            "test": [
             0.1392106326
            ]
           },
           {
            "iteration": 699,
            "learn": [
             0.137411148
            ],
            "passed_time": 423.8977066,
            "remaining_time": 181.6704457,
            "test": [
             0.1392050847
            ]
           },
           {
            "iteration": 700,
            "learn": [
             0.1374059455
            ],
            "passed_time": 424.4760816,
            "remaining_time": 181.0532788,
            "test": [
             0.139202999
            ]
           },
           {
            "iteration": 701,
            "learn": [
             0.1374031832
            ],
            "passed_time": 425.1192655,
            "remaining_time": 180.4637338,
            "test": [
             0.1392054127
            ]
           },
           {
            "iteration": 702,
            "learn": [
             0.1374002658
            ],
            "passed_time": 425.7638622,
            "remaining_time": 179.8746331,
            "test": [
             0.1392126037
            ]
           },
           {
            "iteration": 703,
            "learn": [
             0.1373966265
            ],
            "passed_time": 426.3534212,
            "remaining_time": 179.2622339,
            "test": [
             0.1392122057
            ]
           },
           {
            "iteration": 704,
            "learn": [
             0.1373922593
            ],
            "passed_time": 426.9642876,
            "remaining_time": 178.6588154,
            "test": [
             0.1392085141
            ]
           },
           {
            "iteration": 705,
            "learn": [
             0.1373870151
            ],
            "passed_time": 427.5721437,
            "remaining_time": 178.0541222,
            "test": [
             0.1392057156
            ]
           },
           {
            "iteration": 706,
            "learn": [
             0.1373810549
            ],
            "passed_time": 428.231596,
            "remaining_time": 177.4708028,
            "test": [
             0.1392080515
            ]
           },
           {
            "iteration": 707,
            "learn": [
             0.137377517
            ],
            "passed_time": 428.8036732,
            "remaining_time": 176.8512325,
            "test": [
             0.1392099273
            ]
           },
           {
            "iteration": 708,
            "learn": [
             0.1373741581
            ],
            "passed_time": 429.3996878,
            "remaining_time": 176.2416208,
            "test": [
             0.1392117565
            ]
           },
           {
            "iteration": 709,
            "learn": [
             0.1373720879
            ],
            "passed_time": 429.9923094,
            "remaining_time": 175.6306616,
            "test": [
             0.139212342
            ]
           },
           {
            "iteration": 710,
            "learn": [
             0.1373654237
            ],
            "passed_time": 430.6134764,
            "remaining_time": 175.0313568,
            "test": [
             0.1392129141
            ]
           },
           {
            "iteration": 711,
            "learn": [
             0.1373590102
            ],
            "passed_time": 431.2907477,
            "remaining_time": 174.4546845,
            "test": [
             0.1392139361
            ]
           },
           {
            "iteration": 712,
            "learn": [
             0.1373545296
            ],
            "passed_time": 431.8507313,
            "remaining_time": 173.8305188,
            "test": [
             0.1392138367
            ]
           },
           {
            "iteration": 713,
            "learn": [
             0.1373518449
            ],
            "passed_time": 432.492489,
            "remaining_time": 173.2392883,
            "test": [
             0.1392134172
            ]
           },
           {
            "iteration": 714,
            "learn": [
             0.1373478118
            ],
            "passed_time": 433.1310036,
            "remaining_time": 172.6466238,
            "test": [
             0.1392149241
            ]
           },
           {
            "iteration": 715,
            "learn": [
             0.1373448287
            ],
            "passed_time": 433.7887211,
            "remaining_time": 172.061448,
            "test": [
             0.1392147433
            ]
           },
           {
            "iteration": 716,
            "learn": [
             0.1373393041
            ],
            "passed_time": 434.4452026,
            "remaining_time": 171.4755821,
            "test": [
             0.1392154023
            ]
           },
           {
            "iteration": 717,
            "learn": [
             0.1373357543
            ],
            "passed_time": 435.0529784,
            "remaining_time": 170.8703899,
            "test": [
             0.1392146278
            ]
           },
           {
            "iteration": 718,
            "learn": [
             0.1373333977
            ],
            "passed_time": 435.6806178,
            "remaining_time": 170.2729535,
            "test": [
             0.1392154911
            ]
           },
           {
            "iteration": 719,
            "learn": [
             0.1373252181
            ],
            "passed_time": 436.2998318,
            "remaining_time": 169.6721568,
            "test": [
             0.1392105178
            ]
           },
           {
            "iteration": 720,
            "learn": [
             0.1373208808
            ],
            "passed_time": 436.9247509,
            "remaining_time": 169.0735166,
            "test": [
             0.139209598
            ]
           },
           {
            "iteration": 721,
            "learn": [
             0.1373144016
            ],
            "passed_time": 437.5203148,
            "remaining_time": 168.4635007,
            "test": [
             0.1392019511
            ]
           },
           {
            "iteration": 722,
            "learn": [
             0.1373099986
            ],
            "passed_time": 438.1346088,
            "remaining_time": 167.8607008,
            "test": [
             0.1392022094
            ]
           },
           {
            "iteration": 723,
            "learn": [
             0.1373070931
            ],
            "passed_time": 438.7562442,
            "remaining_time": 167.2606677,
            "test": [
             0.1392004541
            ]
           },
           {
            "iteration": 724,
            "learn": [
             0.1373067888
            ],
            "passed_time": 439.2106683,
            "remaining_time": 166.59715,
            "test": [
             0.1392006396
            ]
           },
           {
            "iteration": 725,
            "learn": [
             0.137303245
            ],
            "passed_time": 439.8272492,
            "remaining_time": 165.9954081,
            "test": [
             0.1392020553
            ]
           },
           {
            "iteration": 726,
            "learn": [
             0.1373008048
            ],
            "passed_time": 440.4063779,
            "remaining_time": 165.3795614,
            "test": [
             0.1392003515
            ]
           },
           {
            "iteration": 727,
            "learn": [
             0.1372968374
            ],
            "passed_time": 441.0013351,
            "remaining_time": 164.7697296,
            "test": [
             0.1392006226
            ]
           },
           {
            "iteration": 728,
            "learn": [
             0.1372695544
            ],
            "passed_time": 441.6470921,
            "remaining_time": 164.178823,
            "test": [
             0.1391719866
            ]
           },
           {
            "iteration": 729,
            "learn": [
             0.1372658315
            ],
            "passed_time": 442.2152693,
            "remaining_time": 163.5590722,
            "test": [
             0.139172248
            ]
           },
           {
            "iteration": 730,
            "learn": [
             0.1372617507
            ],
            "passed_time": 442.8658802,
            "remaining_time": 162.9697972,
            "test": [
             0.1391704107
            ]
           },
           {
            "iteration": 731,
            "learn": [
             0.1372570613
            ],
            "passed_time": 443.4559728,
            "remaining_time": 162.3581977,
            "test": [
             0.139169615
            ]
           },
           {
            "iteration": 732,
            "learn": [
             0.137256948
            ],
            "passed_time": 444.0283881,
            "remaining_time": 161.7402178,
            "test": [
             0.1391695313
            ]
           },
           {
            "iteration": 733,
            "learn": [
             0.1372512802
            ],
            "passed_time": 444.6337795,
            "remaining_time": 161.1343125,
            "test": [
             0.1391720029
            ]
           },
           {
            "iteration": 734,
            "learn": [
             0.1372466863
            ],
            "passed_time": 445.2688174,
            "remaining_time": 160.5390974,
            "test": [
             0.139170614
            ]
           },
           {
            "iteration": 735,
            "learn": [
             0.1372419611
            ],
            "passed_time": 445.8654581,
            "remaining_time": 159.9300013,
            "test": [
             0.1391700002
            ]
           },
           {
            "iteration": 736,
            "learn": [
             0.1372381488
            ],
            "passed_time": 446.4787539,
            "remaining_time": 159.3268823,
            "test": [
             0.1391706911
            ]
           },
           {
            "iteration": 737,
            "learn": [
             0.1372331074
            ],
            "passed_time": 447.1005003,
            "remaining_time": 158.7267359,
            "test": [
             0.1391709319
            ]
           },
           {
            "iteration": 738,
            "learn": [
             0.1372303153
            ],
            "passed_time": 447.6528736,
            "remaining_time": 158.1020298,
            "test": [
             0.1391723044
            ]
           },
           {
            "iteration": 739,
            "learn": [
             0.1372031993
            ],
            "passed_time": 448.462833,
            "remaining_time": 157.5680224,
            "test": [
             0.1391459927
            ]
           },
           {
            "iteration": 740,
            "learn": [
             0.1371956462
            ],
            "passed_time": 449.0497568,
            "remaining_time": 156.9553131,
            "test": [
             0.1391414366
            ]
           },
           {
            "iteration": 741,
            "learn": [
             0.1371931942
            ],
            "passed_time": 449.6550316,
            "remaining_time": 156.3490541,
            "test": [
             0.1391421448
            ]
           },
           {
            "iteration": 742,
            "learn": [
             0.1371890776
            ],
            "passed_time": 450.2904687,
            "remaining_time": 155.7532308,
            "test": [
             0.1391421477
            ]
           },
           {
            "iteration": 743,
            "learn": [
             0.1371860587
            ],
            "passed_time": 450.8173547,
            "remaining_time": 155.11995,
            "test": [
             0.1391419517
            ]
           },
           {
            "iteration": 744,
            "learn": [
             0.1371827237
            ],
            "passed_time": 451.4518864,
            "remaining_time": 154.5238001,
            "test": [
             0.1391421123
            ]
           },
           {
            "iteration": 745,
            "learn": [
             0.13717949
            ],
            "passed_time": 452.0409912,
            "remaining_time": 153.9120801,
            "test": [
             0.1391465342
            ]
           },
           {
            "iteration": 746,
            "learn": [
             0.1371746157
            ],
            "passed_time": 452.6905754,
            "remaining_time": 153.3209044,
            "test": [
             0.1391483096
            ]
           },
           {
            "iteration": 747,
            "learn": [
             0.1371655651
            ],
            "passed_time": 453.3157258,
            "remaining_time": 152.7213408,
            "test": [
             0.1391393802
            ]
           },
           {
            "iteration": 748,
            "learn": [
             0.1371613232
            ],
            "passed_time": 453.9146372,
            "remaining_time": 152.1129158,
            "test": [
             0.1391394901
            ]
           },
           {
            "iteration": 749,
            "learn": [
             0.1371612994
            ],
            "passed_time": 454.4917632,
            "remaining_time": 151.4972544,
            "test": [
             0.1391394904
            ]
           },
           {
            "iteration": 750,
            "learn": [
             0.1371612457
            ],
            "passed_time": 455.0327623,
            "remaining_time": 150.8697175,
            "test": [
             0.1391394909
            ]
           },
           {
            "iteration": 751,
            "learn": [
             0.1371611442
            ],
            "passed_time": 455.6236461,
            "remaining_time": 150.258862,
            "test": [
             0.1391394927
            ]
           },
           {
            "iteration": 752,
            "learn": [
             0.1371610906
            ],
            "passed_time": 456.1212788,
            "remaining_time": 149.6174713,
            "test": [
             0.1391394939
            ]
           },
           {
            "iteration": 753,
            "learn": [
             0.1371610727
            ],
            "passed_time": 456.6894026,
            "remaining_time": 148.9994603,
            "test": [
             0.139139487
            ]
           },
           {
            "iteration": 754,
            "learn": [
             0.1371610667
            ],
            "passed_time": 457.1931863,
            "remaining_time": 148.3607028,
            "test": [
             0.1391394801
            ]
           },
           {
            "iteration": 755,
            "learn": [
             0.1371560134
            ],
            "passed_time": 457.8499165,
            "remaining_time": 147.7716662,
            "test": [
             0.1391415199
            ]
           },
           {
            "iteration": 756,
            "learn": [
             0.137155381
            ],
            "passed_time": 458.3881811,
            "remaining_time": 147.1444227,
            "test": [
             0.1391415257
            ]
           },
           {
            "iteration": 757,
            "learn": [
             0.1371516223
            ],
            "passed_time": 459.0547638,
            "remaining_time": 146.5583811,
            "test": [
             0.1391400626
            ]
           },
           {
            "iteration": 758,
            "learn": [
             0.1371515865
            ],
            "passed_time": 459.5415302,
            "remaining_time": 145.9150313,
            "test": [
             0.1391400746
            ]
           },
           {
            "iteration": 759,
            "learn": [
             0.1371508945
            ],
            "passed_time": 460.1062945,
            "remaining_time": 145.2967246,
            "test": [
             0.1391401098
            ]
           },
           {
            "iteration": 760,
            "learn": [
             0.1371460321
            ],
            "passed_time": 460.688469,
            "remaining_time": 144.6840264,
            "test": [
             0.1391390902
            ]
           },
           {
            "iteration": 761,
            "learn": [
             0.1371346846
            ],
            "passed_time": 461.3253271,
            "remaining_time": 144.088488,
            "test": [
             0.1391311219
            ]
           },
           {
            "iteration": 762,
            "learn": [
             0.1371271971
            ],
            "passed_time": 461.9629255,
            "remaining_time": 143.4930712,
            "test": [
             0.1391289809
            ]
           },
           {
            "iteration": 763,
            "learn": [
             0.1371271315
            ],
            "passed_time": 462.4526226,
            "remaining_time": 142.8518572,
            "test": [
             0.1391289512
            ]
           },
           {
            "iteration": 764,
            "learn": [
             0.1371250911
            ],
            "passed_time": 463.056855,
            "remaining_time": 142.2462234,
            "test": [
             0.1391289113
            ]
           },
           {
            "iteration": 765,
            "learn": [
             0.1371217083
            ],
            "passed_time": 463.6163375,
            "remaining_time": 141.626923,
            "test": [
             0.1391298047
            ]
           },
           {
            "iteration": 766,
            "learn": [
             0.1371145848
            ],
            "passed_time": 464.2676116,
            "remaining_time": 141.035663,
            "test": [
             0.1391254168
            ]
           },
           {
            "iteration": 767,
            "learn": [
             0.1371088096
            ],
            "passed_time": 464.8529757,
            "remaining_time": 140.4243364,
            "test": [
             0.1391253989
            ]
           },
           {
            "iteration": 768,
            "learn": [
             0.1371033386
            ],
            "passed_time": 465.5160335,
            "remaining_time": 139.8364158,
            "test": [
             0.13912522
            ]
           },
           {
            "iteration": 769,
            "learn": [
             0.1371012982
            ],
            "passed_time": 466.1295853,
            "remaining_time": 139.2335125,
            "test": [
             0.1391251297
            ]
           },
           {
            "iteration": 770,
            "learn": [
             0.1370975873
            ],
            "passed_time": 466.7358963,
            "remaining_time": 138.6284309,
            "test": [
             0.1391238817
            ]
           },
           {
            "iteration": 771,
            "learn": [
             0.1370908456
            ],
            "passed_time": 467.40386,
            "remaining_time": 138.0415545,
            "test": [
             0.1391195101
            ]
           },
           {
            "iteration": 772,
            "learn": [
             0.1370908039
            ],
            "passed_time": 467.9000753,
            "remaining_time": 137.4040325,
            "test": [
             0.1391194935
            ]
           },
           {
            "iteration": 773,
            "learn": [
             0.1370887634
            ],
            "passed_time": 468.5046878,
            "remaining_time": 136.7985264,
            "test": [
             0.1391211646
            ]
           },
           {
            "iteration": 774,
            "learn": [
             0.1370837638
            ],
            "passed_time": 469.1315345,
            "remaining_time": 136.1994778,
            "test": [
             0.1391203082
            ]
           },
           {
            "iteration": 775,
            "learn": [
             0.137083555
            ],
            "passed_time": 469.6817437,
            "remaining_time": 135.5782353,
            "test": [
             0.1391203801
            ]
           },
           {
            "iteration": 776,
            "learn": [
             0.1370805243
            ],
            "passed_time": 470.2614757,
            "remaining_time": 134.9656488,
            "test": [
             0.1391211605
            ]
           },
           {
            "iteration": 777,
            "learn": [
             0.1370804228
            ],
            "passed_time": 470.8542314,
            "remaining_time": 134.3568629,
            "test": [
             0.1391211595
            ]
           },
           {
            "iteration": 778,
            "learn": [
             0.1370804527
            ],
            "passed_time": 471.3437485,
            "remaining_time": 133.7188298,
            "test": [
             0.1391211843
            ]
           },
           {
            "iteration": 779,
            "learn": [
             0.1370801066
            ],
            "passed_time": 471.904906,
            "remaining_time": 133.1013837,
            "test": [
             0.1391211882
            ]
           },
           {
            "iteration": 780,
            "learn": [
             0.1370732874
            ],
            "passed_time": 472.5786217,
            "remaining_time": 132.5156443,
            "test": [
             0.1391195183
            ]
           },
           {
            "iteration": 781,
            "learn": [
             0.1370700299
            ],
            "passed_time": 473.1847655,
            "remaining_time": 131.9108426,
            "test": [
             0.1391191907
            ]
           },
           {
            "iteration": 782,
            "learn": [
             0.1370580082
            ],
            "passed_time": 473.8534139,
            "remaining_time": 131.3233599,
            "test": [
             0.1391095111
            ]
           },
           {
            "iteration": 783,
            "learn": [
             0.1370468933
            ],
            "passed_time": 474.5098874,
            "remaining_time": 130.7323159,
            "test": [
             0.1390979592
            ]
           },
           {
            "iteration": 784,
            "learn": [
             0.1370468217
            ],
            "passed_time": 475.066199,
            "remaining_time": 130.1136723,
            "test": [
             0.1390979382
            ]
           },
           {
            "iteration": 785,
            "learn": [
             0.1370418877
            ],
            "passed_time": 475.9617951,
            "remaining_time": 129.5875625,
            "test": [
             0.1390949698
            ]
           },
           {
            "iteration": 786,
            "learn": [
             0.1370357964
            ],
            "passed_time": 477.1123695,
            "remaining_time": 129.1295231,
            "test": [
             0.1390902833
            ]
           },
           {
            "iteration": 787,
            "learn": [
             0.137027062
            ],
            "passed_time": 478.2025078,
            "remaining_time": 128.6534666,
            "test": [
             0.1390825822
            ]
           },
           {
            "iteration": 788,
            "learn": [
             0.1370218416
            ],
            "passed_time": 479.1683306,
            "remaining_time": 128.1426081,
            "test": [
             0.1390806253
            ]
           },
           {
            "iteration": 789,
            "learn": [
             0.1370218536
            ],
            "passed_time": 479.730903,
            "remaining_time": 127.5234046,
            "test": [
             0.13908066
            ]
           },
           {
            "iteration": 790,
            "learn": [
             0.1370155772
            ],
            "passed_time": 480.6109991,
            "remaining_time": 126.9882412,
            "test": [
             0.1390769374
            ]
           },
           {
            "iteration": 791,
            "learn": [
             0.1370026845
            ],
            "passed_time": 481.180666,
            "remaining_time": 126.37068,
            "test": [
             0.1390609599
            ]
           },
           {
            "iteration": 792,
            "learn": [
             0.1369831753
            ],
            "passed_time": 481.7913193,
            "remaining_time": 125.7639383,
            "test": [
             0.1390356227
            ]
           },
           {
            "iteration": 793,
            "learn": [
             0.1369792436
            ],
            "passed_time": 482.3616835,
            "remaining_time": 125.146734,
            "test": [
             0.1390349138
            ]
           },
           {
            "iteration": 794,
            "learn": [
             0.1369751032
            ],
            "passed_time": 482.9742425,
            "remaining_time": 124.5405279,
            "test": [
             0.1390373429
            ]
           },
           {
            "iteration": 795,
            "learn": [
             0.1369697456
            ],
            "passed_time": 483.6279425,
            "remaining_time": 123.9448496,
            "test": [
             0.1390362512
            ]
           },
           {
            "iteration": 796,
            "learn": [
             0.136965098
            ],
            "passed_time": 484.2452834,
            "remaining_time": 123.3397648,
            "test": [
             0.1390350126
            ]
           },
           {
            "iteration": 797,
            "learn": [
             0.1369626519
            ],
            "passed_time": 484.8541435,
            "remaining_time": 122.7325025,
            "test": [
             0.1390355252
            ]
           },
           {
            "iteration": 798,
            "learn": [
             0.1369567216
            ],
            "passed_time": 485.4677141,
            "remaining_time": 122.1264212,
            "test": [
             0.1390333471
            ]
           },
           {
            "iteration": 799,
            "learn": [
             0.1369522231
            ],
            "passed_time": 486.0804613,
            "remaining_time": 121.5201153,
            "test": [
             0.139033995
            ]
           },
           {
            "iteration": 800,
            "learn": [
             0.1369484108
            ],
            "passed_time": 486.7483955,
            "remaining_time": 120.927504,
            "test": [
             0.1390345078
            ]
           },
           {
            "iteration": 801,
            "learn": [
             0.1369443896
            ],
            "passed_time": 487.3320657,
            "remaining_time": 120.3139015,
            "test": [
             0.1390336458
            ]
           },
           {
            "iteration": 802,
            "learn": [
             0.1369426833
            ],
            "passed_time": 487.9503111,
            "remaining_time": 119.7088559,
            "test": [
             0.1390290917
            ]
           },
           {
            "iteration": 803,
            "learn": [
             0.1369384951
            ],
            "passed_time": 488.5662579,
            "remaining_time": 119.1032171,
            "test": [
             0.1390305223
            ]
           },
           {
            "iteration": 804,
            "learn": [
             0.136933943
            ],
            "passed_time": 489.1798521,
            "remaining_time": 118.4969828,
            "test": [
             0.1390288261
            ]
           },
           {
            "iteration": 805,
            "learn": [
             0.1369257575
            ],
            "passed_time": 489.7647512,
            "remaining_time": 117.8838235,
            "test": [
             0.1390228289
            ]
           },
           {
            "iteration": 806,
            "learn": [
             0.1369216528
            ],
            "passed_time": 490.4448104,
            "remaining_time": 117.2934924,
            "test": [
             0.1390235681
            ]
           },
           {
            "iteration": 807,
            "learn": [
             0.1369188905
            ],
            "passed_time": 491.0373901,
            "remaining_time": 116.6821521,
            "test": [
             0.1390256551
            ]
           },
           {
            "iteration": 808,
            "learn": [
             0.1369156867
            ],
            "passed_time": 491.61153,
            "remaining_time": 116.0665046,
            "test": [
             0.139027401
            ]
           },
           {
            "iteration": 809,
            "learn": [
             0.1369144219
            ],
            "passed_time": 492.1494516,
            "remaining_time": 115.442464,
            "test": [
             0.1390280638
            ]
           },
           {
            "iteration": 810,
            "learn": [
             0.1369118445
            ],
            "passed_time": 492.7355651,
            "remaining_time": 114.8298666,
            "test": [
             0.1390274154
            ]
           },
           {
            "iteration": 811,
            "learn": [
             0.1369083126
            ],
            "passed_time": 493.4292526,
            "remaining_time": 114.2422408,
            "test": [
             0.1390242572
            ]
           },
           {
            "iteration": 812,
            "learn": [
             0.1369079069
            ],
            "passed_time": 493.9376918,
            "remaining_time": 113.6117446,
            "test": [
             0.139024108
            ]
           },
           {
            "iteration": 813,
            "learn": [
             0.1369044823
            ],
            "passed_time": 494.6157481,
            "remaining_time": 113.0203061,
            "test": [
             0.1390222134
            ]
           },
           {
            "iteration": 814,
            "learn": [
             0.1369011771
            ],
            "passed_time": 495.2622968,
            "remaining_time": 112.421503,
            "test": [
             0.1390188319
            ]
           },
           {
            "iteration": 815,
            "learn": [
             0.136896094
            ],
            "passed_time": 495.8735085,
            "remaining_time": 111.8146147,
            "test": [
             0.139018069
            ]
           },
           {
            "iteration": 816,
            "learn": [
             0.1368933377
            ],
            "passed_time": 496.5460993,
            "remaining_time": 111.2214641,
            "test": [
             0.1390171922
            ]
           },
           {
            "iteration": 817,
            "learn": [
             0.1368896924
            ],
            "passed_time": 497.1331611,
            "remaining_time": 110.6090896,
            "test": [
             0.1390180495
            ]
           },
           {
            "iteration": 818,
            "learn": [
             0.1368870733
            ],
            "passed_time": 497.7690888,
            "remaining_time": 110.0075764,
            "test": [
             0.1390198848
            ]
           },
           {
            "iteration": 819,
            "learn": [
             0.1368828671
            ],
            "passed_time": 498.4140962,
            "remaining_time": 109.4079723,
            "test": [
             0.1390216892
            ]
           },
           {
            "iteration": 820,
            "learn": [
             0.1368716151
            ],
            "passed_time": 499.001212,
            "remaining_time": 108.7956358,
            "test": [
             0.1390124359
            ]
           },
           {
            "iteration": 821,
            "learn": [
             0.1368679161
            ],
            "passed_time": 499.6245374,
            "remaining_time": 108.1912015,
            "test": [
             0.1390134506
            ]
           },
           {
            "iteration": 822,
            "learn": [
             0.1368638174
            ],
            "passed_time": 500.1706932,
            "remaining_time": 107.5701248,
            "test": [
             0.1390102745
            ]
           },
           {
            "iteration": 823,
            "learn": [
             0.1368613772
            ],
            "passed_time": 500.8021668,
            "remaining_time": 106.9674531,
            "test": [
             0.1390111111
            ]
           },
           {
            "iteration": 824,
            "learn": [
             0.1368575828
            ],
            "passed_time": 501.3104083,
            "remaining_time": 106.3385715,
            "test": [
             0.1390109201
            ]
           },
           {
            "iteration": 825,
            "learn": [
             0.1368533349
            ],
            "passed_time": 501.9271506,
            "remaining_time": 105.732838,
            "test": [
             0.139010343
            ]
           },
           {
            "iteration": 826,
            "learn": [
             0.1368524997
            ],
            "passed_time": 502.4195983,
            "remaining_time": 105.1010768,
            "test": [
             0.1390103977
            ]
           },
           {
            "iteration": 827,
            "learn": [
             0.1368478879
            ],
            "passed_time": 503.08087,
            "remaining_time": 104.5047218,
            "test": [
             0.1390097956
            ]
           },
           {
            "iteration": 828,
            "learn": [
             0.1368459071
            ],
            "passed_time": 503.6962093,
            "remaining_time": 103.8987356,
            "test": [
             0.1390102391
            ]
           },
           {
            "iteration": 829,
            "learn": [
             0.1368413848
            ],
            "passed_time": 504.2598267,
            "remaining_time": 103.2821332,
            "test": [
             0.1390126953
            ]
           },
           {
            "iteration": 830,
            "learn": [
             0.1368390342
            ],
            "passed_time": 504.9918088,
            "remaining_time": 102.6998985,
            "test": [
             0.1390100981
            ]
           },
           {
            "iteration": 831,
            "learn": [
             0.1368362778
            ],
            "passed_time": 505.5852793,
            "remaining_time": 102.0893352,
            "test": [
             0.1390113397
            ]
           },
           {
            "iteration": 832,
            "learn": [
             0.1368267499
            ],
            "passed_time": 506.245247,
            "remaining_time": 101.4921444,
            "test": [
             0.1390040144
            ]
           },
           {
            "iteration": 833,
            "learn": [
             0.1368204199
            ],
            "passed_time": 506.7988226,
            "remaining_time": 100.8736266,
            "test": [
             0.1389971483
            ]
           },
           {
            "iteration": 834,
            "learn": [
             0.1368202171
            ],
            "passed_time": 507.3070214,
            "remaining_time": 100.2462976,
            "test": [
             0.1389970564
            ]
           },
           {
            "iteration": 835,
            "learn": [
             0.1368183437
            ],
            "passed_time": 507.9053509,
            "remaining_time": 99.63693487,
            "test": [
             0.1389976035
            ]
           },
           {
            "iteration": 836,
            "learn": [
             0.1368162078
            ],
            "passed_time": 508.5545517,
            "remaining_time": 99.03750529,
            "test": [
             0.1389963459
            ]
           },
           {
            "iteration": 837,
            "learn": [
             0.1368134276
            ],
            "passed_time": 509.0970137,
            "remaining_time": 98.41732245,
            "test": [
             0.1389959503
            ]
           },
           {
            "iteration": 838,
            "learn": [
             0.1368095855
            ],
            "passed_time": 509.7343195,
            "remaining_time": 97.81552495,
            "test": [
             0.1389953797
            ]
           },
           {
            "iteration": 839,
            "learn": [
             0.136807378
            ],
            "passed_time": 510.3234261,
            "remaining_time": 97.20446211,
            "test": [
             0.1389959598
            ]
           },
           {
            "iteration": 840,
            "learn": [
             0.1368037506
            ],
            "passed_time": 510.9475083,
            "remaining_time": 96.600064,
            "test": [
             0.1389973947
            ]
           },
           {
            "iteration": 841,
            "learn": [
             0.136799276
            ],
            "passed_time": 511.5781944,
            "remaining_time": 95.99685832,
            "test": [
             0.1389973472
            ]
           },
           {
            "iteration": 842,
            "learn": [
             0.1367972118
            ],
            "passed_time": 512.1737414,
            "remaining_time": 95.38704318,
            "test": [
             0.1389956123
            ]
           },
           {
            "iteration": 843,
            "learn": [
             0.1367921704
            ],
            "passed_time": 512.8078126,
            "remaining_time": 94.78438243,
            "test": [
             0.1389939413
            ]
           },
           {
            "iteration": 844,
            "learn": [
             0.1367835553
            ],
            "passed_time": 513.4092856,
            "remaining_time": 94.17566778,
            "test": [
             0.1389850918
            ]
           },
           {
            "iteration": 845,
            "learn": [
             0.1367799816
            ],
            "passed_time": 514.064107,
            "remaining_time": 93.57668141,
            "test": [
             0.1389840667
            ]
           },
           {
            "iteration": 846,
            "learn": [
             0.1367770642
            ],
            "passed_time": 514.7237391,
            "remaining_time": 92.97843222,
            "test": [
             0.1389834702
            ]
           },
           {
            "iteration": 847,
            "learn": [
             0.1367732757
            ],
            "passed_time": 515.2922886,
            "remaining_time": 92.36371211,
            "test": [
             0.1389796805
            ]
           },
           {
            "iteration": 848,
            "learn": [
             0.1367695052
            ],
            "passed_time": 515.9576674,
            "remaining_time": 91.76632248,
            "test": [
             0.138979074
            ]
           },
           {
            "iteration": 849,
            "learn": [
             0.1367665758
            ],
            "passed_time": 516.5639841,
            "remaining_time": 91.15835014,
            "test": [
             0.1389792423
            ]
           },
           {
            "iteration": 850,
            "learn": [
             0.1367629842
            ],
            "passed_time": 517.2243042,
            "remaining_time": 90.55983705,
            "test": [
             0.1389790641
            ]
           },
           {
            "iteration": 851,
            "learn": [
             0.136759667
            ],
            "passed_time": 517.8534614,
            "remaining_time": 89.95576559,
            "test": [
             0.1389799464
            ]
           },
           {
            "iteration": 852,
            "learn": [
             0.1367563439
            ],
            "passed_time": 518.4209503,
            "remaining_time": 89.34100785,
            "test": [
             0.1389797746
            ]
           },
           {
            "iteration": 853,
            "learn": [
             0.1367526449
            ],
            "passed_time": 519.0707474,
            "remaining_time": 88.74043223,
            "test": [
             0.1389798784
            ]
           },
           {
            "iteration": 854,
            "learn": [
             0.1367471203
            ],
            "passed_time": 519.6882013,
            "remaining_time": 88.13425636,
            "test": [
             0.1389796404
            ]
           },
           {
            "iteration": 855,
            "learn": [
             0.1367428068
            ],
            "passed_time": 520.3581131,
            "remaining_time": 87.53687884,
            "test": [
             0.1389772232
            ]
           },
           {
            "iteration": 856,
            "learn": [
             0.136739961
            ],
            "passed_time": 520.9762766,
            "remaining_time": 86.93069726,
            "test": [
             0.1389770099
            ]
           },
           {
            "iteration": 857,
            "learn": [
             0.1367399073
            ],
            "passed_time": 521.5027654,
            "remaining_time": 86.30931548,
            "test": [
             0.1389770013
            ]
           },
           {
            "iteration": 858,
            "learn": [
             0.1367375388
            ],
            "passed_time": 522.0817461,
            "remaining_time": 85.6967709,
            "test": [
             0.1389770121
            ]
           },
           {
            "iteration": 859,
            "learn": [
             0.1367349495
            ],
            "passed_time": 522.6770808,
            "remaining_time": 85.08696665,
            "test": [
             0.1389768607
            ]
           },
           {
            "iteration": 860,
            "learn": [
             0.1367329926
            ],
            "passed_time": 523.3060104,
            "remaining_time": 84.48261956,
            "test": [
             0.1389772171
            ]
           },
           {
            "iteration": 861,
            "learn": [
             0.1367309343
            ],
            "passed_time": 523.8181147,
            "remaining_time": 83.85951256,
            "test": [
             0.138976629
            ]
           },
           {
            "iteration": 862,
            "learn": [
             0.1367300215
            ],
            "passed_time": 524.4579101,
            "remaining_time": 83.25693358,
            "test": [
             0.1389769546
            ]
           },
           {
            "iteration": 863,
            "learn": [
             0.1367263762
            ],
            "passed_time": 525.0020257,
            "remaining_time": 82.63920775,
            "test": [
             0.1389803791
            ]
           },
           {
            "iteration": 864,
            "learn": [
             0.1367150823
            ],
            "passed_time": 525.6188328,
            "remaining_time": 82.03299703,
            "test": [
             0.1389679015
            ]
           },
           {
            "iteration": 865,
            "learn": [
             0.1367002088
            ],
            "passed_time": 526.3208345,
            "remaining_time": 81.43994437,
            "test": [
             0.1389528609
            ]
           },
           {
            "iteration": 866,
            "learn": [
             0.1366949646
            ],
            "passed_time": 526.9763013,
            "remaining_time": 80.83950182,
            "test": [
             0.1389518544
            ]
           },
           {
            "iteration": 867,
            "learn": [
             0.1366911761
            ],
            "passed_time": 527.6243029,
            "remaining_time": 80.23779722,
            "test": [
             0.1389529891
            ]
           },
           {
            "iteration": 868,
            "learn": [
             0.1366911105
            ],
            "passed_time": 528.1492586,
            "remaining_time": 79.61743714,
            "test": [
             0.1389529939
            ]
           },
           {
            "iteration": 869,
            "learn": [
             0.1366880618
            ],
            "passed_time": 528.8198243,
            "remaining_time": 79.01905421,
            "test": [
             0.1389527734
            ]
           },
           {
            "iteration": 870,
            "learn": [
             0.136685049
            ],
            "passed_time": 529.6645638,
            "remaining_time": 78.44630164,
            "test": [
             0.1389536789
            ]
           },
           {
            "iteration": 871,
            "learn": [
             0.1366682782
            ],
            "passed_time": 530.2810933,
            "remaining_time": 77.83942654,
            "test": [
             0.1389407752
            ]
           },
           {
            "iteration": 872,
            "learn": [
             0.1366640423
            ],
            "passed_time": 530.8971468,
            "remaining_time": 77.23246007,
            "test": [
             0.1389408476
            ]
           },
           {
            "iteration": 873,
            "learn": [
             0.1366595021
            ],
            "passed_time": 531.5393077,
            "remaining_time": 76.62923658,
            "test": [
             0.1389420786
            ]
           },
           {
            "iteration": 874,
            "learn": [
             0.1366235861
            ],
            "passed_time": 532.2141391,
            "remaining_time": 76.03059131,
            "test": [
             0.1389097834
            ]
           },
           {
            "iteration": 875,
            "learn": [
             0.1366173873
            ],
            "passed_time": 532.8591522,
            "remaining_time": 75.42755122,
            "test": [
             0.1389062855
            ]
           },
           {
            "iteration": 876,
            "learn": [
             0.1366130559
            ],
            "passed_time": 533.487885,
            "remaining_time": 74.82213211,
            "test": [
             0.1389073137
            ]
           },
           {
            "iteration": 877,
            "learn": [
             0.1366085396
            ],
            "passed_time": 534.0719683,
            "remaining_time": 74.21045574,
            "test": [
             0.1389069329
            ]
           },
           {
            "iteration": 878,
            "learn": [
             0.1366009627
            ],
            "passed_time": 534.6465216,
            "remaining_time": 73.59753028,
            "test": [
             0.1389026674
            ]
           },
           {
            "iteration": 879,
            "learn": [
             0.1365979617
            ],
            "passed_time": 535.2966629,
            "remaining_time": 72.99499949,
            "test": [
             0.1389024667
            ]
           },
           {
            "iteration": 880,
            "learn": [
             0.1365923595
            ],
            "passed_time": 535.9142752,
            "remaining_time": 72.3879668,
            "test": [
             0.1389049936
            ]
           },
           {
            "iteration": 881,
            "learn": [
             0.1365889529
            ],
            "passed_time": 536.5471554,
            "remaining_time": 71.78295276,
            "test": [
             0.1389037179
            ]
           },
           {
            "iteration": 882,
            "learn": [
             0.1365870199
            ],
            "passed_time": 537.1887021,
            "remaining_time": 71.17902395,
            "test": [
             0.138904435
            ]
           },
           {
            "iteration": 883,
            "learn": [
             0.1365839712
            ],
            "passed_time": 537.7744042,
            "remaining_time": 70.56768199,
            "test": [
             0.1389057238
            ]
           },
           {
            "iteration": 884,
            "learn": [
             0.136583995
            ],
            "passed_time": 538.2713072,
            "remaining_time": 69.94485913,
            "test": [
             0.1389057217
            ]
           },
           {
            "iteration": 885,
            "learn": [
             0.1365817458
            ],
            "passed_time": 538.8766273,
            "remaining_time": 69.33627032,
            "test": [
             0.1389040805
            ]
           },
           {
            "iteration": 886,
            "learn": [
             0.1365781781
            ],
            "passed_time": 539.502978,
            "remaining_time": 68.73036811,
            "test": [
             0.1389032496
            ]
           },
           {
            "iteration": 887,
            "learn": [
             0.1365780826
            ],
            "passed_time": 540.0362106,
            "remaining_time": 68.11267522,
            "test": [
             0.1389032446
            ]
           },
           {
            "iteration": 888,
            "learn": [
             0.1365751175
            ],
            "passed_time": 540.6737068,
            "remaining_time": 67.50819061,
            "test": [
             0.1389033526
            ]
           },
           {
            "iteration": 889,
            "learn": [
             0.1365629705
            ],
            "passed_time": 541.3477548,
            "remaining_time": 66.90814947,
            "test": [
             0.1388943467
            ]
           },
           {
            "iteration": 890,
            "learn": [
             0.1365607272
            ],
            "passed_time": 541.9363389,
            "remaining_time": 66.29748702,
            "test": [
             0.1388950176
            ]
           },
           {
            "iteration": 891,
            "learn": [
             0.136558651
            ],
            "passed_time": 542.5299338,
            "remaining_time": 65.68748078,
            "test": [
             0.1388957212
            ]
           },
           {
            "iteration": 892,
            "learn": [
             0.1365553577
            ],
            "passed_time": 543.1433643,
            "remaining_time": 65.079888,
            "test": [
             0.1388969505
            ]
           },
           {
            "iteration": 893,
            "learn": [
             0.1365552563
            ],
            "passed_time": 543.7179965,
            "remaining_time": 64.46768192,
            "test": [
             0.1388969584
            ]
           },
           {
            "iteration": 894,
            "learn": [
             0.1365533054
            ],
            "passed_time": 544.2890601,
            "remaining_time": 63.85514113,
            "test": [
             0.1389056481
            ]
           },
           {
            "iteration": 895,
            "learn": [
             0.1365532935
            ],
            "passed_time": 544.8959291,
            "remaining_time": 63.24684892,
            "test": [
             0.1389056518
            ]
           },
           {
            "iteration": 896,
            "learn": [
             0.1365520525
            ],
            "passed_time": 545.4193473,
            "remaining_time": 62.62897745,
            "test": [
             0.1389058417
            ]
           },
           {
            "iteration": 897,
            "learn": [
             0.1365494036
            ],
            "passed_time": 546.0351539,
            "remaining_time": 62.02181035,
            "test": [
             0.1389320672
            ]
           },
           {
            "iteration": 898,
            "learn": [
             0.1365479419
            ],
            "passed_time": 546.7016548,
            "remaining_time": 61.42031939,
            "test": [
             0.1389313859
            ]
           },
           {
            "iteration": 899,
            "learn": [
             0.1365439625
            ],
            "passed_time": 547.3229863,
            "remaining_time": 60.81366515,
            "test": [
             0.1389290931
            ]
           },
           {
            "iteration": 900,
            "learn": [
             0.1365438849
            ],
            "passed_time": 547.9217952,
            "remaining_time": 60.20450358,
            "test": [
             0.138929051
            ]
           },
           {
            "iteration": 901,
            "learn": [
             0.1365437716
            ],
            "passed_time": 548.4947861,
            "remaining_time": 59.59255991,
            "test": [
             0.1389290094
            ]
           },
           {
            "iteration": 902,
            "learn": [
             0.1365433718
            ],
            "passed_time": 549.1087098,
            "remaining_time": 58.9850995,
            "test": [
             0.1389286178
            ]
           },
           {
            "iteration": 903,
            "learn": [
             0.1365382469
            ],
            "passed_time": 549.6935604,
            "remaining_time": 58.37453739,
            "test": [
             0.1389292136
            ]
           },
           {
            "iteration": 904,
            "learn": [
             0.1365345778
            ],
            "passed_time": 550.3418955,
            "remaining_time": 57.77069621,
            "test": [
             0.1389283296
            ]
           },
           {
            "iteration": 905,
            "learn": [
             0.1365326746
            ],
            "passed_time": 550.9390736,
            "remaining_time": 57.16144913,
            "test": [
             0.1389193137
            ]
           },
           {
            "iteration": 906,
            "learn": [
             0.1365297393
            ],
            "passed_time": 551.5535551,
            "remaining_time": 56.5540029,
            "test": [
             0.1389188757
            ]
           },
           {
            "iteration": 907,
            "learn": [
             0.1365269949
            ],
            "passed_time": 552.1536196,
            "remaining_time": 55.9450804,
            "test": [
             0.1389180884
            ]
           },
           {
            "iteration": 908,
            "learn": [
             0.1365225919
            ],
            "passed_time": 552.7558754,
            "remaining_time": 55.33639676,
            "test": [
             0.1389181471
            ]
           },
           {
            "iteration": 909,
            "learn": [
             0.1365203725
            ],
            "passed_time": 553.3874977,
            "remaining_time": 54.73063164,
            "test": [
             0.1389184007
            ]
           },
           {
            "iteration": 910,
            "learn": [
             0.1365138635
            ],
            "passed_time": 553.9206617,
            "remaining_time": 54.11519088,
            "test": [
             0.1389129262
            ]
           },
           {
            "iteration": 911,
            "learn": [
             0.1365094187
            ],
            "passed_time": 554.7027394,
            "remaining_time": 53.52394854,
            "test": [
             0.138914432
            ]
           },
           {
            "iteration": 912,
            "learn": [
             0.1365039896
            ],
            "passed_time": 555.337752,
            "remaining_time": 52.91827428,
            "test": [
             0.1389135919
            ]
           },
           {
            "iteration": 913,
            "learn": [
             0.1365007798
            ],
            "passed_time": 555.9295385,
            "remaining_time": 52.30846861,
            "test": [
             0.1389134807
            ]
           },
           {
            "iteration": 914,
            "learn": [
             0.1364983755
            ],
            "passed_time": 556.6657863,
            "remaining_time": 51.71212223,
            "test": [
             0.1389141801
            ]
           },
           {
            "iteration": 915,
            "learn": [
             0.136491413
            ],
            "passed_time": 557.2298422,
            "remaining_time": 51.09967985,
            "test": [
             0.1389081446
            ]
           },
           {
            "iteration": 916,
            "learn": [
             0.1364754
            ],
            "passed_time": 557.9249533,
            "remaining_time": 50.49920515,
            "test": [
             0.1388938181
            ]
           },
           {
            "iteration": 917,
            "learn": [
             0.1364664687
            ],
            "passed_time": 558.6068601,
            "remaining_time": 49.8973448,
            "test": [
             0.1388861896
            ]
           },
           {
            "iteration": 918,
            "learn": [
             0.1364352242
            ],
            "passed_time": 559.2217606,
            "remaining_time": 49.28940436,
            "test": [
             0.1388556627
            ]
           },
           {
            "iteration": 919,
            "learn": [
             0.1364232562
            ],
            "passed_time": 559.8717678,
            "remaining_time": 48.68450155,
            "test": [
             0.1388412142
            ]
           },
           {
            "iteration": 920,
            "learn": [
             0.1363983358
            ],
            "passed_time": 560.5177959,
            "remaining_time": 48.07915947,
            "test": [
             0.1388181885
            ]
           },
           {
            "iteration": 921,
            "learn": [
             0.136393724
            ],
            "passed_time": 561.1827303,
            "remaining_time": 47.47532859,
            "test": [
             0.1388158265
            ]
           },
           {
            "iteration": 922,
            "learn": [
             0.1363909796
            ],
            "passed_time": 561.8068522,
            "remaining_time": 46.86796059,
            "test": [
             0.1388157745
            ]
           },
           {
            "iteration": 923,
            "learn": [
             0.1363818276
            ],
            "passed_time": 562.4214997,
            "remaining_time": 46.25977703,
            "test": [
             0.138808257
            ]
           },
           {
            "iteration": 924,
            "learn": [
             0.136371005
            ],
            "passed_time": 563.0569668,
            "remaining_time": 45.65326758,
            "test": [
             0.1387944082
            ]
           },
           {
            "iteration": 925,
            "learn": [
             0.1363676223
            ],
            "passed_time": 563.6243178,
            "remaining_time": 45.04125218,
            "test": [
             0.138794487
            ]
           },
           {
            "iteration": 926,
            "learn": [
             0.1363644722
            ],
            "passed_time": 564.2720439,
            "remaining_time": 44.43566257,
            "test": [
             0.1387943944
            ]
           },
           {
            "iteration": 927,
            "learn": [
             0.1363627957
            ],
            "passed_time": 564.7930189,
            "remaining_time": 43.82014802,
            "test": [
             0.1387951524
            ]
           },
           {
            "iteration": 928,
            "learn": [
             0.1363584703
            ],
            "passed_time": 565.4543322,
            "remaining_time": 43.21556253,
            "test": [
             0.1387960871
            ]
           },
           {
            "iteration": 929,
            "learn": [
             0.1363547534
            ],
            "passed_time": 566.0429926,
            "remaining_time": 42.60538654,
            "test": [
             0.1387909178
            ]
           },
           {
            "iteration": 930,
            "learn": [
             0.1363544849
            ],
            "passed_time": 566.5276479,
            "remaining_time": 41.98754856,
            "test": [
             0.1387908761
            ]
           },
           {
            "iteration": 931,
            "learn": [
             0.1363507859
            ],
            "passed_time": 567.2120071,
            "remaining_time": 41.38456704,
            "test": [
             0.1387886325
            ]
           },
           {
            "iteration": 932,
            "learn": [
             0.136347785
            ],
            "passed_time": 567.8090018,
            "remaining_time": 40.77513732,
            "test": [
             0.1387881401
            ]
           },
           {
            "iteration": 933,
            "learn": [
             0.1363434178
            ],
            "passed_time": 568.4534916,
            "remaining_time": 40.16909041,
            "test": [
             0.1387883876
            ]
           },
           {
            "iteration": 934,
            "learn": [
             0.1363402557
            ],
            "passed_time": 569.0567417,
            "remaining_time": 39.56009434,
            "test": [
             0.1387901111
            ]
           },
           {
            "iteration": 935,
            "learn": [
             0.1363392117
            ],
            "passed_time": 569.6590088,
            "remaining_time": 38.95104334,
            "test": [
             0.1387895715
            ]
           },
           {
            "iteration": 936,
            "learn": [
             0.1363339913
            ],
            "passed_time": 570.3248291,
            "remaining_time": 38.34627987,
            "test": [
             0.1387911196
            ]
           },
           {
            "iteration": 937,
            "learn": [
             0.1363291528
            ],
            "passed_time": 570.9319678,
            "remaining_time": 37.73750747,
            "test": [
             0.1387913221
            ]
           },
           {
            "iteration": 938,
            "learn": [
             0.1363137185
            ],
            "passed_time": 571.559424,
            "remaining_time": 37.13005843,
            "test": [
             0.1387766692
            ]
           },
           {
            "iteration": 939,
            "learn": [
             0.1363089814
            ],
            "passed_time": 572.1949684,
            "remaining_time": 36.52308309,
            "test": [
             0.1387778823
            ]
           },
           {
            "iteration": 940,
            "learn": [
             0.136307114
            ],
            "passed_time": 572.8300354,
            "remaining_time": 35.91601709,
            "test": [
             0.1387783479
            ]
           },
           {
            "iteration": 941,
            "learn": [
             0.1363046321
            ],
            "passed_time": 573.42054,
            "remaining_time": 35.3061479,
            "test": [
             0.1387768275
            ]
           },
           {
            "iteration": 942,
            "learn": [
             0.1363016908
            ],
            "passed_time": 574.0868503,
            "remaining_time": 34.70090187,
            "test": [
             0.1387768663
            ]
           },
           {
            "iteration": 943,
            "learn": [
             0.1362983379
            ],
            "passed_time": 574.6962312,
            "remaining_time": 34.09214931,
            "test": [
             0.138776306
            ]
           },
           {
            "iteration": 944,
            "learn": [
             0.1362960588
            ],
            "passed_time": 575.2758278,
            "remaining_time": 33.48166194,
            "test": [
             0.1387772539
            ]
           },
           {
            "iteration": 945,
            "learn": [
             0.1362921987
            ],
            "passed_time": 575.9487782,
            "remaining_time": 32.87656873,
            "test": [
             0.1387762459
            ]
           },
           {
            "iteration": 946,
            "learn": [
             0.1362885952
            ],
            "passed_time": 576.4702267,
            "remaining_time": 32.26285323,
            "test": [
             0.1387772552
            ]
           },
           {
            "iteration": 947,
            "learn": [
             0.1362844667
            ],
            "passed_time": 577.155701,
            "remaining_time": 31.65832959,
            "test": [
             0.1387790278
            ]
           },
           {
            "iteration": 948,
            "learn": [
             0.1362807856
            ],
            "passed_time": 577.7769959,
            "remaining_time": 31.05018629,
            "test": [
             0.1387855482
            ]
           },
           {
            "iteration": 949,
            "learn": [
             0.1362768539
            ],
            "passed_time": 578.3687534,
            "remaining_time": 30.4404607,
            "test": [
             0.1387858646
            ]
           },
           {
            "iteration": 950,
            "learn": [
             0.1362768539
            ],
            "passed_time": 578.9294656,
            "remaining_time": 29.82917331,
            "test": [
             0.1387858646
            ]
           },
           {
            "iteration": 951,
            "learn": [
             0.1362733101
            ],
            "passed_time": 579.5062204,
            "remaining_time": 29.21880103,
            "test": [
             0.1387854871
            ]
           },
           {
            "iteration": 952,
            "learn": [
             0.1362698079
            ],
            "passed_time": 580.1344698,
            "remaining_time": 28.61103891,
            "test": [
             0.1387856857
            ]
           },
           {
            "iteration": 953,
            "learn": [
             0.1362663118
            ],
            "passed_time": 580.707325,
            "remaining_time": 28.00056284,
            "test": [
             0.1387865088
            ]
           },
           {
            "iteration": 954,
            "learn": [
             0.1362621594
            ],
            "passed_time": 581.3401267,
            "remaining_time": 27.39299026,
            "test": [
             0.138785531
            ]
           },
           {
            "iteration": 955,
            "learn": [
             0.1362582098
            ],
            "passed_time": 581.9394522,
            "remaining_time": 26.78382416,
            "test": [
             0.1387850275
            ]
           },
           {
            "iteration": 956,
            "learn": [
             0.1362552745
            ],
            "passed_time": 582.5680118,
            "remaining_time": 26.17599217,
            "test": [
             0.1387846003
            ]
           },
           {
            "iteration": 957,
            "learn": [
             0.1362515278
            ],
            "passed_time": 583.3475902,
            "remaining_time": 25.57473777,
            "test": [
             0.1387848426
            ]
           },
           {
            "iteration": 958,
            "learn": [
             0.1362510565
            ],
            "passed_time": 583.8466747,
            "remaining_time": 24.96111956,
            "test": [
             0.1387848912
            ]
           },
           {
            "iteration": 959,
            "learn": [
             0.1362480973
            ],
            "passed_time": 584.5033001,
            "remaining_time": 24.35430417,
            "test": [
             0.1387835166
            ]
           },
           {
            "iteration": 960,
            "learn": [
             0.1362481092
            ],
            "passed_time": 584.9895759,
            "remaining_time": 23.74047186,
            "test": [
             0.1387835165
            ]
           },
           {
            "iteration": 961,
            "learn": [
             0.1362436048
            ],
            "passed_time": 585.5958826,
            "remaining_time": 23.13164609,
            "test": [
             0.1387852148
            ]
           },
           {
            "iteration": 962,
            "learn": [
             0.1362403712
            ],
            "passed_time": 586.2050799,
            "remaining_time": 22.52293661,
            "test": [
             0.1387841784
            ]
           },
           {
            "iteration": 963,
            "learn": [
             0.1362365171
            ],
            "passed_time": 586.9080845,
            "remaining_time": 21.9177293,
            "test": [
             0.138783168
            ]
           },
           {
            "iteration": 964,
            "learn": [
             0.1362317919
            ],
            "passed_time": 587.5443812,
            "remaining_time": 21.30989984,
            "test": [
             0.138784929
            ]
           },
           {
            "iteration": 965,
            "learn": [
             0.1362271682
            ],
            "passed_time": 588.2313081,
            "remaining_time": 20.70379345,
            "test": [
             0.1387865315
            ]
           },
           {
            "iteration": 966,
            "learn": [
             0.1362250383
            ],
            "passed_time": 588.8427523,
            "remaining_time": 20.09494398,
            "test": [
             0.1387869244
            ]
           },
           {
            "iteration": 967,
            "learn": [
             0.1362210052
            ],
            "passed_time": 589.4463603,
            "remaining_time": 19.48583009,
            "test": [
             0.1387885044
            ]
           },
           {
            "iteration": 968,
            "learn": [
             0.1362177835
            ],
            "passed_time": 590.0896895,
            "remaining_time": 18.87799832,
            "test": [
             0.1387905672
            ]
           },
           {
            "iteration": 969,
            "learn": [
             0.1362139652
            ],
            "passed_time": 590.6541279,
            "remaining_time": 18.26765344,
            "test": [
             0.1387922126
            ]
           },
           {
            "iteration": 970,
            "learn": [
             0.1362139175
            ],
            "passed_time": 591.2391143,
            "remaining_time": 17.6580168,
            "test": [
             0.1387922194
            ]
           },
           {
            "iteration": 971,
            "learn": [
             0.1362138817
            ],
            "passed_time": 591.7393351,
            "remaining_time": 17.04598908,
            "test": [
             0.1387922198
            ]
           },
           {
            "iteration": 972,
            "learn": [
             0.1362098188
            ],
            "passed_time": 592.3652164,
            "remaining_time": 16.43767815,
            "test": [
             0.1387916981
            ]
           },
           {
            "iteration": 973,
            "learn": [
             0.1362097054
            ],
            "passed_time": 592.8323561,
            "remaining_time": 15.82509369,
            "test": [
             0.138791694
            ]
           },
           {
            "iteration": 974,
            "learn": [
             0.1362095861
            ],
            "passed_time": 593.3852302,
            "remaining_time": 15.2150059,
            "test": [
             0.138791679
            ]
           },
           {
            "iteration": 975,
            "learn": [
             0.1362095204
            ],
            "passed_time": 593.8451823,
            "remaining_time": 14.60275038,
            "test": [
             0.1387916755
            ]
           },
           {
            "iteration": 976,
            "learn": [
             0.1362094667
            ],
            "passed_time": 594.3892354,
            "remaining_time": 13.9927865,
            "test": [
             0.1387916722
            ]
           },
           {
            "iteration": 977,
            "learn": [
             0.1362094787
            ],
            "passed_time": 594.8459999,
            "remaining_time": 13.38099386,
            "test": [
             0.138791669
            ]
           },
           {
            "iteration": 978,
            "learn": [
             0.1362094071
            ],
            "passed_time": 595.4193397,
            "remaining_time": 12.77201852,
            "test": [
             0.1387916658
            ]
           },
           {
            "iteration": 979,
            "learn": [
             0.1362093713
            ],
            "passed_time": 595.8744987,
            "remaining_time": 12.16070405,
            "test": [
             0.1387916654
            ]
           },
           {
            "iteration": 980,
            "learn": [
             0.1362093534
            ],
            "passed_time": 596.410719,
            "remaining_time": 11.55127794,
            "test": [
             0.1387916651
            ]
           },
           {
            "iteration": 981,
            "learn": [
             0.1362093653
            ],
            "passed_time": 596.8630253,
            "remaining_time": 10.94046279,
            "test": [
             0.1387916647
            ]
           },
           {
            "iteration": 982,
            "learn": [
             0.1362079156
            ],
            "passed_time": 597.5004448,
            "remaining_time": 10.33317148,
            "test": [
             0.138791297
            ]
           },
           {
            "iteration": 983,
            "learn": [
             0.1362079335
            ],
            "passed_time": 598.0130877,
            "remaining_time": 9.723790044,
            "test": [
             0.1387912974
            ]
           },
           {
            "iteration": 984,
            "learn": [
             0.1362078738
            ],
            "passed_time": 598.5859794,
            "remaining_time": 9.115522529,
            "test": [
             0.1387912978
            ]
           },
           {
            "iteration": 985,
            "learn": [
             0.1362078738
            ],
            "passed_time": 599.0734526,
            "remaining_time": 8.506113932,
            "test": [
             0.1387912977
            ]
           },
           {
            "iteration": 986,
            "learn": [
             0.136207838
            ],
            "passed_time": 599.6410358,
            "remaining_time": 7.898007563,
            "test": [
             0.1387912967
            ]
           },
           {
            "iteration": 987,
            "learn": [
             0.1362078559
            ],
            "passed_time": 600.1239019,
            "remaining_time": 7.288954274,
            "test": [
             0.1387912966
            ]
           },
           {
            "iteration": 988,
            "learn": [
             0.1362078201
            ],
            "passed_time": 600.7070864,
            "remaining_time": 6.681271942,
            "test": [
             0.1387912971
            ]
           },
           {
            "iteration": 989,
            "learn": [
             0.136207844
            ],
            "passed_time": 601.1829584,
            "remaining_time": 6.072555136,
            "test": [
             0.138791297
            ]
           },
           {
            "iteration": 990,
            "learn": [
             0.136207838
            ],
            "passed_time": 601.7552299,
            "remaining_time": 5.464981906,
            "test": [
             0.1387912975
            ]
           },
           {
            "iteration": 991,
            "learn": [
             0.1362076531
            ],
            "passed_time": 602.2460081,
            "remaining_time": 4.856822646,
            "test": [
             0.1387913181
            ]
           },
           {
            "iteration": 992,
            "learn": [
             0.136207665
            ],
            "passed_time": 602.8171247,
            "remaining_time": 4.249466136,
            "test": [
             0.1387913172
            ]
           },
           {
            "iteration": 993,
            "learn": [
             0.1362076769
            ],
            "passed_time": 603.3127382,
            "remaining_time": 3.64172679,
            "test": [
             0.1387913178
            ]
           },
           {
            "iteration": 994,
            "learn": [
             0.1362075099
            ],
            "passed_time": 603.8812362,
            "remaining_time": 3.034579076,
            "test": [
             0.1387913191
            ]
           },
           {
            "iteration": 995,
            "learn": [
             0.1362052666
            ],
            "passed_time": 604.4409041,
            "remaining_time": 2.427473511,
            "test": [
             0.1387964413
            ]
           },
           {
            "iteration": 996,
            "learn": [
             0.1362051175
            ],
            "passed_time": 605.0272446,
            "remaining_time": 1.820543364,
            "test": [
             0.1387963426
            ]
           },
           {
            "iteration": 997,
            "learn": [
             0.1362050936
            ],
            "passed_time": 605.5242821,
            "remaining_time": 1.213475515,
            "test": [
             0.1387963429
            ]
           },
           {
            "iteration": 998,
            "learn": [
             0.1362050578
            ],
            "passed_time": 606.1133636,
            "remaining_time": 0.6067200837,
            "test": [
             0.138796343
            ]
           },
           {
            "iteration": 999,
            "learn": [
             0.1362050339
            ],
            "passed_time": 606.6124533,
            "remaining_time": 0,
            "test": [
             0.1387963431
            ]
           }
          ],
          "meta": {
           "iteration_count": 1000,
           "launch_mode": "Train",
           "learn_metrics": [
            {
             "best_value": "Min",
             "name": "Logloss"
            }
           ],
           "learn_sets": [
            "learn"
           ],
           "name": "experiment",
           "parameters": "",
           "test_metrics": [
            {
             "best_value": "Min",
             "name": "Logloss"
            }
           ],
           "test_sets": [
            "test"
           ]
          }
         },
         "passed_iterations": 999,
         "total_iterations": 1000
        },
        "name": "catboost_info",
        "path": "catboost_info"
       }
      },
      "layout": "IPY_MODEL_86d86db5a3f14c0cbffa76dc965d2810"
     }
    }
   }
  }
 },
 "nbformat": 4,
 "nbformat_minor": 1
}
